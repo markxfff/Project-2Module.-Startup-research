{
 "cells": [
  {
   "cell_type": "markdown",
   "metadata": {
    "id": "4mJbK1knrJgz"
   },
   "source": [
    "# Проект: Исследование стартапов"
   ]
  },
  {
   "cell_type": "markdown",
   "metadata": {},
   "source": [
    "## Цели и задачи проекта\n",
    "Необходимо подготовить датасет и проверить, что данные в нём соответствуют здравому смыслу, а также ответить на вопросы заказчика как о предобработке, так и о значении данных для бизнеса.\n",
    "Необходимо принять решения:\n",
    "- по каким столбцам можно объединять данные из разных таблиц;\n",
    "- можно ли доверять данным о сотрудниках стартапов и их образовании;\n",
    "- что означают покупки за 0 или за 1 доллар;\n",
    "- какая цена в зависимости от категории стартапов и количества раундов финансирования перед его покупкой;\n",
    "- как рассчитать и отобразить численные показатели и динамику.\n",
    "\n",
    "\n",
    "Также необходимо в процессе работы выявить показатели и признаки, которые указывают на повышенную вероятность успешной сделки по покупке компании."
   ]
  },
  {
   "cell_type": "markdown",
   "metadata": {},
   "source": [
    "## Описание данных\n",
    "\n",
    "В проекте будут использованы данные из пяти файлов.\n",
    "\n",
    "Файл `company_and_rounds.csv`, расположенный по адресу`https://code.s3.yandex.net/datasets/company_and_rounds.csv`, содержит информацию о компаниях и раундах финансирования, в датасете имеются следующие столбцы:\n",
    "- `company ID` — идентификатор компании;\n",
    "- `name` — название компании;\n",
    "- `category code` — категория области деятельности компании;\n",
    "- `status` — статус компании;\n",
    "- `founded at` — дата инвестирования;\n",
    "- `closed at` — дата закрытия компании;\n",
    "- `domain` — официальный сайт компании;\n",
    "- `network username` — ник компании в сети;\n",
    "- `country code` — код страны компании;\n",
    "- `investment rounds` — число инвестиционных раундов;\n",
    "- `funding rounds` — число раундов финансирования;\n",
    "- `funding total` — сумма финансирования;\n",
    "- `milestones` — вехи финансирования;\n",
    "- `funding round id` — идентификатор этапа финансирования;\n",
    "- `company id` — идентификатор компании;\n",
    "- `funded at` — дата финансирования;\n",
    "- `funding round type` — тип финансирования;\n",
    "- `raised amount` — сумма финансирования;\n",
    "- `pre money valuation` — предварительная денежная оценка;\n",
    "- `participants` — число участников;\n",
    "- `is first round` — является ли раунд первым;\n",
    "- `is last round` — является раунд последним.\n",
    "\n",
    "Файл `acquisition.csv`, расположенный по адресу`https://code.s3.yandex.net/datasets/acquisition.csv`, содержит информацию о покупках одними компаниями других компаний, в датасете имеются следующие столбцы:\n",
    "- `id` — идентификатор покупки;\n",
    "- `acquiring_company_id` — идентификатор покупающей компании;\n",
    "- `acquired_company_id` — идентификатор покупаемой компании;\n",
    "- `term_code` — варианты расчёта;\n",
    "- `price_amount` — сумма сделки;\n",
    "- `acquired_at` — дата сделки.\n",
    "\n",
    "Файл `people.csv`, расположенный по адресу`https://code.s3.yandex.net/datasets/people.csv`, содержит информацию о сотрудниках, в датасете имеются следующие столбцы:\n",
    "- `id` — идентификатор сотрудника;\n",
    "- `first_name` — имя сотрудника;\n",
    "- `last_name` — фамилия сотрудника;\n",
    "- `company_id` — идентификатор компании;\n",
    "- `network_username` — ник в социальных сетях.\n",
    "\n",
    "Файл `education.csv`, расположенный по адресу`https://code.s3.yandex.net/datasets/education.csv`, содержит информацию об образовании сотрудника, в датасете имеются следующие столбцы:\n",
    "- `id` — идентификатор записи об образовании;\n",
    "- `person_id` — идентификатор работника;\n",
    "- `instituition` — название учебного заведения;\n",
    "- `graduated_at` — дата получения образования.\n",
    "\n",
    "Файл `degrees.csv`, расположенный по адресу`https://code.s3.yandex.net/datasets/degrees.csv`, содержит информацию о типе образования сотрудника, в датасете имеются следующие столбцы:\n",
    "- `id` — идентификатор записи;\n",
    "- `object_id` — идентификатор сотрудника;\n",
    "- `degree_type` — тип образования;\n",
    "- `subject` — специальность."
   ]
  },
  {
   "cell_type": "markdown",
   "metadata": {},
   "source": [
    "<a class=\"anchor\" id=\"5-bullet\"></a>\n",
    "### Содержимое проекта\n",
    "\n",
    "<br>\n",
    "\n",
    "1. [Знакомство с данными: загрузка и первичная предобработка](#1-bullet)<br>\n",
    "2. [Предобработка данных](#2-bullet)<br>\n",
    "3. [Исследовательский анализ данных](#3-bullet)<br>\n",
    "4. [Категоризация данных](#4-bullet)\n",
    "\n",
    "---"
   ]
  },
  {
   "cell_type": "markdown",
   "metadata": {
    "id": "xqr6uttCrJg0"
   },
   "source": [
    "\n",
    "## Шаг 1. Знакомство с данными: загрузка и первичная предобработка\n",
    "\n",
    "### 1.1. Вывод общей информации, исправление названия столбцов\n",
    "\n",
    "- Загрузите все данные по проекту.\n",
    "- Проверьте названия столбцов.\n",
    "- Выведите информацию, которая необходима вам для принятия решений о предобработке, для каждого из датасетов."
   ]
  },
  {
   "cell_type": "code",
   "execution_count": 1,
   "metadata": {},
   "outputs": [],
   "source": [
    "import warnings \n",
    "\n",
    "warnings.filterwarnings('ignore')"
   ]
  },
  {
   "cell_type": "code",
   "execution_count": 5,
   "metadata": {},
   "outputs": [],
   "source": [
    "#pip install numpy==1.22.0 -q"
   ]
  },
  {
   "cell_type": "code",
   "execution_count": 4,
   "metadata": {},
   "outputs": [],
   "source": [
    "#pip install matplotlib==3.7.3 -q"
   ]
  },
  {
   "cell_type": "code",
   "execution_count": 5,
   "metadata": {
    "id": "2Tm4Pk__Felf"
   },
   "outputs": [],
   "source": [
    "# Импортируем нудные библиотеки\n",
    "import pandas as pd\n",
    "import numpy as np\n",
    "import matplotlib.pyplot as plt\n",
    "import seaborn as sns"
   ]
  },
  {
   "cell_type": "code",
   "execution_count": 6,
   "metadata": {},
   "outputs": [],
   "source": [
    "#сохраним повторяющийся путь в константу\n",
    "PATH = \"https://code.s3.yandex.net/datasets/\""
   ]
  },
  {
   "cell_type": "code",
   "execution_count": 7,
   "metadata": {
    "id": "oNqJ2qpRFebv"
   },
   "outputs": [],
   "source": [
    "#считаем файл company and rounds\n",
    "company_df = pd.read_csv(PATH + 'company_and_rounds.csv')"
   ]
  },
  {
   "cell_type": "code",
   "execution_count": 8,
   "metadata": {},
   "outputs": [
    {
     "name": "stdout",
     "output_type": "stream",
     "text": [
      "<class 'pandas.core.frame.DataFrame'>\n",
      "RangeIndex: 217774 entries, 0 to 217773\n",
      "Data columns (total 22 columns):\n",
      " #   Column                 Non-Null Count   Dtype  \n",
      "---  ------                 --------------   -----  \n",
      " 0   company  ID            217472 non-null  float64\n",
      " 1   name                   217472 non-null  object \n",
      " 2   category  code         143886 non-null  object \n",
      " 3   status                 217472 non-null  object \n",
      " 4   founded  at            109956 non-null  object \n",
      " 5   closed  at             3449 non-null    object \n",
      " 6   domain                 147159 non-null  object \n",
      " 7   network  username      95534 non-null   object \n",
      " 8   country  code          108607 non-null  object \n",
      " 9   investment  rounds     217472 non-null  float64\n",
      " 10  funding  rounds        217472 non-null  float64\n",
      " 11  funding  total         217472 non-null  float64\n",
      " 12  milestones             217472 non-null  float64\n",
      " 13  funding  round  id     52928 non-null   float64\n",
      " 14  company  id            52928 non-null   float64\n",
      " 15  funded  at             52680 non-null   object \n",
      " 16  funding  round  type   52928 non-null   object \n",
      " 17  raised  amount         52928 non-null   float64\n",
      " 18  pre  money  valuation  52928 non-null   float64\n",
      " 19  participants           52928 non-null   float64\n",
      " 20  is  first  round       52928 non-null   float64\n",
      " 21  is  last  round        52928 non-null   float64\n",
      "dtypes: float64(12), object(10)\n",
      "memory usage: 36.6+ MB\n"
     ]
    }
   ],
   "source": [
    "#выведем общую информацию по датафрему\n",
    "company_df.info()"
   ]
  },
  {
   "cell_type": "code",
   "execution_count": 9,
   "metadata": {},
   "outputs": [
    {
     "data": {
      "text/html": [
       "<div>\n",
       "<style scoped>\n",
       "    .dataframe tbody tr th:only-of-type {\n",
       "        vertical-align: middle;\n",
       "    }\n",
       "\n",
       "    .dataframe tbody tr th {\n",
       "        vertical-align: top;\n",
       "    }\n",
       "\n",
       "    .dataframe thead th {\n",
       "        text-align: right;\n",
       "    }\n",
       "</style>\n",
       "<table border=\"1\" class=\"dataframe\">\n",
       "  <thead>\n",
       "    <tr style=\"text-align: right;\">\n",
       "      <th></th>\n",
       "      <th>company  ID</th>\n",
       "      <th>name</th>\n",
       "      <th>category  code</th>\n",
       "      <th>status</th>\n",
       "      <th>founded  at</th>\n",
       "      <th>closed  at</th>\n",
       "      <th>domain</th>\n",
       "      <th>network  username</th>\n",
       "      <th>country  code</th>\n",
       "      <th>investment  rounds</th>\n",
       "      <th>funding  rounds</th>\n",
       "      <th>funding  total</th>\n",
       "      <th>milestones</th>\n",
       "      <th>funding  round  id</th>\n",
       "      <th>company  id</th>\n",
       "      <th>funded  at</th>\n",
       "      <th>funding  round  type</th>\n",
       "      <th>raised  amount</th>\n",
       "      <th>pre  money  valuation</th>\n",
       "      <th>participants</th>\n",
       "      <th>is  first  round</th>\n",
       "      <th>is  last  round</th>\n",
       "    </tr>\n",
       "  </thead>\n",
       "  <tbody>\n",
       "    <tr>\n",
       "      <th>0</th>\n",
       "      <td>1.0</td>\n",
       "      <td>Wetpaint</td>\n",
       "      <td>web</td>\n",
       "      <td>operating</td>\n",
       "      <td>2005-10-17</td>\n",
       "      <td>NaN</td>\n",
       "      <td>wetpaint-inc.com</td>\n",
       "      <td>BachelrWetpaint</td>\n",
       "      <td>USA</td>\n",
       "      <td>0.0</td>\n",
       "      <td>3.0</td>\n",
       "      <td>39750000.0</td>\n",
       "      <td>5.0</td>\n",
       "      <td>888.0</td>\n",
       "      <td>1.0</td>\n",
       "      <td>2005-10-01</td>\n",
       "      <td>series-a</td>\n",
       "      <td>5250000.0</td>\n",
       "      <td>0.0</td>\n",
       "      <td>2.0</td>\n",
       "      <td>0.0</td>\n",
       "      <td>1.0</td>\n",
       "    </tr>\n",
       "    <tr>\n",
       "      <th>1</th>\n",
       "      <td>1.0</td>\n",
       "      <td>Wetpaint</td>\n",
       "      <td>web</td>\n",
       "      <td>operating</td>\n",
       "      <td>2005-10-17</td>\n",
       "      <td>NaN</td>\n",
       "      <td>wetpaint-inc.com</td>\n",
       "      <td>BachelrWetpaint</td>\n",
       "      <td>USA</td>\n",
       "      <td>0.0</td>\n",
       "      <td>3.0</td>\n",
       "      <td>39750000.0</td>\n",
       "      <td>5.0</td>\n",
       "      <td>889.0</td>\n",
       "      <td>1.0</td>\n",
       "      <td>2007-01-01</td>\n",
       "      <td>series-b</td>\n",
       "      <td>9500000.0</td>\n",
       "      <td>0.0</td>\n",
       "      <td>3.0</td>\n",
       "      <td>0.0</td>\n",
       "      <td>0.0</td>\n",
       "    </tr>\n",
       "    <tr>\n",
       "      <th>2</th>\n",
       "      <td>1.0</td>\n",
       "      <td>Wetpaint</td>\n",
       "      <td>web</td>\n",
       "      <td>operating</td>\n",
       "      <td>2005-10-17</td>\n",
       "      <td>NaN</td>\n",
       "      <td>wetpaint-inc.com</td>\n",
       "      <td>BachelrWetpaint</td>\n",
       "      <td>USA</td>\n",
       "      <td>0.0</td>\n",
       "      <td>3.0</td>\n",
       "      <td>39750000.0</td>\n",
       "      <td>5.0</td>\n",
       "      <td>2312.0</td>\n",
       "      <td>1.0</td>\n",
       "      <td>2008-05-19</td>\n",
       "      <td>series-c+</td>\n",
       "      <td>25000000.0</td>\n",
       "      <td>0.0</td>\n",
       "      <td>4.0</td>\n",
       "      <td>1.0</td>\n",
       "      <td>0.0</td>\n",
       "    </tr>\n",
       "    <tr>\n",
       "      <th>3</th>\n",
       "      <td>10.0</td>\n",
       "      <td>Flektor</td>\n",
       "      <td>games_video</td>\n",
       "      <td>acquired</td>\n",
       "      <td>NaN</td>\n",
       "      <td>NaN</td>\n",
       "      <td>flektor.com</td>\n",
       "      <td>NaN</td>\n",
       "      <td>USA</td>\n",
       "      <td>0.0</td>\n",
       "      <td>0.0</td>\n",
       "      <td>0.0</td>\n",
       "      <td>0.0</td>\n",
       "      <td>NaN</td>\n",
       "      <td>NaN</td>\n",
       "      <td>NaN</td>\n",
       "      <td>NaN</td>\n",
       "      <td>NaN</td>\n",
       "      <td>NaN</td>\n",
       "      <td>NaN</td>\n",
       "      <td>NaN</td>\n",
       "      <td>NaN</td>\n",
       "    </tr>\n",
       "    <tr>\n",
       "      <th>4</th>\n",
       "      <td>100.0</td>\n",
       "      <td>There</td>\n",
       "      <td>games_video</td>\n",
       "      <td>acquired</td>\n",
       "      <td>NaN</td>\n",
       "      <td>NaN</td>\n",
       "      <td>there.com</td>\n",
       "      <td>NaN</td>\n",
       "      <td>USA</td>\n",
       "      <td>0.0</td>\n",
       "      <td>0.0</td>\n",
       "      <td>0.0</td>\n",
       "      <td>4.0</td>\n",
       "      <td>NaN</td>\n",
       "      <td>NaN</td>\n",
       "      <td>NaN</td>\n",
       "      <td>NaN</td>\n",
       "      <td>NaN</td>\n",
       "      <td>NaN</td>\n",
       "      <td>NaN</td>\n",
       "      <td>NaN</td>\n",
       "      <td>NaN</td>\n",
       "    </tr>\n",
       "  </tbody>\n",
       "</table>\n",
       "</div>"
      ],
      "text/plain": [
       "   company  ID      name category  code     status founded  at closed  at  \\\n",
       "0          1.0  Wetpaint            web  operating  2005-10-17        NaN   \n",
       "1          1.0  Wetpaint            web  operating  2005-10-17        NaN   \n",
       "2          1.0  Wetpaint            web  operating  2005-10-17        NaN   \n",
       "3         10.0   Flektor    games_video   acquired         NaN        NaN   \n",
       "4        100.0     There    games_video   acquired         NaN        NaN   \n",
       "\n",
       "             domain network  username country  code  investment  rounds  \\\n",
       "0  wetpaint-inc.com   BachelrWetpaint           USA                 0.0   \n",
       "1  wetpaint-inc.com   BachelrWetpaint           USA                 0.0   \n",
       "2  wetpaint-inc.com   BachelrWetpaint           USA                 0.0   \n",
       "3       flektor.com               NaN           USA                 0.0   \n",
       "4         there.com               NaN           USA                 0.0   \n",
       "\n",
       "   funding  rounds  funding  total  milestones  funding  round  id  \\\n",
       "0              3.0      39750000.0         5.0               888.0   \n",
       "1              3.0      39750000.0         5.0               889.0   \n",
       "2              3.0      39750000.0         5.0              2312.0   \n",
       "3              0.0             0.0         0.0                 NaN   \n",
       "4              0.0             0.0         4.0                 NaN   \n",
       "\n",
       "   company  id  funded  at funding  round  type  raised  amount  \\\n",
       "0          1.0  2005-10-01             series-a       5250000.0   \n",
       "1          1.0  2007-01-01             series-b       9500000.0   \n",
       "2          1.0  2008-05-19            series-c+      25000000.0   \n",
       "3          NaN         NaN                  NaN             NaN   \n",
       "4          NaN         NaN                  NaN             NaN   \n",
       "\n",
       "   pre  money  valuation  participants  is  first  round  is  last  round  \n",
       "0                    0.0           2.0               0.0              1.0  \n",
       "1                    0.0           3.0               0.0              0.0  \n",
       "2                    0.0           4.0               1.0              0.0  \n",
       "3                    NaN           NaN               NaN              NaN  \n",
       "4                    NaN           NaN               NaN              NaN  "
      ]
     },
     "execution_count": 9,
     "metadata": {},
     "output_type": "execute_result"
    }
   ],
   "source": [
    "#настраиваем отображение всех столбцов\n",
    "pd.set_option('display.max_columns', None)\n",
    "company_df.head()"
   ]
  },
  {
   "cell_type": "code",
   "execution_count": 10,
   "metadata": {},
   "outputs": [
    {
     "data": {
      "text/html": [
       "<div>\n",
       "<style scoped>\n",
       "    .dataframe tbody tr th:only-of-type {\n",
       "        vertical-align: middle;\n",
       "    }\n",
       "\n",
       "    .dataframe tbody tr th {\n",
       "        vertical-align: top;\n",
       "    }\n",
       "\n",
       "    .dataframe thead th {\n",
       "        text-align: right;\n",
       "    }\n",
       "</style>\n",
       "<table border=\"1\" class=\"dataframe\">\n",
       "  <thead>\n",
       "    <tr style=\"text-align: right;\">\n",
       "      <th></th>\n",
       "      <th>company  ID</th>\n",
       "      <th>name</th>\n",
       "      <th>category  code</th>\n",
       "      <th>status</th>\n",
       "      <th>founded  at</th>\n",
       "      <th>closed  at</th>\n",
       "      <th>domain</th>\n",
       "      <th>network  username</th>\n",
       "      <th>country  code</th>\n",
       "      <th>investment  rounds</th>\n",
       "      <th>funding  rounds</th>\n",
       "      <th>funding  total</th>\n",
       "      <th>milestones</th>\n",
       "      <th>funding  round  id</th>\n",
       "      <th>company  id</th>\n",
       "      <th>funded  at</th>\n",
       "      <th>funding  round  type</th>\n",
       "      <th>raised  amount</th>\n",
       "      <th>pre  money  valuation</th>\n",
       "      <th>participants</th>\n",
       "      <th>is  first  round</th>\n",
       "      <th>is  last  round</th>\n",
       "    </tr>\n",
       "  </thead>\n",
       "  <tbody>\n",
       "    <tr>\n",
       "      <th>217769</th>\n",
       "      <td>NaN</td>\n",
       "      <td>NaN</td>\n",
       "      <td>NaN</td>\n",
       "      <td>NaN</td>\n",
       "      <td>NaN</td>\n",
       "      <td>NaN</td>\n",
       "      <td>NaN</td>\n",
       "      <td>NaN</td>\n",
       "      <td>NaN</td>\n",
       "      <td>NaN</td>\n",
       "      <td>NaN</td>\n",
       "      <td>NaN</td>\n",
       "      <td>NaN</td>\n",
       "      <td>56454.0</td>\n",
       "      <td>282847.0</td>\n",
       "      <td>2011-01-31</td>\n",
       "      <td>other</td>\n",
       "      <td>5500000.0</td>\n",
       "      <td>0.0</td>\n",
       "      <td>0.0</td>\n",
       "      <td>1.0</td>\n",
       "      <td>1.0</td>\n",
       "    </tr>\n",
       "    <tr>\n",
       "      <th>217770</th>\n",
       "      <td>NaN</td>\n",
       "      <td>NaN</td>\n",
       "      <td>NaN</td>\n",
       "      <td>NaN</td>\n",
       "      <td>NaN</td>\n",
       "      <td>NaN</td>\n",
       "      <td>NaN</td>\n",
       "      <td>NaN</td>\n",
       "      <td>NaN</td>\n",
       "      <td>NaN</td>\n",
       "      <td>NaN</td>\n",
       "      <td>NaN</td>\n",
       "      <td>NaN</td>\n",
       "      <td>56542.0</td>\n",
       "      <td>55477.0</td>\n",
       "      <td>2011-01-13</td>\n",
       "      <td>venture</td>\n",
       "      <td>10633300.0</td>\n",
       "      <td>0.0</td>\n",
       "      <td>0.0</td>\n",
       "      <td>0.0</td>\n",
       "      <td>1.0</td>\n",
       "    </tr>\n",
       "    <tr>\n",
       "      <th>217771</th>\n",
       "      <td>NaN</td>\n",
       "      <td>NaN</td>\n",
       "      <td>NaN</td>\n",
       "      <td>NaN</td>\n",
       "      <td>NaN</td>\n",
       "      <td>NaN</td>\n",
       "      <td>NaN</td>\n",
       "      <td>NaN</td>\n",
       "      <td>NaN</td>\n",
       "      <td>NaN</td>\n",
       "      <td>NaN</td>\n",
       "      <td>NaN</td>\n",
       "      <td>NaN</td>\n",
       "      <td>56543.0</td>\n",
       "      <td>55477.0</td>\n",
       "      <td>2012-05-31</td>\n",
       "      <td>venture</td>\n",
       "      <td>2125720.0</td>\n",
       "      <td>0.0</td>\n",
       "      <td>0.0</td>\n",
       "      <td>1.0</td>\n",
       "      <td>0.0</td>\n",
       "    </tr>\n",
       "    <tr>\n",
       "      <th>217772</th>\n",
       "      <td>NaN</td>\n",
       "      <td>NaN</td>\n",
       "      <td>NaN</td>\n",
       "      <td>NaN</td>\n",
       "      <td>NaN</td>\n",
       "      <td>NaN</td>\n",
       "      <td>NaN</td>\n",
       "      <td>NaN</td>\n",
       "      <td>NaN</td>\n",
       "      <td>NaN</td>\n",
       "      <td>NaN</td>\n",
       "      <td>NaN</td>\n",
       "      <td>NaN</td>\n",
       "      <td>56928.0</td>\n",
       "      <td>283492.0</td>\n",
       "      <td>2013-12-03</td>\n",
       "      <td>venture</td>\n",
       "      <td>3602480.0</td>\n",
       "      <td>0.0</td>\n",
       "      <td>5.0</td>\n",
       "      <td>1.0</td>\n",
       "      <td>1.0</td>\n",
       "    </tr>\n",
       "    <tr>\n",
       "      <th>217773</th>\n",
       "      <td>NaN</td>\n",
       "      <td>NaN</td>\n",
       "      <td>NaN</td>\n",
       "      <td>NaN</td>\n",
       "      <td>NaN</td>\n",
       "      <td>NaN</td>\n",
       "      <td>NaN</td>\n",
       "      <td>NaN</td>\n",
       "      <td>NaN</td>\n",
       "      <td>NaN</td>\n",
       "      <td>NaN</td>\n",
       "      <td>NaN</td>\n",
       "      <td>NaN</td>\n",
       "      <td>57063.0</td>\n",
       "      <td>284191.0</td>\n",
       "      <td>2013-12-04</td>\n",
       "      <td>venture</td>\n",
       "      <td>7000000.0</td>\n",
       "      <td>0.0</td>\n",
       "      <td>4.0</td>\n",
       "      <td>1.0</td>\n",
       "      <td>1.0</td>\n",
       "    </tr>\n",
       "  </tbody>\n",
       "</table>\n",
       "</div>"
      ],
      "text/plain": [
       "        company  ID name category  code status founded  at closed  at domain  \\\n",
       "217769          NaN  NaN            NaN    NaN         NaN        NaN    NaN   \n",
       "217770          NaN  NaN            NaN    NaN         NaN        NaN    NaN   \n",
       "217771          NaN  NaN            NaN    NaN         NaN        NaN    NaN   \n",
       "217772          NaN  NaN            NaN    NaN         NaN        NaN    NaN   \n",
       "217773          NaN  NaN            NaN    NaN         NaN        NaN    NaN   \n",
       "\n",
       "       network  username country  code  investment  rounds  funding  rounds  \\\n",
       "217769               NaN           NaN                 NaN              NaN   \n",
       "217770               NaN           NaN                 NaN              NaN   \n",
       "217771               NaN           NaN                 NaN              NaN   \n",
       "217772               NaN           NaN                 NaN              NaN   \n",
       "217773               NaN           NaN                 NaN              NaN   \n",
       "\n",
       "        funding  total  milestones  funding  round  id  company  id  \\\n",
       "217769             NaN         NaN             56454.0     282847.0   \n",
       "217770             NaN         NaN             56542.0      55477.0   \n",
       "217771             NaN         NaN             56543.0      55477.0   \n",
       "217772             NaN         NaN             56928.0     283492.0   \n",
       "217773             NaN         NaN             57063.0     284191.0   \n",
       "\n",
       "        funded  at funding  round  type  raised  amount  \\\n",
       "217769  2011-01-31                other       5500000.0   \n",
       "217770  2011-01-13              venture      10633300.0   \n",
       "217771  2012-05-31              venture       2125720.0   \n",
       "217772  2013-12-03              venture       3602480.0   \n",
       "217773  2013-12-04              venture       7000000.0   \n",
       "\n",
       "        pre  money  valuation  participants  is  first  round  is  last  round  \n",
       "217769                    0.0           0.0               1.0              1.0  \n",
       "217770                    0.0           0.0               0.0              1.0  \n",
       "217771                    0.0           0.0               1.0              0.0  \n",
       "217772                    0.0           5.0               1.0              1.0  \n",
       "217773                    0.0           4.0               1.0              1.0  "
      ]
     },
     "execution_count": 10,
     "metadata": {},
     "output_type": "execute_result"
    }
   ],
   "source": [
    "#выведем конец таблицы\n",
    "company_df.tail()"
   ]
  },
  {
   "cell_type": "markdown",
   "metadata": {},
   "source": [
    "Датасет company_and_rounds содержит 22 столбца и 217774 строк, в которых представлена информация о различных компаниях и раундах их финансирования.\n",
    "\n",
    "После первчиной оценки можно сделать выводы:\n",
    "- Названия колонок заданы корректно и дают представление о хранящейся в них информации, но стоит привести названия столбцов к единому стилю 'snake_case'. Также, в названиях столбцов встречаются двойные пробелы \n",
    "- Во всех столбцах есть пропуски данных. В столбцах funding  round  id, company  id, funding  round  type, raised  amount, pre  money  valuation, participants, is  first  round, is  last  round заполнено только 52928 строк, а в столбце funded  at заполнено 52680 строки \n",
    "- Не во всех столбцах представлен оптимальный тип данных\n",
    "- Столбцы founded  at, closed  at и funded  at стоит привести к типу datetime\n",
    "- В датасете наблюдается повторяющийся столбец 'company ID' и 'company id' (1 и 15 столбец). В первом случае 217472 заполненных строк из 217774, а company id имеет 52928 строк. Видимо по этим столбцам объединялись два датасета в один\n",
    "- Столбец 'funding total' - это сумма значений столбца 'raised amount', сгруппированного по названию/id компании \n",
    "- Столбцы 'is first round' и 'is last round' по всей видимости перепутаны исходя из первых трех строк датасета для компании Wetpaint, так как в раунде 2005 года значение в столбце 'is last round' равно 1, а в раунде 2008 года значение в столбце 'is last round' равно 0"
   ]
  },
  {
   "cell_type": "code",
   "execution_count": 6,
   "metadata": {},
   "outputs": [],
   "source": [
    "#устанавливаем дополнительную библиотеку\n",
    "#!pip install matplotlib_venn -q"
   ]
  },
  {
   "cell_type": "code",
   "execution_count": 12,
   "metadata": {},
   "outputs": [],
   "source": [
    "#импортируем нужный модуль \n",
    "from matplotlib_venn import venn2"
   ]
  },
  {
   "cell_type": "code",
   "execution_count": 13,
   "metadata": {},
   "outputs": [
    {
     "data": {
      "image/png": "[encoded data removed]",
      "text/plain": [
       "<Figure size 864x432 with 1 Axes>"
      ]
     },
     "metadata": {},
     "output_type": "display_data"
    }
   ],
   "source": [
    "#создадим два множества названий компаний, предварительно убрав пустые значения, и оставив только уникальные\n",
    "plt.figure(figsize=(12, 6))\n",
    "first_id = set(company_df['company  ID'].dropna())\n",
    "second_id = set(company_df['company  id'].dropna())\n",
    "#строим диаграмму Венна\n",
    "venn2([first_id, second_id], set_labels=('company  ID', 'company  id'), set_colors=(\"orange\",\n",
    "                             \"blue\"),alpha=0.7)\n",
    "\n",
    "plt.title(\"Пересечение \")\n",
    "plt.show() "
   ]
  },
  {
   "cell_type": "markdown",
   "metadata": {},
   "source": [
    "Вывод: множество id компаний из столбца company id почти понлностью содержится в множестве company ID, за исключением 232 компаний."
   ]
  },
  {
   "cell_type": "code",
   "execution_count": 14,
   "metadata": {},
   "outputs": [],
   "source": [
    "#изменим навание повторяющегося столбца\n",
    "company_df.rename(columns={'company  id': 'company id2'}, inplace = True)"
   ]
  },
  {
   "cell_type": "code",
   "execution_count": 15,
   "metadata": {},
   "outputs": [],
   "source": [
    "#объявим функцию для приведения названия столбцов к единому стилю\n",
    "def snake_style(col):\n",
    "    col = col.lower()\n",
    "    if ' ' in col:\n",
    "        col = col.replace('  ', '_').replace(' ','_')\n",
    "    return col"
   ]
  },
  {
   "cell_type": "code",
   "execution_count": 16,
   "metadata": {},
   "outputs": [
    {
     "data": {
      "text/plain": [
       "Index(['company_id', 'name', 'category_code', 'status', 'founded_at',\n",
       "       'closed_at', 'domain', 'network_username', 'country_code',\n",
       "       'investment_rounds', 'funding_rounds', 'funding_total', 'milestones',\n",
       "       'funding_round_id', 'company_id2', 'funded_at', 'funding_round_type',\n",
       "       'raised_amount', 'pre_money_valuation', 'participants',\n",
       "       'is_first_round', 'is_last_round'],\n",
       "      dtype='object')"
      ]
     },
     "execution_count": 16,
     "metadata": {},
     "output_type": "execute_result"
    }
   ],
   "source": [
    "#применим функцию к столбцам\n",
    "company_df.columns = pd.Series(company_df.columns).apply(snake_style)\n",
    "company_df.columns"
   ]
  },
  {
   "cell_type": "code",
   "execution_count": 17,
   "metadata": {},
   "outputs": [],
   "source": [
    "#считаем файл acquisition и присвоем его датафрейму\n",
    "acquisition_df = pd.read_csv(PATH + 'acquisition.csv')"
   ]
  },
  {
   "cell_type": "code",
   "execution_count": 18,
   "metadata": {},
   "outputs": [
    {
     "name": "stdout",
     "output_type": "stream",
     "text": [
      "<class 'pandas.core.frame.DataFrame'>\n",
      "RangeIndex: 9407 entries, 0 to 9406\n",
      "Data columns (total 6 columns):\n",
      " #   Column                Non-Null Count  Dtype \n",
      "---  ------                --------------  ----- \n",
      " 0   id                    9407 non-null   int64 \n",
      " 1   acquiring_company_id  9407 non-null   int64 \n",
      " 2   acquired_company_id   9407 non-null   int64 \n",
      " 3   term_code             1831 non-null   object\n",
      " 4   price_amount          9407 non-null   int64 \n",
      " 5   acquired_at           9378 non-null   object\n",
      "dtypes: int64(4), object(2)\n",
      "memory usage: 441.1+ KB\n"
     ]
    }
   ],
   "source": [
    "#выведем общую информацию по датафрему\n",
    "acquisition_df.info()"
   ]
  },
  {
   "cell_type": "code",
   "execution_count": 19,
   "metadata": {},
   "outputs": [
    {
     "data": {
      "text/html": [
       "<div>\n",
       "<style scoped>\n",
       "    .dataframe tbody tr th:only-of-type {\n",
       "        vertical-align: middle;\n",
       "    }\n",
       "\n",
       "    .dataframe tbody tr th {\n",
       "        vertical-align: top;\n",
       "    }\n",
       "\n",
       "    .dataframe thead th {\n",
       "        text-align: right;\n",
       "    }\n",
       "</style>\n",
       "<table border=\"1\" class=\"dataframe\">\n",
       "  <thead>\n",
       "    <tr style=\"text-align: right;\">\n",
       "      <th></th>\n",
       "      <th>id</th>\n",
       "      <th>acquiring_company_id</th>\n",
       "      <th>acquired_company_id</th>\n",
       "      <th>term_code</th>\n",
       "      <th>price_amount</th>\n",
       "      <th>acquired_at</th>\n",
       "    </tr>\n",
       "  </thead>\n",
       "  <tbody>\n",
       "    <tr>\n",
       "      <th>0</th>\n",
       "      <td>1</td>\n",
       "      <td>11</td>\n",
       "      <td>10</td>\n",
       "      <td>NaN</td>\n",
       "      <td>20000000</td>\n",
       "      <td>2007-05-30</td>\n",
       "    </tr>\n",
       "    <tr>\n",
       "      <th>1</th>\n",
       "      <td>7</td>\n",
       "      <td>59</td>\n",
       "      <td>72</td>\n",
       "      <td>cash</td>\n",
       "      <td>60000000</td>\n",
       "      <td>2007-07-01</td>\n",
       "    </tr>\n",
       "    <tr>\n",
       "      <th>2</th>\n",
       "      <td>8</td>\n",
       "      <td>24</td>\n",
       "      <td>132</td>\n",
       "      <td>cash</td>\n",
       "      <td>280000000</td>\n",
       "      <td>2007-05-01</td>\n",
       "    </tr>\n",
       "    <tr>\n",
       "      <th>3</th>\n",
       "      <td>9</td>\n",
       "      <td>59</td>\n",
       "      <td>155</td>\n",
       "      <td>cash</td>\n",
       "      <td>100000000</td>\n",
       "      <td>2007-06-01</td>\n",
       "    </tr>\n",
       "    <tr>\n",
       "      <th>4</th>\n",
       "      <td>10</td>\n",
       "      <td>212</td>\n",
       "      <td>215</td>\n",
       "      <td>cash</td>\n",
       "      <td>25000000</td>\n",
       "      <td>2007-07-01</td>\n",
       "    </tr>\n",
       "  </tbody>\n",
       "</table>\n",
       "</div>"
      ],
      "text/plain": [
       "   id  acquiring_company_id  acquired_company_id term_code  price_amount  \\\n",
       "0   1                    11                   10       NaN      20000000   \n",
       "1   7                    59                   72      cash      60000000   \n",
       "2   8                    24                  132      cash     280000000   \n",
       "3   9                    59                  155      cash     100000000   \n",
       "4  10                   212                  215      cash      25000000   \n",
       "\n",
       "  acquired_at  \n",
       "0  2007-05-30  \n",
       "1  2007-07-01  \n",
       "2  2007-05-01  \n",
       "3  2007-06-01  \n",
       "4  2007-07-01  "
      ]
     },
     "execution_count": 19,
     "metadata": {},
     "output_type": "execute_result"
    }
   ],
   "source": [
    "#выведем первые строки датафрейма\n",
    "acquisition_df.head()"
   ]
  },
  {
   "cell_type": "code",
   "execution_count": 20,
   "metadata": {},
   "outputs": [
    {
     "data": {
      "text/html": [
       "<div>\n",
       "<style scoped>\n",
       "    .dataframe tbody tr th:only-of-type {\n",
       "        vertical-align: middle;\n",
       "    }\n",
       "\n",
       "    .dataframe tbody tr th {\n",
       "        vertical-align: top;\n",
       "    }\n",
       "\n",
       "    .dataframe thead th {\n",
       "        text-align: right;\n",
       "    }\n",
       "</style>\n",
       "<table border=\"1\" class=\"dataframe\">\n",
       "  <thead>\n",
       "    <tr style=\"text-align: right;\">\n",
       "      <th></th>\n",
       "      <th>id</th>\n",
       "      <th>acquiring_company_id</th>\n",
       "      <th>acquired_company_id</th>\n",
       "      <th>term_code</th>\n",
       "      <th>price_amount</th>\n",
       "      <th>acquired_at</th>\n",
       "    </tr>\n",
       "  </thead>\n",
       "  <tbody>\n",
       "    <tr>\n",
       "      <th>9402</th>\n",
       "      <td>10525</td>\n",
       "      <td>267859</td>\n",
       "      <td>285995</td>\n",
       "      <td>stock</td>\n",
       "      <td>222000000</td>\n",
       "      <td>2013-12-11</td>\n",
       "    </tr>\n",
       "    <tr>\n",
       "      <th>9403</th>\n",
       "      <td>10526</td>\n",
       "      <td>285493</td>\n",
       "      <td>286006</td>\n",
       "      <td>NaN</td>\n",
       "      <td>0</td>\n",
       "      <td>2013-12-09</td>\n",
       "    </tr>\n",
       "    <tr>\n",
       "      <th>9404</th>\n",
       "      <td>10527</td>\n",
       "      <td>223792</td>\n",
       "      <td>220208</td>\n",
       "      <td>NaN</td>\n",
       "      <td>26000000000</td>\n",
       "      <td>2007-07-03</td>\n",
       "    </tr>\n",
       "    <tr>\n",
       "      <th>9405</th>\n",
       "      <td>10528</td>\n",
       "      <td>227620</td>\n",
       "      <td>286176</td>\n",
       "      <td>cash</td>\n",
       "      <td>52400000</td>\n",
       "      <td>2013-12-12</td>\n",
       "    </tr>\n",
       "    <tr>\n",
       "      <th>9406</th>\n",
       "      <td>10529</td>\n",
       "      <td>53</td>\n",
       "      <td>92846</td>\n",
       "      <td>NaN</td>\n",
       "      <td>42600000</td>\n",
       "      <td>2013-12-12</td>\n",
       "    </tr>\n",
       "  </tbody>\n",
       "</table>\n",
       "</div>"
      ],
      "text/plain": [
       "         id  acquiring_company_id  acquired_company_id term_code  \\\n",
       "9402  10525                267859               285995     stock   \n",
       "9403  10526                285493               286006       NaN   \n",
       "9404  10527                223792               220208       NaN   \n",
       "9405  10528                227620               286176      cash   \n",
       "9406  10529                    53                92846       NaN   \n",
       "\n",
       "      price_amount acquired_at  \n",
       "9402     222000000  2013-12-11  \n",
       "9403             0  2013-12-09  \n",
       "9404   26000000000  2007-07-03  \n",
       "9405      52400000  2013-12-12  \n",
       "9406      42600000  2013-12-12  "
      ]
     },
     "execution_count": 20,
     "metadata": {},
     "output_type": "execute_result"
    }
   ],
   "source": [
    "#выведем последние строки датафрема\n",
    "acquisition_df.tail()"
   ]
  },
  {
   "cell_type": "markdown",
   "metadata": {},
   "source": [
    "Датасет acquisition.csv содержит 6 столбцов и 9407 строк, в которых представлена информация о покупках одними компаниями других компаний.\n",
    "\n",
    "После первого взгляда на данные можно сделать выводы:\n",
    "- Названия колонок заданы корректно и дают представление о хранящейся в них информации, названия колонок соответствуют стилю \"snake case\"\n",
    "- В двух столбцах имеются пропуски в данных, это столбцы term_code (варианты расчёта) и acquired_at (дата сделки). И если в acquired_at число пропусков минимально (29 из 9407), то пропусков в term_code гораздо больше (7576 или более 80% от общего объема)\n",
    "- Тип данных не везде выбран оптимальным\n",
    "- Столбец acquired_at нужно привести к типу datetime64"
   ]
  },
  {
   "cell_type": "code",
   "execution_count": 21,
   "metadata": {},
   "outputs": [],
   "source": [
    "#выгрузим файл people.csv \n",
    "people_df = pd.read_csv(PATH + 'people.csv')"
   ]
  },
  {
   "cell_type": "code",
   "execution_count": 22,
   "metadata": {},
   "outputs": [
    {
     "name": "stdout",
     "output_type": "stream",
     "text": [
      "<class 'pandas.core.frame.DataFrame'>\n",
      "RangeIndex: 226709 entries, 0 to 226708\n",
      "Data columns (total 5 columns):\n",
      " #   Column            Non-Null Count   Dtype  \n",
      "---  ------            --------------   -----  \n",
      " 0   id                226709 non-null  int64  \n",
      " 1   first_name        226704 non-null  object \n",
      " 2   last_name         226708 non-null  object \n",
      " 3   company_id        34615 non-null   float64\n",
      " 4   network_username  38867 non-null   object \n",
      "dtypes: float64(1), int64(1), object(3)\n",
      "memory usage: 8.6+ MB\n"
     ]
    }
   ],
   "source": [
    "#отобразим общую информацию по датафрейму\n",
    "people_df.info()"
   ]
  },
  {
   "cell_type": "code",
   "execution_count": 23,
   "metadata": {},
   "outputs": [
    {
     "data": {
      "text/html": [
       "<div>\n",
       "<style scoped>\n",
       "    .dataframe tbody tr th:only-of-type {\n",
       "        vertical-align: middle;\n",
       "    }\n",
       "\n",
       "    .dataframe tbody tr th {\n",
       "        vertical-align: top;\n",
       "    }\n",
       "\n",
       "    .dataframe thead th {\n",
       "        text-align: right;\n",
       "    }\n",
       "</style>\n",
       "<table border=\"1\" class=\"dataframe\">\n",
       "  <thead>\n",
       "    <tr style=\"text-align: right;\">\n",
       "      <th></th>\n",
       "      <th>id</th>\n",
       "      <th>first_name</th>\n",
       "      <th>last_name</th>\n",
       "      <th>company_id</th>\n",
       "      <th>network_username</th>\n",
       "    </tr>\n",
       "  </thead>\n",
       "  <tbody>\n",
       "    <tr>\n",
       "      <th>0</th>\n",
       "      <td>10</td>\n",
       "      <td>Mark</td>\n",
       "      <td>Zuckerberg</td>\n",
       "      <td>5.0</td>\n",
       "      <td>NaN</td>\n",
       "    </tr>\n",
       "    <tr>\n",
       "      <th>1</th>\n",
       "      <td>100</td>\n",
       "      <td>Peter</td>\n",
       "      <td>Lester</td>\n",
       "      <td>27.0</td>\n",
       "      <td>NaN</td>\n",
       "    </tr>\n",
       "    <tr>\n",
       "      <th>2</th>\n",
       "      <td>1000</td>\n",
       "      <td>Dr. Steven</td>\n",
       "      <td>E. Saunders</td>\n",
       "      <td>292.0</td>\n",
       "      <td>NaN</td>\n",
       "    </tr>\n",
       "    <tr>\n",
       "      <th>3</th>\n",
       "      <td>10000</td>\n",
       "      <td>Neil</td>\n",
       "      <td>Capel</td>\n",
       "      <td>2526.0</td>\n",
       "      <td>NaN</td>\n",
       "    </tr>\n",
       "    <tr>\n",
       "      <th>4</th>\n",
       "      <td>100000</td>\n",
       "      <td>Sue</td>\n",
       "      <td>Pilsch</td>\n",
       "      <td>NaN</td>\n",
       "      <td>NaN</td>\n",
       "    </tr>\n",
       "  </tbody>\n",
       "</table>\n",
       "</div>"
      ],
      "text/plain": [
       "       id  first_name    last_name  company_id network_username\n",
       "0      10        Mark   Zuckerberg         5.0              NaN\n",
       "1     100       Peter       Lester        27.0              NaN\n",
       "2    1000  Dr. Steven  E. Saunders       292.0              NaN\n",
       "3   10000        Neil        Capel      2526.0              NaN\n",
       "4  100000         Sue       Pilsch         NaN              NaN"
      ]
     },
     "execution_count": 23,
     "metadata": {},
     "output_type": "execute_result"
    }
   ],
   "source": [
    "#отобразим первые строки датафрейма\n",
    "people_df.head()"
   ]
  },
  {
   "cell_type": "code",
   "execution_count": 24,
   "metadata": {},
   "outputs": [
    {
     "data": {
      "text/html": [
       "<div>\n",
       "<style scoped>\n",
       "    .dataframe tbody tr th:only-of-type {\n",
       "        vertical-align: middle;\n",
       "    }\n",
       "\n",
       "    .dataframe tbody tr th {\n",
       "        vertical-align: top;\n",
       "    }\n",
       "\n",
       "    .dataframe thead th {\n",
       "        text-align: right;\n",
       "    }\n",
       "</style>\n",
       "<table border=\"1\" class=\"dataframe\">\n",
       "  <thead>\n",
       "    <tr style=\"text-align: right;\">\n",
       "      <th></th>\n",
       "      <th>id</th>\n",
       "      <th>first_name</th>\n",
       "      <th>last_name</th>\n",
       "      <th>company_id</th>\n",
       "      <th>network_username</th>\n",
       "    </tr>\n",
       "  </thead>\n",
       "  <tbody>\n",
       "    <tr>\n",
       "      <th>226704</th>\n",
       "      <td>99999</td>\n",
       "      <td>Ramon</td>\n",
       "      <td>Peypoch</td>\n",
       "      <td>NaN</td>\n",
       "      <td>NaN</td>\n",
       "    </tr>\n",
       "    <tr>\n",
       "      <th>226705</th>\n",
       "      <td>174088</td>\n",
       "      <td>Dr. Ray</td>\n",
       "      <td>Woods</td>\n",
       "      <td>188200.0</td>\n",
       "      <td>network</td>\n",
       "    </tr>\n",
       "    <tr>\n",
       "      <th>226706</th>\n",
       "      <td>118386</td>\n",
       "      <td>Ricardo</td>\n",
       "      <td>Durand</td>\n",
       "      <td>143419.0</td>\n",
       "      <td>itechsocialnet</td>\n",
       "    </tr>\n",
       "    <tr>\n",
       "      <th>226707</th>\n",
       "      <td>175827</td>\n",
       "      <td>mahesh</td>\n",
       "      <td>kumar</td>\n",
       "      <td>NaN</td>\n",
       "      <td>socialnethubs</td>\n",
       "    </tr>\n",
       "    <tr>\n",
       "      <th>226708</th>\n",
       "      <td>178190</td>\n",
       "      <td>Alex</td>\n",
       "      <td>Smith</td>\n",
       "      <td>NaN</td>\n",
       "      <td>esocialnetlike</td>\n",
       "    </tr>\n",
       "  </tbody>\n",
       "</table>\n",
       "</div>"
      ],
      "text/plain": [
       "            id first_name last_name  company_id network_username\n",
       "226704   99999      Ramon   Peypoch         NaN              NaN\n",
       "226705  174088    Dr. Ray     Woods    188200.0          network\n",
       "226706  118386    Ricardo    Durand    143419.0   itechsocialnet\n",
       "226707  175827     mahesh     kumar         NaN    socialnethubs\n",
       "226708  178190       Alex     Smith         NaN   esocialnetlike"
      ]
     },
     "execution_count": 24,
     "metadata": {},
     "output_type": "execute_result"
    }
   ],
   "source": [
    "#отобразим последние строки датафрейма\n",
    "people_df.tail()"
   ]
  },
  {
   "cell_type": "markdown",
   "metadata": {},
   "source": [
    "Датасет people.csv содержит 5 столбцов и 226709  строк, в которых представлена информация о сотрудниках компаний\n",
    "\n",
    "Первичные выводы:\n",
    "- Названия колонок заданы корректно и дают представление о хранящейся в них информации, названия колонок соответствуют стилю \"snake case\"\n",
    "- В четырех столбцах имеются пропуски в данных, это столбцы first_name (имя сотрудника), last_name (фамилия сотрудника), company_id (идентификатор компании) и network_username (ник в социальных сетях). И если столбцах first_name и last_name число пропусков минимально (только 9 из 226709  и 4 пропуска соответственно), то пропусков в столбцах company_id и network_username пропусков гораздо больше (почти 85% в обоих случаях)"
   ]
  },
  {
   "cell_type": "code",
   "execution_count": 25,
   "metadata": {},
   "outputs": [],
   "source": [
    "#считаем файл education\n",
    "education_df = pd.read_csv(PATH + 'education.csv')"
   ]
  },
  {
   "cell_type": "code",
   "execution_count": 26,
   "metadata": {},
   "outputs": [
    {
     "name": "stdout",
     "output_type": "stream",
     "text": [
      "<class 'pandas.core.frame.DataFrame'>\n",
      "RangeIndex: 109610 entries, 0 to 109609\n",
      "Data columns (total 4 columns):\n",
      " #   Column        Non-Null Count   Dtype \n",
      "---  ------        --------------   ----- \n",
      " 0   id            109610 non-null  int64 \n",
      " 1   person_id     109610 non-null  int64 \n",
      " 2   instituition  109555 non-null  object\n",
      " 3   graduated_at  58054 non-null   object\n",
      "dtypes: int64(2), object(2)\n",
      "memory usage: 3.3+ MB\n"
     ]
    }
   ],
   "source": [
    "#выведем общую информацию по датафрейму\n",
    "education_df.info()"
   ]
  },
  {
   "cell_type": "code",
   "execution_count": 27,
   "metadata": {},
   "outputs": [
    {
     "data": {
      "text/html": [
       "<div>\n",
       "<style scoped>\n",
       "    .dataframe tbody tr th:only-of-type {\n",
       "        vertical-align: middle;\n",
       "    }\n",
       "\n",
       "    .dataframe tbody tr th {\n",
       "        vertical-align: top;\n",
       "    }\n",
       "\n",
       "    .dataframe thead th {\n",
       "        text-align: right;\n",
       "    }\n",
       "</style>\n",
       "<table border=\"1\" class=\"dataframe\">\n",
       "  <thead>\n",
       "    <tr style=\"text-align: right;\">\n",
       "      <th></th>\n",
       "      <th>id</th>\n",
       "      <th>person_id</th>\n",
       "      <th>instituition</th>\n",
       "      <th>graduated_at</th>\n",
       "    </tr>\n",
       "  </thead>\n",
       "  <tbody>\n",
       "    <tr>\n",
       "      <th>0</th>\n",
       "      <td>1</td>\n",
       "      <td>6117</td>\n",
       "      <td>NaN</td>\n",
       "      <td>NaN</td>\n",
       "    </tr>\n",
       "    <tr>\n",
       "      <th>1</th>\n",
       "      <td>2</td>\n",
       "      <td>6136</td>\n",
       "      <td>Washington University, St. Louis</td>\n",
       "      <td>1990-01-01</td>\n",
       "    </tr>\n",
       "    <tr>\n",
       "      <th>2</th>\n",
       "      <td>3</td>\n",
       "      <td>6136</td>\n",
       "      <td>Boston University</td>\n",
       "      <td>1992-01-01</td>\n",
       "    </tr>\n",
       "    <tr>\n",
       "      <th>3</th>\n",
       "      <td>4</td>\n",
       "      <td>6005</td>\n",
       "      <td>University of Greenwich</td>\n",
       "      <td>2006-01-01</td>\n",
       "    </tr>\n",
       "    <tr>\n",
       "      <th>4</th>\n",
       "      <td>5</td>\n",
       "      <td>5832</td>\n",
       "      <td>Rice University</td>\n",
       "      <td>NaN</td>\n",
       "    </tr>\n",
       "  </tbody>\n",
       "</table>\n",
       "</div>"
      ],
      "text/plain": [
       "   id  person_id                      instituition graduated_at\n",
       "0   1       6117                               NaN          NaN\n",
       "1   2       6136  Washington University, St. Louis   1990-01-01\n",
       "2   3       6136                 Boston University   1992-01-01\n",
       "3   4       6005           University of Greenwich   2006-01-01\n",
       "4   5       5832                   Rice University          NaN"
      ]
     },
     "execution_count": 27,
     "metadata": {},
     "output_type": "execute_result"
    }
   ],
   "source": [
    "#выведем первые строки датафрейма\n",
    "education_df.head()"
   ]
  },
  {
   "cell_type": "code",
   "execution_count": 28,
   "metadata": {},
   "outputs": [
    {
     "data": {
      "text/html": [
       "<div>\n",
       "<style scoped>\n",
       "    .dataframe tbody tr th:only-of-type {\n",
       "        vertical-align: middle;\n",
       "    }\n",
       "\n",
       "    .dataframe tbody tr th {\n",
       "        vertical-align: top;\n",
       "    }\n",
       "\n",
       "    .dataframe thead th {\n",
       "        text-align: right;\n",
       "    }\n",
       "</style>\n",
       "<table border=\"1\" class=\"dataframe\">\n",
       "  <thead>\n",
       "    <tr style=\"text-align: right;\">\n",
       "      <th></th>\n",
       "      <th>id</th>\n",
       "      <th>person_id</th>\n",
       "      <th>instituition</th>\n",
       "      <th>graduated_at</th>\n",
       "    </tr>\n",
       "  </thead>\n",
       "  <tbody>\n",
       "    <tr>\n",
       "      <th>109605</th>\n",
       "      <td>109606</td>\n",
       "      <td>268589</td>\n",
       "      <td>American Institute of Certtified Public Accoun...</td>\n",
       "      <td>NaN</td>\n",
       "    </tr>\n",
       "    <tr>\n",
       "      <th>109606</th>\n",
       "      <td>109607</td>\n",
       "      <td>268527</td>\n",
       "      <td>South China University of Technology</td>\n",
       "      <td>NaN</td>\n",
       "    </tr>\n",
       "    <tr>\n",
       "      <th>109607</th>\n",
       "      <td>109608</td>\n",
       "      <td>268527</td>\n",
       "      <td>Clarkson University</td>\n",
       "      <td>NaN</td>\n",
       "    </tr>\n",
       "    <tr>\n",
       "      <th>109608</th>\n",
       "      <td>109609</td>\n",
       "      <td>268528</td>\n",
       "      <td>Colorado State University</td>\n",
       "      <td>NaN</td>\n",
       "    </tr>\n",
       "    <tr>\n",
       "      <th>109609</th>\n",
       "      <td>109610</td>\n",
       "      <td>268528</td>\n",
       "      <td>University of San Diego School of Law</td>\n",
       "      <td>NaN</td>\n",
       "    </tr>\n",
       "  </tbody>\n",
       "</table>\n",
       "</div>"
      ],
      "text/plain": [
       "            id  person_id                                       instituition  \\\n",
       "109605  109606     268589  American Institute of Certtified Public Accoun...   \n",
       "109606  109607     268527               South China University of Technology   \n",
       "109607  109608     268527                                Clarkson University   \n",
       "109608  109609     268528                          Colorado State University   \n",
       "109609  109610     268528              University of San Diego School of Law   \n",
       "\n",
       "       graduated_at  \n",
       "109605          NaN  \n",
       "109606          NaN  \n",
       "109607          NaN  \n",
       "109608          NaN  \n",
       "109609          NaN  "
      ]
     },
     "execution_count": 28,
     "metadata": {},
     "output_type": "execute_result"
    }
   ],
   "source": [
    "#выведем последние строки датафрейма\n",
    "education_df.tail()"
   ]
  },
  {
   "cell_type": "markdown",
   "metadata": {},
   "source": [
    "Датасет education.csv содержит 4 столбца и 109610 строк, в которых представлена информация об образовании сотрудника\n",
    "\n",
    "Первичные выводы:\n",
    "- Названия колонок заданы корректно и дают представление о хранящейся в них информации, названия колонок соответствуют стилю \"snake case\"\n",
    "- В двух столбцах имеются пропуски в данных, это столбцы instituition (название учебного заведения) и graduated_at (дата получения образования). И если в instituition число пропусков минимально (55 из 109610), то пропусков в graduated_at гораздо больше (58054 или почти 50% от общего объема)\n",
    "- Тип данных не везде выбран оптимальным\n",
    "- Столбец graduated_at нужно привести к типу datetime64"
   ]
  },
  {
   "cell_type": "code",
   "execution_count": 29,
   "metadata": {},
   "outputs": [],
   "source": [
    "#считаем файл degrees\n",
    "degrees_df = pd.read_csv(PATH + 'degrees.csv')"
   ]
  },
  {
   "cell_type": "code",
   "execution_count": 30,
   "metadata": {},
   "outputs": [
    {
     "name": "stdout",
     "output_type": "stream",
     "text": [
      "<class 'pandas.core.frame.DataFrame'>\n",
      "RangeIndex: 109610 entries, 0 to 109609\n",
      "Data columns (total 4 columns):\n",
      " #   Column       Non-Null Count   Dtype \n",
      "---  ------       --------------   ----- \n",
      " 0   id           109610 non-null  int64 \n",
      " 1   object_id    109610 non-null  object\n",
      " 2   degree_type  98392 non-null   object\n",
      " 3   subject      81298 non-null   object\n",
      "dtypes: int64(1), object(3)\n",
      "memory usage: 3.3+ MB\n"
     ]
    }
   ],
   "source": [
    "#выведем общую информацию о датафрейме\n",
    "degrees_df.info()"
   ]
  },
  {
   "cell_type": "code",
   "execution_count": 31,
   "metadata": {},
   "outputs": [
    {
     "data": {
      "text/html": [
       "<div>\n",
       "<style scoped>\n",
       "    .dataframe tbody tr th:only-of-type {\n",
       "        vertical-align: middle;\n",
       "    }\n",
       "\n",
       "    .dataframe tbody tr th {\n",
       "        vertical-align: top;\n",
       "    }\n",
       "\n",
       "    .dataframe thead th {\n",
       "        text-align: right;\n",
       "    }\n",
       "</style>\n",
       "<table border=\"1\" class=\"dataframe\">\n",
       "  <thead>\n",
       "    <tr style=\"text-align: right;\">\n",
       "      <th></th>\n",
       "      <th>id</th>\n",
       "      <th>object_id</th>\n",
       "      <th>degree_type</th>\n",
       "      <th>subject</th>\n",
       "    </tr>\n",
       "  </thead>\n",
       "  <tbody>\n",
       "    <tr>\n",
       "      <th>0</th>\n",
       "      <td>1</td>\n",
       "      <td>p:6117</td>\n",
       "      <td>MBA</td>\n",
       "      <td>NaN</td>\n",
       "    </tr>\n",
       "    <tr>\n",
       "      <th>1</th>\n",
       "      <td>2</td>\n",
       "      <td>p:6136</td>\n",
       "      <td>BA</td>\n",
       "      <td>English, French</td>\n",
       "    </tr>\n",
       "    <tr>\n",
       "      <th>2</th>\n",
       "      <td>3</td>\n",
       "      <td>p:6136</td>\n",
       "      <td>MS</td>\n",
       "      <td>Mass Communication</td>\n",
       "    </tr>\n",
       "    <tr>\n",
       "      <th>3</th>\n",
       "      <td>4</td>\n",
       "      <td>p:6005</td>\n",
       "      <td>MS</td>\n",
       "      <td>Internet Technology</td>\n",
       "    </tr>\n",
       "    <tr>\n",
       "      <th>4</th>\n",
       "      <td>5</td>\n",
       "      <td>p:5832</td>\n",
       "      <td>BCS</td>\n",
       "      <td>Computer Science, Psychology</td>\n",
       "    </tr>\n",
       "  </tbody>\n",
       "</table>\n",
       "</div>"
      ],
      "text/plain": [
       "   id object_id degree_type                       subject\n",
       "0   1    p:6117         MBA                           NaN\n",
       "1   2    p:6136          BA               English, French\n",
       "2   3    p:6136          MS            Mass Communication\n",
       "3   4    p:6005          MS           Internet Technology\n",
       "4   5    p:5832         BCS  Computer Science, Psychology"
      ]
     },
     "execution_count": 31,
     "metadata": {},
     "output_type": "execute_result"
    }
   ],
   "source": [
    "#выведем первые строчки датафрейма \n",
    "degrees_df.head()"
   ]
  },
  {
   "cell_type": "code",
   "execution_count": 32,
   "metadata": {},
   "outputs": [
    {
     "data": {
      "text/html": [
       "<div>\n",
       "<style scoped>\n",
       "    .dataframe tbody tr th:only-of-type {\n",
       "        vertical-align: middle;\n",
       "    }\n",
       "\n",
       "    .dataframe tbody tr th {\n",
       "        vertical-align: top;\n",
       "    }\n",
       "\n",
       "    .dataframe thead th {\n",
       "        text-align: right;\n",
       "    }\n",
       "</style>\n",
       "<table border=\"1\" class=\"dataframe\">\n",
       "  <thead>\n",
       "    <tr style=\"text-align: right;\">\n",
       "      <th></th>\n",
       "      <th>id</th>\n",
       "      <th>object_id</th>\n",
       "      <th>degree_type</th>\n",
       "      <th>subject</th>\n",
       "    </tr>\n",
       "  </thead>\n",
       "  <tbody>\n",
       "    <tr>\n",
       "      <th>109605</th>\n",
       "      <td>109606</td>\n",
       "      <td>p:268589</td>\n",
       "      <td>CPA</td>\n",
       "      <td>NaN</td>\n",
       "    </tr>\n",
       "    <tr>\n",
       "      <th>109606</th>\n",
       "      <td>109607</td>\n",
       "      <td>p:268527</td>\n",
       "      <td>MS &amp; BS</td>\n",
       "      <td>Engineering</td>\n",
       "    </tr>\n",
       "    <tr>\n",
       "      <th>109607</th>\n",
       "      <td>109608</td>\n",
       "      <td>p:268527</td>\n",
       "      <td>PhD</td>\n",
       "      <td>Engineering</td>\n",
       "    </tr>\n",
       "    <tr>\n",
       "      <th>109608</th>\n",
       "      <td>109609</td>\n",
       "      <td>p:268528</td>\n",
       "      <td>B.S.</td>\n",
       "      <td>Electrical Engineering</td>\n",
       "    </tr>\n",
       "    <tr>\n",
       "      <th>109609</th>\n",
       "      <td>109610</td>\n",
       "      <td>p:268528</td>\n",
       "      <td>J.D.</td>\n",
       "      <td>NaN</td>\n",
       "    </tr>\n",
       "  </tbody>\n",
       "</table>\n",
       "</div>"
      ],
      "text/plain": [
       "            id object_id degree_type                 subject\n",
       "109605  109606  p:268589         CPA                     NaN\n",
       "109606  109607  p:268527     MS & BS             Engineering\n",
       "109607  109608  p:268527         PhD             Engineering\n",
       "109608  109609  p:268528        B.S.  Electrical Engineering\n",
       "109609  109610  p:268528        J.D.                     NaN"
      ]
     },
     "execution_count": 32,
     "metadata": {},
     "output_type": "execute_result"
    }
   ],
   "source": [
    "#выведем последние строчки датафрейма\n",
    "degrees_df.tail()"
   ]
  },
  {
   "cell_type": "markdown",
   "metadata": {},
   "source": [
    "Датасет degrees.csv содержит 4 столбца и 109610 строк, в которых представлена информация о типе образования сотрудника\n",
    "\n",
    "Первичный анализ:\n",
    "- Названия колонок заданы корректно и дают представление о хранящейся в них информации, названия колонок соответствуют стилю \"snake case\"\n",
    "- В двух столбцах имеются пропуски в данных, это столбцы degree_type (тип образования) и subject (специальность). Число пропусков в данных столбцах составляет примерно 10% и 25% соотвественно\n",
    "- Столбец object_id схож со столбцом person_id датафрейма education. По данным столбцам можно будет сделать объединение таблиц, но только после удаления префикса 'p:' в столбце object_id"
   ]
  },
  {
   "cell_type": "markdown",
   "metadata": {
    "id": "mg2gEwh0rJg0"
   },
   "source": [
    "### 1.2. Смена типов и анализ пропусков\n",
    "\n",
    "- Обработайте типы данных в столбцах, которые хранят значения даты и времени, если это необходимо.\n",
    "- Оцените полноту данных — сделайте предварительный вывод, достаточно ли данных для решения задач проекта."
   ]
  },
  {
   "cell_type": "code",
   "execution_count": 33,
   "metadata": {
    "id": "FsL0A8RBrJg1",
    "vscode": {
     "languageId": "plaintext"
    }
   },
   "outputs": [
    {
     "data": {
      "text/plain": [
       "company_id                    float64\n",
       "name                           object\n",
       "category_code                  object\n",
       "status                         object\n",
       "founded_at             datetime64[ns]\n",
       "closed_at              datetime64[ns]\n",
       "domain                         object\n",
       "network_username               object\n",
       "country_code                   object\n",
       "investment_rounds             float64\n",
       "funding_rounds                float64\n",
       "funding_total                 float64\n",
       "milestones                    float64\n",
       "funding_round_id              float64\n",
       "company_id2                   float64\n",
       "funded_at              datetime64[ns]\n",
       "funding_round_type             object\n",
       "raised_amount                 float64\n",
       "pre_money_valuation           float64\n",
       "participants                  float64\n",
       "is_first_round                float64\n",
       "is_last_round                 float64\n",
       "dtype: object"
      ]
     },
     "execution_count": 33,
     "metadata": {},
     "output_type": "execute_result"
    }
   ],
   "source": [
    "#приведем столбцы датафрейма company_df с типом данных object к типу datetime64\n",
    "company_df['founded_at'] = pd.to_datetime(company_df['founded_at'])\n",
    "company_df['closed_at'] = pd.to_datetime(company_df['closed_at'])\n",
    "company_df['funded_at'] = pd.to_datetime(company_df['funded_at'])\n",
    "company_df.dtypes"
   ]
  },
  {
   "cell_type": "code",
   "execution_count": 34,
   "metadata": {
    "id": "46VskrGyFeJ-"
   },
   "outputs": [
    {
     "data": {
      "text/plain": [
       "'Количество пропусков в стоблце company_id: 0'"
      ]
     },
     "execution_count": 34,
     "metadata": {},
     "output_type": "execute_result"
    }
   ],
   "source": [
    "#заменим пропущенные значения столбца company_id на значения столбца company_id2\n",
    "missing_num = company_df['company_id'].isna()\n",
    "company_df.loc[missing_num, 'company_id'] = company_df.loc[missing_num, 'company_id2']\n",
    "f\"Количество пропусков в стоблце company_id: {company_df['company_id'].isna().sum()}\""
   ]
  },
  {
   "cell_type": "code",
   "execution_count": 35,
   "metadata": {},
   "outputs": [
    {
     "data": {
      "text/plain": [
       "196785"
      ]
     },
     "execution_count": 35,
     "metadata": {},
     "output_type": "execute_result"
    }
   ],
   "source": [
    "#выведем количество уникальных зачений в столбце company_id\n",
    "company_df['company_id'].nunique()"
   ]
  },
  {
   "cell_type": "code",
   "execution_count": 36,
   "metadata": {},
   "outputs": [
    {
     "data": {
      "text/plain": [
       "196506"
      ]
     },
     "execution_count": 36,
     "metadata": {},
     "output_type": "execute_result"
    }
   ],
   "source": [
    "##выведем количество уникальных зачений в столбце name\n",
    "company_df['name'].nunique()"
   ]
  },
  {
   "cell_type": "code",
   "execution_count": 37,
   "metadata": {
    "id": "DEg1tl8DFeBn"
   },
   "outputs": [
    {
     "data": {
      "text/plain": [
       "0"
      ]
     },
     "execution_count": 37,
     "metadata": {},
     "output_type": "execute_result"
    }
   ],
   "source": [
    "#проверяем наличие полных дубликатов в датафрейме company_df\n",
    "company_df.duplicated().sum()"
   ]
  },
  {
   "cell_type": "code",
   "execution_count": 38,
   "metadata": {},
   "outputs": [],
   "source": [
    "#приведем столбец acquired_at к формату datetime64\n",
    "acquisition_df['acquired_at'] = pd.to_datetime(acquisition_df['acquired_at'])"
   ]
  },
  {
   "cell_type": "code",
   "execution_count": 39,
   "metadata": {},
   "outputs": [
    {
     "name": "stdout",
     "output_type": "stream",
     "text": [
      "<class 'pandas.core.frame.DataFrame'>\n",
      "RangeIndex: 9407 entries, 0 to 9406\n",
      "Data columns (total 6 columns):\n",
      " #   Column                Non-Null Count  Dtype         \n",
      "---  ------                --------------  -----         \n",
      " 0   id                    9407 non-null   int64         \n",
      " 1   acquiring_company_id  9407 non-null   int64         \n",
      " 2   acquired_company_id   9407 non-null   int64         \n",
      " 3   term_code             1831 non-null   object        \n",
      " 4   price_amount          9407 non-null   int64         \n",
      " 5   acquired_at           9378 non-null   datetime64[ns]\n",
      "dtypes: datetime64[ns](1), int64(4), object(1)\n",
      "memory usage: 441.1+ KB\n"
     ]
    }
   ],
   "source": [
    "#проверим изменения\n",
    "acquisition_df.info()"
   ]
  },
  {
   "cell_type": "code",
   "execution_count": 40,
   "metadata": {},
   "outputs": [
    {
     "data": {
      "text/plain": [
       "9407"
      ]
     },
     "execution_count": 40,
     "metadata": {},
     "output_type": "execute_result"
    }
   ],
   "source": [
    "#выведем количество уникальных зачений в столбце id\n",
    "acquisition_df['id'].nunique()"
   ]
  },
  {
   "cell_type": "code",
   "execution_count": 41,
   "metadata": {},
   "outputs": [
    {
     "data": {
      "text/plain": [
       "0"
      ]
     },
     "execution_count": 41,
     "metadata": {},
     "output_type": "execute_result"
    }
   ],
   "source": [
    "#проверяем наличие полных дубликатов в датафрейме acquisition_df\n",
    "acquisition_df.duplicated().sum()"
   ]
  },
  {
   "cell_type": "code",
   "execution_count": 42,
   "metadata": {},
   "outputs": [],
   "source": [
    "#приведем столбец graduated_at к формату datetime64\n",
    "education_df['graduated_at'] = pd.to_datetime(education_df['graduated_at'])"
   ]
  },
  {
   "cell_type": "code",
   "execution_count": 43,
   "metadata": {},
   "outputs": [
    {
     "name": "stdout",
     "output_type": "stream",
     "text": [
      "<class 'pandas.core.frame.DataFrame'>\n",
      "RangeIndex: 109610 entries, 0 to 109609\n",
      "Data columns (total 4 columns):\n",
      " #   Column        Non-Null Count   Dtype         \n",
      "---  ------        --------------   -----         \n",
      " 0   id            109610 non-null  int64         \n",
      " 1   person_id     109610 non-null  int64         \n",
      " 2   instituition  109555 non-null  object        \n",
      " 3   graduated_at  58054 non-null   datetime64[ns]\n",
      "dtypes: datetime64[ns](1), int64(2), object(1)\n",
      "memory usage: 3.3+ MB\n"
     ]
    }
   ],
   "source": [
    "#проверим изменения\n",
    "education_df.info()"
   ]
  },
  {
   "cell_type": "code",
   "execution_count": 44,
   "metadata": {},
   "outputs": [
    {
     "data": {
      "text/plain": [
       "109610"
      ]
     },
     "execution_count": 44,
     "metadata": {},
     "output_type": "execute_result"
    }
   ],
   "source": [
    "#выведем количество уникальных зачений в столбце id\n",
    "education_df['id'].nunique()"
   ]
  },
  {
   "cell_type": "code",
   "execution_count": 45,
   "metadata": {},
   "outputs": [
    {
     "data": {
      "text/plain": [
       "0"
      ]
     },
     "execution_count": 45,
     "metadata": {},
     "output_type": "execute_result"
    }
   ],
   "source": [
    "#проверяем наличие полных дубликатов в датафрейме education_df\n",
    "education_df.duplicated().sum()"
   ]
  },
  {
   "cell_type": "code",
   "execution_count": 46,
   "metadata": {},
   "outputs": [
    {
     "data": {
      "text/plain": [
       "109610"
      ]
     },
     "execution_count": 46,
     "metadata": {},
     "output_type": "execute_result"
    }
   ],
   "source": [
    "#выведем количество уникальных зачений в столбце id\n",
    "degrees_df['id'].nunique()"
   ]
  },
  {
   "cell_type": "code",
   "execution_count": 47,
   "metadata": {},
   "outputs": [],
   "source": [
    "#устанавливаем дополнительную библиотеку\n",
    "!pip install missingno -q"
   ]
  },
  {
   "cell_type": "code",
   "execution_count": 48,
   "metadata": {},
   "outputs": [],
   "source": [
    "#импортируем ее\n",
    "import missingno as msno"
   ]
  },
  {
   "cell_type": "code",
   "execution_count": 49,
   "metadata": {},
   "outputs": [
    {
     "data": {
      "text/plain": [
       "<Axes: >"
      ]
     },
     "execution_count": 49,
     "metadata": {},
     "output_type": "execute_result"
    },
    {
     "data": {
      "image/png": "[encoded data removed]",
      "text/plain": [
       "<Figure size 1800x720 with 3 Axes>"
      ]
     },
     "metadata": {
      "needs_background": "light"
     },
     "output_type": "display_data"
    }
   ],
   "source": [
    "#строим столбчатую диаграмму с представлением пропущенных значений по столюцам датафрейма company_df\n",
    "msno.bar(company_df)"
   ]
  },
  {
   "cell_type": "code",
   "execution_count": 50,
   "metadata": {},
   "outputs": [
    {
     "data": {
      "text/plain": [
       "<Axes: >"
      ]
     },
     "execution_count": 50,
     "metadata": {},
     "output_type": "execute_result"
    },
    {
     "data": {
      "image/png": "[encoded data removed]",
      "text/plain": [
       "<Figure size 1440x864 with 2 Axes>"
      ]
     },
     "metadata": {
      "needs_background": "light"
     },
     "output_type": "display_data"
    }
   ],
   "source": [
    "#строим тепловую карту корелляции пропусков в датафрейме company_df\n",
    "msno.heatmap(company_df)"
   ]
  },
  {
   "cell_type": "markdown",
   "metadata": {},
   "source": [
    "Вывод: По множеству значений 1 после столбца milestones, можно смело предположить, что датафрейм company_df состоит из двух, которые были соеденены по ключам company_id и company_id2. Также, наблюдается сильная зависимость пропущенных значений в парах category_code -- domain, category_code -- founded_at, founded_at -- domain."
   ]
  },
  {
   "cell_type": "markdown",
   "metadata": {
    "id": "u60cHsn6rJg1"
   },
   "source": [
    "## Шаг 2. Предобработка данных, предварительное исследование"
   ]
  },
  {
   "cell_type": "markdown",
   "metadata": {
    "id": "g2bHIIjcrJg1"
   },
   "source": [
    "\n",
    "### 2.1. Раунды финансирования по годам\n",
    "\n",
    "Задание необходимо выполнить без объединения и дополнительной предобработки на основе датасета `company_and_rounds.csv`.\n",
    "\n",
    "- Составьте сводную таблицу по годам, в которой на основании столбца `raised_amount` для каждого года указан:\n",
    "    - типичный размер средств, выделяемый в рамках одного раунда;\n",
    "    - общее количество раундов финансирования за этот год.\n",
    "    \n",
    "- Оставьте в таблице информацию только для тех лет, для которых есть информация о более чем 50 раундах финансирования.\n",
    "- На основе получившейся таблицы постройте график, который будет отражать динамику типичного размера средств, которые стартапы получали в рамках одного раунда финансирования.\n",
    "\n",
    "На основе полученных данных ответьте на вопросы:\n",
    "\n",
    "- В каком году типичный размер собранных в рамках одного раунда средств был максимален?\n",
    "- Какая тенденция по количеству раундов и выделяемых в рамках каждого раунда средств наблюдалась в 2013 году?"
   ]
  },
  {
   "cell_type": "code",
   "execution_count": 51,
   "metadata": {
    "id": "Cf5IjfOQrJg1",
    "vscode": {
     "languageId": "plaintext"
    }
   },
   "outputs": [
    {
     "name": "stdout",
     "output_type": "stream",
     "text": [
      " funded_at  typical_raised_amount  round_count\n",
      "      1999              2000000.0           76\n",
      "      2000              4200000.0          125\n",
      "      2001              3000000.0           96\n",
      "      2002              4200000.0          116\n",
      "      2003              3000000.0          159\n",
      "      2004              5000000.0          291\n",
      "      2005              5500000.0         1633\n",
      "      2006              5000000.0         2436\n",
      "      2007              3973320.0         3279\n",
      "      2008              3110000.0         3774\n",
      "      2009              2000000.0         4151\n",
      "      2010              1602500.0         6221\n",
      "      2011              1200000.0         9204\n",
      "      2012              1000000.0         9970\n",
      "      2013              1200000.0        11072\n"
     ]
    }
   ],
   "source": [
    "#создаем сводную таблицу \n",
    "pivot_table = (company_df.groupby(company_df['funded_at'].dt.year).agg(\n",
    "        typical_raised_amount=pd.NamedAgg(column=\"raised_amount\", aggfunc=\"median\"),\n",
    "        round_count=pd.NamedAgg(column=\"funding_round_id\", aggfunc=\"count\")).reset_index())\n",
    "\n",
    "pivot_table['funded_at'] = pivot_table['funded_at'].astype(int)\n",
    "\n",
    "filtered_pivot = pivot_table[pivot_table[\"round_count\"] > 50].copy()\n",
    "\n",
    "print(filtered_pivot.to_string(index=False))"
   ]
  },
  {
   "cell_type": "code",
   "execution_count": 52,
   "metadata": {},
   "outputs": [],
   "source": [
    "filtered_pivot['typical_raised_amount'] = filtered_pivot['typical_raised_amount']/1000000"
   ]
  },
  {
   "cell_type": "code",
   "execution_count": 53,
   "metadata": {
    "id": "8Fbz6KmzFdYP"
   },
   "outputs": [
    {
     "data": {
      "image/png": "[encoded data removed]",
      "text/plain": [
       "<Figure size 864x432 with 1 Axes>"
      ]
     },
     "metadata": {
      "needs_background": "light"
     },
     "output_type": "display_data"
    }
   ],
   "source": [
    "plt.figure(figsize=(12, 6))\n",
    "bars = sns.barplot(x='funded_at', y='typical_raised_amount', data=filtered_pivot, color = 'purple')\n",
    "\n",
    "plt.title('Средний объем средств, ежегодно привлекаемый стартапами')\n",
    "plt.xlabel('Год финансирования') \n",
    "plt.ylabel('Медианная сумма привлечения(млн.долл.)')\n",
    "\n",
    "plt.xticks(rotation=0, ha='center') \n",
    "for bar in bars.containers:\n",
    "    bars.bar_label(bar, fmt='%.2f') \n",
    "plt.grid(axis='y', linestyle='--', alpha=0.3)\n",
    "plt.show()"
   ]
  },
  {
   "cell_type": "markdown",
   "metadata": {
    "id": "Z92DzKMMFdKW"
   },
   "source": [
    "Вывод: типичный размер собранных в рамках одного раунда средств был максимален в 2005 году (средний объем, привлекаемый в рамках одного раунда составил 5 500 000 долларов США); в  2013 году наблюдается тенденция по уменьшению размера средств, выделяемых в рамках одного раунда (в 2009 - 2000 000, в 2010 - 1602 500, в 2011 - 1200 000, в 2012 - 1000 000, в 2013 - 1200 000), однако, наблюдается стабильный рост количества раундов в течение года (в 2009 - 4151 раундов, в 2010 - 6221 раундов, в 2011 - 9204 раундов, в 2012 - 9970 раундов, в 2013 - 11072 раундов)"
   ]
  },
  {
   "cell_type": "markdown",
   "metadata": {
    "id": "45if1en1rJg2"
   },
   "source": [
    "\n",
    "### 2.2. Люди и их образование\n",
    "\n",
    "Заказчик хочет понять, зависит ли полнота сведений о сотрудниках (например, об их образовании) от размера компаний.\n",
    "\n",
    "- Оцените, насколько информация об образовании сотрудников полна. Используя датасеты `people.csv` и `education.csv`, разделите все компании на несколько групп по количеству сотрудников и оцените среднюю долю сотрудников без информации об образовании в каждой из групп. Обоснуйте выбранные границы групп.\n",
    "- Оцените, возможно ли для выполнения задания присоединить к этим таблицам ещё и таблицу `degrees.csv`."
   ]
  },
  {
   "cell_type": "code",
   "execution_count": 54,
   "metadata": {
    "id": "psPO7C4MrJg2",
    "vscode": {
     "languageId": "plaintext"
    }
   },
   "outputs": [
    {
     "name": "stdout",
     "output_type": "stream",
     "text": [
      "<class 'pandas.core.frame.DataFrame'>\n",
      "RangeIndex: 226709 entries, 0 to 226708\n",
      "Data columns (total 5 columns):\n",
      " #   Column            Non-Null Count   Dtype  \n",
      "---  ------            --------------   -----  \n",
      " 0   id                226709 non-null  int64  \n",
      " 1   first_name        226704 non-null  object \n",
      " 2   last_name         226708 non-null  object \n",
      " 3   company_id        34615 non-null   float64\n",
      " 4   network_username  38867 non-null   object \n",
      "dtypes: float64(1), int64(1), object(3)\n",
      "memory usage: 8.6+ MB\n"
     ]
    }
   ],
   "source": [
    "#выведем общую информацию по people_df\n",
    "people_df.info()"
   ]
  },
  {
   "cell_type": "code",
   "execution_count": 55,
   "metadata": {
    "id": "BThTjpLqFcsm"
   },
   "outputs": [
    {
     "name": "stdout",
     "output_type": "stream",
     "text": [
      "<class 'pandas.core.frame.DataFrame'>\n",
      "RangeIndex: 109610 entries, 0 to 109609\n",
      "Data columns (total 4 columns):\n",
      " #   Column        Non-Null Count   Dtype         \n",
      "---  ------        --------------   -----         \n",
      " 0   id            109610 non-null  int64         \n",
      " 1   person_id     109610 non-null  int64         \n",
      " 2   instituition  109555 non-null  object        \n",
      " 3   graduated_at  58054 non-null   datetime64[ns]\n",
      "dtypes: datetime64[ns](1), int64(2), object(1)\n",
      "memory usage: 3.3+ MB\n"
     ]
    }
   ],
   "source": [
    "#выведем общую информацию по education_df\n",
    "education_df.info()"
   ]
  },
  {
   "cell_type": "code",
   "execution_count": 56,
   "metadata": {
    "id": "4FC98Pd-FcmG"
   },
   "outputs": [],
   "source": [
    "#переименуем столбец id в people_df\n",
    "people_df.rename(columns={'id': 'people_id'}, inplace=True)"
   ]
  },
  {
   "cell_type": "code",
   "execution_count": 57,
   "metadata": {},
   "outputs": [],
   "source": [
    "#переименуем столбец id в education_df\n",
    "education_df.rename(columns={'id': 'education_id'}, inplace=True)"
   ]
  },
  {
   "cell_type": "code",
   "execution_count": 58,
   "metadata": {},
   "outputs": [],
   "source": [
    "#объединим два датафрейма левым джойном, так как в дф people_df больше строк\n",
    "merged_people_ed_df = pd.merge(left=people_df, right=education_df, how='left', left_on='people_id', right_on='person_id')"
   ]
  },
  {
   "cell_type": "code",
   "execution_count": 59,
   "metadata": {},
   "outputs": [
    {
     "name": "stdout",
     "output_type": "stream",
     "text": [
      "<class 'pandas.core.frame.DataFrame'>\n",
      "Int64Index: 267694 entries, 0 to 267693\n",
      "Data columns (total 9 columns):\n",
      " #   Column            Non-Null Count   Dtype         \n",
      "---  ------            --------------   -----         \n",
      " 0   people_id         267694 non-null  int64         \n",
      " 1   first_name        267689 non-null  object        \n",
      " 2   last_name         267693 non-null  object        \n",
      " 3   company_id        44789 non-null   float64       \n",
      " 4   network_username  50775 non-null   object        \n",
      " 5   education_id      109056 non-null  float64       \n",
      " 6   person_id         109056 non-null  float64       \n",
      " 7   instituition      109002 non-null  object        \n",
      " 8   graduated_at      57691 non-null   datetime64[ns]\n",
      "dtypes: datetime64[ns](1), float64(3), int64(1), object(4)\n",
      "memory usage: 20.4+ MB\n"
     ]
    }
   ],
   "source": [
    "#проверим присоединение \n",
    "merged_people_ed_df.info()"
   ]
  },
  {
   "cell_type": "markdown",
   "metadata": {},
   "source": [
    "**Присоединим еще датафрейм degrees_df по столбцу object_id, который содержит идентификатор сотрудников**"
   ]
  },
  {
   "cell_type": "code",
   "execution_count": 60,
   "metadata": {},
   "outputs": [
    {
     "data": {
      "text/html": [
       "<div>\n",
       "<style scoped>\n",
       "    .dataframe tbody tr th:only-of-type {\n",
       "        vertical-align: middle;\n",
       "    }\n",
       "\n",
       "    .dataframe tbody tr th {\n",
       "        vertical-align: top;\n",
       "    }\n",
       "\n",
       "    .dataframe thead th {\n",
       "        text-align: right;\n",
       "    }\n",
       "</style>\n",
       "<table border=\"1\" class=\"dataframe\">\n",
       "  <thead>\n",
       "    <tr style=\"text-align: right;\">\n",
       "      <th></th>\n",
       "      <th>degrees_id</th>\n",
       "      <th>object_id</th>\n",
       "      <th>degree_type</th>\n",
       "      <th>subject</th>\n",
       "    </tr>\n",
       "  </thead>\n",
       "  <tbody>\n",
       "    <tr>\n",
       "      <th>0</th>\n",
       "      <td>1</td>\n",
       "      <td>p:6117</td>\n",
       "      <td>MBA</td>\n",
       "      <td>NaN</td>\n",
       "    </tr>\n",
       "    <tr>\n",
       "      <th>1</th>\n",
       "      <td>2</td>\n",
       "      <td>p:6136</td>\n",
       "      <td>BA</td>\n",
       "      <td>English, French</td>\n",
       "    </tr>\n",
       "    <tr>\n",
       "      <th>2</th>\n",
       "      <td>3</td>\n",
       "      <td>p:6136</td>\n",
       "      <td>MS</td>\n",
       "      <td>Mass Communication</td>\n",
       "    </tr>\n",
       "    <tr>\n",
       "      <th>3</th>\n",
       "      <td>4</td>\n",
       "      <td>p:6005</td>\n",
       "      <td>MS</td>\n",
       "      <td>Internet Technology</td>\n",
       "    </tr>\n",
       "    <tr>\n",
       "      <th>4</th>\n",
       "      <td>5</td>\n",
       "      <td>p:5832</td>\n",
       "      <td>BCS</td>\n",
       "      <td>Computer Science, Psychology</td>\n",
       "    </tr>\n",
       "    <tr>\n",
       "      <th>...</th>\n",
       "      <td>...</td>\n",
       "      <td>...</td>\n",
       "      <td>...</td>\n",
       "      <td>...</td>\n",
       "    </tr>\n",
       "    <tr>\n",
       "      <th>109605</th>\n",
       "      <td>109606</td>\n",
       "      <td>p:268589</td>\n",
       "      <td>CPA</td>\n",
       "      <td>NaN</td>\n",
       "    </tr>\n",
       "    <tr>\n",
       "      <th>109606</th>\n",
       "      <td>109607</td>\n",
       "      <td>p:268527</td>\n",
       "      <td>MS &amp; BS</td>\n",
       "      <td>Engineering</td>\n",
       "    </tr>\n",
       "    <tr>\n",
       "      <th>109607</th>\n",
       "      <td>109608</td>\n",
       "      <td>p:268527</td>\n",
       "      <td>PhD</td>\n",
       "      <td>Engineering</td>\n",
       "    </tr>\n",
       "    <tr>\n",
       "      <th>109608</th>\n",
       "      <td>109609</td>\n",
       "      <td>p:268528</td>\n",
       "      <td>B.S.</td>\n",
       "      <td>Electrical Engineering</td>\n",
       "    </tr>\n",
       "    <tr>\n",
       "      <th>109609</th>\n",
       "      <td>109610</td>\n",
       "      <td>p:268528</td>\n",
       "      <td>J.D.</td>\n",
       "      <td>NaN</td>\n",
       "    </tr>\n",
       "  </tbody>\n",
       "</table>\n",
       "<p>109610 rows × 4 columns</p>\n",
       "</div>"
      ],
      "text/plain": [
       "        degrees_id object_id degree_type                       subject\n",
       "0                1    p:6117         MBA                           NaN\n",
       "1                2    p:6136          BA               English, French\n",
       "2                3    p:6136          MS            Mass Communication\n",
       "3                4    p:6005          MS           Internet Technology\n",
       "4                5    p:5832         BCS  Computer Science, Psychology\n",
       "...            ...       ...         ...                           ...\n",
       "109605      109606  p:268589         CPA                           NaN\n",
       "109606      109607  p:268527     MS & BS                   Engineering\n",
       "109607      109608  p:268527         PhD                   Engineering\n",
       "109608      109609  p:268528        B.S.        Electrical Engineering\n",
       "109609      109610  p:268528        J.D.                           NaN\n",
       "\n",
       "[109610 rows x 4 columns]"
      ]
     },
     "execution_count": 60,
     "metadata": {},
     "output_type": "execute_result"
    }
   ],
   "source": [
    "#переименуем столбец id в degrees_df\n",
    "degrees_df.rename(columns={'id': 'degrees_id'}, inplace=True)\n",
    "degrees_df"
   ]
  },
  {
   "cell_type": "code",
   "execution_count": 61,
   "metadata": {
    "scrolled": true
   },
   "outputs": [
    {
     "data": {
      "text/html": [
       "<div>\n",
       "<style scoped>\n",
       "    .dataframe tbody tr th:only-of-type {\n",
       "        vertical-align: middle;\n",
       "    }\n",
       "\n",
       "    .dataframe tbody tr th {\n",
       "        vertical-align: top;\n",
       "    }\n",
       "\n",
       "    .dataframe thead th {\n",
       "        text-align: right;\n",
       "    }\n",
       "</style>\n",
       "<table border=\"1\" class=\"dataframe\">\n",
       "  <thead>\n",
       "    <tr style=\"text-align: right;\">\n",
       "      <th></th>\n",
       "      <th>degrees_id</th>\n",
       "      <th>object_id</th>\n",
       "      <th>degree_type</th>\n",
       "      <th>subject</th>\n",
       "    </tr>\n",
       "  </thead>\n",
       "  <tbody>\n",
       "    <tr>\n",
       "      <th>0</th>\n",
       "      <td>1</td>\n",
       "      <td>6117</td>\n",
       "      <td>MBA</td>\n",
       "      <td>NaN</td>\n",
       "    </tr>\n",
       "    <tr>\n",
       "      <th>1</th>\n",
       "      <td>2</td>\n",
       "      <td>6136</td>\n",
       "      <td>BA</td>\n",
       "      <td>English, French</td>\n",
       "    </tr>\n",
       "    <tr>\n",
       "      <th>2</th>\n",
       "      <td>3</td>\n",
       "      <td>6136</td>\n",
       "      <td>MS</td>\n",
       "      <td>Mass Communication</td>\n",
       "    </tr>\n",
       "    <tr>\n",
       "      <th>3</th>\n",
       "      <td>4</td>\n",
       "      <td>6005</td>\n",
       "      <td>MS</td>\n",
       "      <td>Internet Technology</td>\n",
       "    </tr>\n",
       "    <tr>\n",
       "      <th>4</th>\n",
       "      <td>5</td>\n",
       "      <td>5832</td>\n",
       "      <td>BCS</td>\n",
       "      <td>Computer Science, Psychology</td>\n",
       "    </tr>\n",
       "    <tr>\n",
       "      <th>...</th>\n",
       "      <td>...</td>\n",
       "      <td>...</td>\n",
       "      <td>...</td>\n",
       "      <td>...</td>\n",
       "    </tr>\n",
       "    <tr>\n",
       "      <th>109605</th>\n",
       "      <td>109606</td>\n",
       "      <td>268589</td>\n",
       "      <td>CPA</td>\n",
       "      <td>NaN</td>\n",
       "    </tr>\n",
       "    <tr>\n",
       "      <th>109606</th>\n",
       "      <td>109607</td>\n",
       "      <td>268527</td>\n",
       "      <td>MS &amp; BS</td>\n",
       "      <td>Engineering</td>\n",
       "    </tr>\n",
       "    <tr>\n",
       "      <th>109607</th>\n",
       "      <td>109608</td>\n",
       "      <td>268527</td>\n",
       "      <td>PhD</td>\n",
       "      <td>Engineering</td>\n",
       "    </tr>\n",
       "    <tr>\n",
       "      <th>109608</th>\n",
       "      <td>109609</td>\n",
       "      <td>268528</td>\n",
       "      <td>B.S.</td>\n",
       "      <td>Electrical Engineering</td>\n",
       "    </tr>\n",
       "    <tr>\n",
       "      <th>109609</th>\n",
       "      <td>109610</td>\n",
       "      <td>268528</td>\n",
       "      <td>J.D.</td>\n",
       "      <td>NaN</td>\n",
       "    </tr>\n",
       "  </tbody>\n",
       "</table>\n",
       "<p>109610 rows × 4 columns</p>\n",
       "</div>"
      ],
      "text/plain": [
       "        degrees_id object_id degree_type                       subject\n",
       "0                1      6117         MBA                           NaN\n",
       "1                2      6136          BA               English, French\n",
       "2                3      6136          MS            Mass Communication\n",
       "3                4      6005          MS           Internet Technology\n",
       "4                5      5832         BCS  Computer Science, Psychology\n",
       "...            ...       ...         ...                           ...\n",
       "109605      109606    268589         CPA                           NaN\n",
       "109606      109607    268527     MS & BS                   Engineering\n",
       "109607      109608    268527         PhD                   Engineering\n",
       "109608      109609    268528        B.S.        Electrical Engineering\n",
       "109609      109610    268528        J.D.                           NaN\n",
       "\n",
       "[109610 rows x 4 columns]"
      ]
     },
     "execution_count": 61,
     "metadata": {},
     "output_type": "execute_result"
    }
   ],
   "source": [
    "#удалим начальные символы p: из столбца object_id\n",
    "degrees_df['object_id'] = degrees_df['object_id'].str.replace('p:', '')\n",
    "degrees_df"
   ]
  },
  {
   "cell_type": "code",
   "execution_count": 62,
   "metadata": {},
   "outputs": [],
   "source": [
    "#приведем значения к типу int\n",
    "degrees_df['object_id'] = degrees_df['object_id'].astype(int)"
   ]
  },
  {
   "cell_type": "code",
   "execution_count": 63,
   "metadata": {},
   "outputs": [],
   "source": [
    "#присоединим датафреймы\n",
    "final_merged_df = pd.merge(left=merged_people_ed_df, right=degrees_df, how='left', left_on='people_id', right_on='object_id')"
   ]
  },
  {
   "cell_type": "code",
   "execution_count": 64,
   "metadata": {},
   "outputs": [
    {
     "name": "stdout",
     "output_type": "stream",
     "text": [
      "<class 'pandas.core.frame.DataFrame'>\n",
      "Int64Index: 370836 entries, 0 to 370835\n",
      "Data columns (total 13 columns):\n",
      " #   Column            Non-Null Count   Dtype         \n",
      "---  ------            --------------   -----         \n",
      " 0   people_id         370836 non-null  int64         \n",
      " 1   first_name        370831 non-null  object        \n",
      " 2   last_name         370835 non-null  object        \n",
      " 3   company_id        70869 non-null   float64       \n",
      " 4   network_username  81529 non-null   object        \n",
      " 5   education_id      212198 non-null  float64       \n",
      " 6   person_id         212198 non-null  float64       \n",
      " 7   instituition      212109 non-null  object        \n",
      " 8   graduated_at      113991 non-null  datetime64[ns]\n",
      " 9   degrees_id        212198 non-null  float64       \n",
      " 10  object_id         212198 non-null  float64       \n",
      " 11  degree_type       190722 non-null  object        \n",
      " 12  subject           156477 non-null  object        \n",
      "dtypes: datetime64[ns](1), float64(5), int64(1), object(6)\n",
      "memory usage: 39.6+ MB\n"
     ]
    }
   ],
   "source": [
    "#выведем общую информацию по новому дф\n",
    "final_merged_df.info()"
   ]
  },
  {
   "cell_type": "code",
   "execution_count": 65,
   "metadata": {},
   "outputs": [
    {
     "name": "stdout",
     "output_type": "stream",
     "text": [
      "<class 'pandas.core.frame.DataFrame'>\n",
      "Int64Index: 226708 entries, 0 to 370835\n",
      "Data columns (total 13 columns):\n",
      " #   Column            Non-Null Count   Dtype         \n",
      "---  ------            --------------   -----         \n",
      " 0   people_id         226708 non-null  int64         \n",
      " 1   first_name        226703 non-null  object        \n",
      " 2   last_name         226707 non-null  object        \n",
      " 3   company_id        34614 non-null   float64       \n",
      " 4   network_username  38867 non-null   object        \n",
      " 5   education_id      68071 non-null   float64       \n",
      " 6   person_id         68071 non-null   float64       \n",
      " 7   instituition      68031 non-null   object        \n",
      " 8   graduated_at      36387 non-null   datetime64[ns]\n",
      " 9   degrees_id        68071 non-null   float64       \n",
      " 10  object_id         68071 non-null   float64       \n",
      " 11  degree_type       61401 non-null   object        \n",
      " 12  subject           50808 non-null   object        \n",
      "dtypes: datetime64[ns](1), float64(5), int64(1), object(6)\n",
      "memory usage: 24.2+ MB\n"
     ]
    }
   ],
   "source": [
    "#удалим повторы\n",
    "cleaned_df = final_merged_df.drop_duplicates(subset=['people_id'])\n",
    "cleaned_df.info()"
   ]
  },
  {
   "cell_type": "code",
   "execution_count": 66,
   "metadata": {},
   "outputs": [
    {
     "data": {
      "text/plain": [
       "company_id\n",
       "285163.0      1\n",
       "285167.0      1\n",
       "285196.0      1\n",
       "285213.0      1\n",
       "285221.0      1\n",
       "           ... \n",
       "499.0        63\n",
       "231067.0     72\n",
       "1242.0      138\n",
       "29.0        150\n",
       "59.0        244\n",
       "Name: people_id, Length: 22921, dtype: int64"
      ]
     },
     "execution_count": 66,
     "metadata": {},
     "output_type": "execute_result"
    }
   ],
   "source": [
    "#подсчитаем количество сотрудников в компаниях\n",
    "employees_per_company = cleaned_df.groupby('company_id')['people_id'].nunique().sort_values()\n",
    "employees_per_company"
   ]
  },
  {
   "cell_type": "code",
   "execution_count": 67,
   "metadata": {},
   "outputs": [
    {
     "data": {
      "text/plain": [
       "1"
      ]
     },
     "execution_count": 67,
     "metadata": {},
     "output_type": "execute_result"
    }
   ],
   "source": [
    "#выведем минимальное количество сотрудников\n",
    "employees_per_company.min()"
   ]
  },
  {
   "cell_type": "code",
   "execution_count": 68,
   "metadata": {},
   "outputs": [
    {
     "data": {
      "text/plain": [
       "244"
      ]
     },
     "execution_count": 68,
     "metadata": {},
     "output_type": "execute_result"
    }
   ],
   "source": [
    "#выведем максимальное количество сотрудников\n",
    "employees_per_company.max()"
   ]
  },
  {
   "cell_type": "code",
   "execution_count": 69,
   "metadata": {},
   "outputs": [
    {
     "data": {
      "text/plain": [
       "1.5101435364949174"
      ]
     },
     "execution_count": 69,
     "metadata": {},
     "output_type": "execute_result"
    }
   ],
   "source": [
    "#выведем среднее количество сотрудников\n",
    "employees_per_company.mean()"
   ]
  },
  {
   "cell_type": "code",
   "execution_count": 70,
   "metadata": {},
   "outputs": [
    {
     "data": {
      "text/plain": [
       "1.0"
      ]
     },
     "execution_count": 70,
     "metadata": {},
     "output_type": "execute_result"
    }
   ],
   "source": [
    "##выведем медианное количество сотрудников\n",
    "employees_per_company.median()"
   ]
  },
  {
   "cell_type": "markdown",
   "metadata": {},
   "source": [
    "**Так как среднее количество сотрудников равно 1.5, при учете, что максимальное равно 244 - рассмотрим выборку компаний, в которых будет до 10 сотрудников и разобьем их на категории**"
   ]
  },
  {
   "cell_type": "code",
   "execution_count": 71,
   "metadata": {},
   "outputs": [
    {
     "data": {
      "text/html": [
       "<div>\n",
       "<style scoped>\n",
       "    .dataframe tbody tr th:only-of-type {\n",
       "        vertical-align: middle;\n",
       "    }\n",
       "\n",
       "    .dataframe tbody tr th {\n",
       "        vertical-align: top;\n",
       "    }\n",
       "\n",
       "    .dataframe thead th {\n",
       "        text-align: right;\n",
       "    }\n",
       "</style>\n",
       "<table border=\"1\" class=\"dataframe\">\n",
       "  <thead>\n",
       "    <tr style=\"text-align: right;\">\n",
       "      <th></th>\n",
       "      <th>category</th>\n",
       "      <th>count</th>\n",
       "    </tr>\n",
       "  </thead>\n",
       "  <tbody>\n",
       "    <tr>\n",
       "      <th>0</th>\n",
       "      <td>1 сотрудник</td>\n",
       "      <td>18116</td>\n",
       "    </tr>\n",
       "    <tr>\n",
       "      <th>1</th>\n",
       "      <td>От 2 до 5 сотрудников</td>\n",
       "      <td>4317</td>\n",
       "    </tr>\n",
       "    <tr>\n",
       "      <th>2</th>\n",
       "      <td>От 6 до 10 сотрудников</td>\n",
       "      <td>368</td>\n",
       "    </tr>\n",
       "    <tr>\n",
       "      <th>3</th>\n",
       "      <td>Больше 10 сотрудников</td>\n",
       "      <td>120</td>\n",
       "    </tr>\n",
       "  </tbody>\n",
       "</table>\n",
       "</div>"
      ],
      "text/plain": [
       "                 category  count\n",
       "0             1 сотрудник  18116\n",
       "1   От 2 до 5 сотрудников   4317\n",
       "2  От 6 до 10 сотрудников    368\n",
       "3   Больше 10 сотрудников    120"
      ]
     },
     "execution_count": 71,
     "metadata": {},
     "output_type": "execute_result"
    }
   ],
   "source": [
    "employees_per_company = cleaned_df.groupby('company_id')['people_id'].nunique()\n",
    "\n",
    "def categorize_employees(count):\n",
    "    if count == 1:\n",
    "        return '1 сотрудник'\n",
    "    elif 2 <= count <= 5:\n",
    "        return 'От 2 до 5 сотрудников'\n",
    "    elif 6 <= count <= 10:\n",
    "        return 'От 6 до 10 сотрудников'\n",
    "    else:\n",
    "        return 'Больше 10 сотрудников'\n",
    "\n",
    "category_labels = employees_per_company.apply(categorize_employees)\n",
    "\n",
    "companies_in_categories = category_labels.value_counts().reset_index()\n",
    "companies_in_categories.columns = ['category', 'count']\n",
    "\n",
    "companies_in_categories"
   ]
  },
  {
   "cell_type": "code",
   "execution_count": 72,
   "metadata": {},
   "outputs": [
    {
     "name": "stdout",
     "output_type": "stream",
     "text": [
      "<class 'pandas.core.frame.DataFrame'>\n",
      "Int64Index: 226708 entries, 0 to 370835\n",
      "Data columns (total 13 columns):\n",
      " #   Column            Non-Null Count   Dtype         \n",
      "---  ------            --------------   -----         \n",
      " 0   people_id         226708 non-null  int64         \n",
      " 1   first_name        226703 non-null  object        \n",
      " 2   last_name         226707 non-null  object        \n",
      " 3   company_id        34614 non-null   float64       \n",
      " 4   network_username  38867 non-null   object        \n",
      " 5   education_id      68071 non-null   float64       \n",
      " 6   person_id         68071 non-null   float64       \n",
      " 7   instituition      68031 non-null   object        \n",
      " 8   graduated_at      36387 non-null   datetime64[ns]\n",
      " 9   degrees_id        68071 non-null   float64       \n",
      " 10  object_id         68071 non-null   float64       \n",
      " 11  degree_type       61401 non-null   object        \n",
      " 12  subject           50808 non-null   object        \n",
      "dtypes: datetime64[ns](1), float64(5), int64(1), object(6)\n",
      "memory usage: 24.2+ MB\n"
     ]
    }
   ],
   "source": [
    "cleaned_df.info()"
   ]
  },
  {
   "cell_type": "markdown",
   "metadata": {},
   "source": [
    "**Создадим столбец, который будет проверять наличие образования у сотрудников и выведем общее количество сотрудников с наличием информации об их образовании**"
   ]
  },
  {
   "cell_type": "code",
   "execution_count": 73,
   "metadata": {},
   "outputs": [
    {
     "data": {
      "text/plain": [
       "'Количество сотрудников с информацией об образовании: 68071'"
      ]
     },
     "execution_count": 73,
     "metadata": {},
     "output_type": "execute_result"
    }
   ],
   "source": [
    "#столбцы, по которым смотрим наличие данных об образовании\n",
    "education_columns = ['education_id', 'instituition', 'graduated_at', 'degrees_id', 'degree_type', 'subject']\n",
    "\n",
    "#добавляем новый столбец education_check\n",
    "cleaned_df.loc[:, 'education_check'] = np.where(\n",
    "    ((cleaned_df[education_columns].notnull()).any(axis=1)) &\n",
    "    (~((cleaned_df['graduated_at'].isna()) & (cleaned_df['graduated_at'] == pd.NaT))), 1, 0 )\n",
    "\n",
    "#подсчитываем количество сотрудников с информацией об образовании\n",
    "num_employees_with_education = cleaned_df['education_check'].sum()\n",
    "\n",
    "f\"Количество сотрудников с информацией об образовании: {num_employees_with_education}\""
   ]
  },
  {
   "cell_type": "code",
   "execution_count": 74,
   "metadata": {},
   "outputs": [
    {
     "data": {
      "text/html": [
       "<div>\n",
       "<style scoped>\n",
       "    .dataframe tbody tr th:only-of-type {\n",
       "        vertical-align: middle;\n",
       "    }\n",
       "\n",
       "    .dataframe tbody tr th {\n",
       "        vertical-align: top;\n",
       "    }\n",
       "\n",
       "    .dataframe thead th {\n",
       "        text-align: right;\n",
       "    }\n",
       "</style>\n",
       "<table border=\"1\" class=\"dataframe\">\n",
       "  <thead>\n",
       "    <tr style=\"text-align: right;\">\n",
       "      <th></th>\n",
       "      <th>category_labels</th>\n",
       "      <th>education_check</th>\n",
       "    </tr>\n",
       "  </thead>\n",
       "  <tbody>\n",
       "    <tr>\n",
       "      <th>2</th>\n",
       "      <td>От 2 до 5 сотрудников</td>\n",
       "      <td>0.259574</td>\n",
       "    </tr>\n",
       "    <tr>\n",
       "      <th>1</th>\n",
       "      <td>Больше 10 сотрудников</td>\n",
       "      <td>0.271605</td>\n",
       "    </tr>\n",
       "    <tr>\n",
       "      <th>0</th>\n",
       "      <td>1 сотрудник</td>\n",
       "      <td>0.288482</td>\n",
       "    </tr>\n",
       "    <tr>\n",
       "      <th>3</th>\n",
       "      <td>От 6 до 10 сотрудников</td>\n",
       "      <td>0.301205</td>\n",
       "    </tr>\n",
       "  </tbody>\n",
       "</table>\n",
       "</div>"
      ],
      "text/plain": [
       "          category_labels  education_check\n",
       "2   От 2 до 5 сотрудников         0.259574\n",
       "1   Больше 10 сотрудников         0.271605\n",
       "0             1 сотрудник         0.288482\n",
       "3  От 6 до 10 сотрудников         0.301205"
      ]
     },
     "execution_count": 74,
     "metadata": {},
     "output_type": "execute_result"
    }
   ],
   "source": [
    "#подсчитываем среднюю долю сотрудников без информации об образовании в каждой группе компаний\n",
    "employees_per_company = cleaned_df.groupby('company_id')['people_id'].nunique()\n",
    "\n",
    "def categorize_employees(count):\n",
    "    if count == 1:\n",
    "        return '1 сотрудник'\n",
    "    elif 2 <= count <= 5:\n",
    "        return 'От 2 до 5 сотрудников'\n",
    "    elif 6 <= count <= 10:\n",
    "        return 'От 6 до 10 сотрудников'\n",
    "    else:\n",
    "        return 'Больше 10 сотрудников'\n",
    "\n",
    "cleaned_df['category_labels'] = employees_per_company.apply(categorize_employees)\n",
    "\n",
    "result = cleaned_df.groupby('category_labels')['education_check'].mean().reset_index().sort_values(by = 'education_check')\n",
    "result"
   ]
  },
  {
   "cell_type": "markdown",
   "metadata": {},
   "source": [
    "Вывод: количество и доля людей без образования практически не зависит от размера компании"
   ]
  },
  {
   "cell_type": "markdown",
   "metadata": {
    "id": "Lz7qjM32xglW"
   },
   "source": [
    "### 2.3. Объединять или не объединять — вот в чём вопрос\n",
    "\n",
    "Некоторые названия столбцов встречаются в датасетах чаще других. В результате предварительной проверки датасетов было выяснено, что столбец `company_id` подходит для объединения данных.\n",
    "\n",
    "- Установите, подходит ли для объединения данных столбец `network_username`, который встречается в нескольких датасетах. Нам необходимо понимать, дублируется ли для разных датасетов информация в столбцах с таким названием, и если да — то насколько часто.\n",
    "- Оцените, можно ли использовать столбцы с именем `network_username` для объединения данных."
   ]
  },
  {
   "cell_type": "markdown",
   "metadata": {},
   "source": [
    "**Выведем информацию по датасетам, в которых встречаются нужные столбцы:**"
   ]
  },
  {
   "cell_type": "code",
   "execution_count": 75,
   "metadata": {
    "id": "zyI3rt0rxg1O"
   },
   "outputs": [
    {
     "name": "stdout",
     "output_type": "stream",
     "text": [
      "<class 'pandas.core.frame.DataFrame'>\n",
      "RangeIndex: 217774 entries, 0 to 217773\n",
      "Data columns (total 22 columns):\n",
      " #   Column               Non-Null Count   Dtype         \n",
      "---  ------               --------------   -----         \n",
      " 0   company_id           217774 non-null  float64       \n",
      " 1   name                 217472 non-null  object        \n",
      " 2   category_code        143886 non-null  object        \n",
      " 3   status               217472 non-null  object        \n",
      " 4   founded_at           109956 non-null  datetime64[ns]\n",
      " 5   closed_at            3449 non-null    datetime64[ns]\n",
      " 6   domain               147159 non-null  object        \n",
      " 7   network_username     95534 non-null   object        \n",
      " 8   country_code         108607 non-null  object        \n",
      " 9   investment_rounds    217472 non-null  float64       \n",
      " 10  funding_rounds       217472 non-null  float64       \n",
      " 11  funding_total        217472 non-null  float64       \n",
      " 12  milestones           217472 non-null  float64       \n",
      " 13  funding_round_id     52928 non-null   float64       \n",
      " 14  company_id2          52928 non-null   float64       \n",
      " 15  funded_at            52680 non-null   datetime64[ns]\n",
      " 16  funding_round_type   52928 non-null   object        \n",
      " 17  raised_amount        52928 non-null   float64       \n",
      " 18  pre_money_valuation  52928 non-null   float64       \n",
      " 19  participants         52928 non-null   float64       \n",
      " 20  is_first_round       52928 non-null   float64       \n",
      " 21  is_last_round        52928 non-null   float64       \n",
      "dtypes: datetime64[ns](3), float64(12), object(7)\n",
      "memory usage: 36.6+ MB\n"
     ]
    }
   ],
   "source": [
    "company_df.info()"
   ]
  },
  {
   "cell_type": "code",
   "execution_count": 76,
   "metadata": {
    "id": "RxOS5rwmFcNW"
   },
   "outputs": [
    {
     "name": "stdout",
     "output_type": "stream",
     "text": [
      "<class 'pandas.core.frame.DataFrame'>\n",
      "RangeIndex: 226709 entries, 0 to 226708\n",
      "Data columns (total 5 columns):\n",
      " #   Column            Non-Null Count   Dtype  \n",
      "---  ------            --------------   -----  \n",
      " 0   people_id         226709 non-null  int64  \n",
      " 1   first_name        226704 non-null  object \n",
      " 2   last_name         226708 non-null  object \n",
      " 3   company_id        34615 non-null   float64\n",
      " 4   network_username  38867 non-null   object \n",
      "dtypes: float64(1), int64(1), object(3)\n",
      "memory usage: 8.6+ MB\n"
     ]
    }
   ],
   "source": [
    "people_df.info()"
   ]
  },
  {
   "cell_type": "code",
   "execution_count": 77,
   "metadata": {
    "id": "_7gjdrGOFcB2"
   },
   "outputs": [
    {
     "data": {
      "text/plain": [
       "'Количество совпадений в поле network_username: 2199'"
      ]
     },
     "execution_count": 77,
     "metadata": {},
     "output_type": "execute_result"
    }
   ],
   "source": [
    "people_network = set(people_df['network_username'].dropna())\n",
    "company_network = set(company_df['network_username'].dropna())\n",
    "#выведем пересечение множеств\n",
    "intersec_network = people_network & company_network\n",
    "f'Количество совпадений в поле network_username: {len(intersec_network)}'"
   ]
  },
  {
   "cell_type": "code",
   "execution_count": 78,
   "metadata": {},
   "outputs": [
    {
     "data": {
      "image/png": "[encoded data removed]",
      "text/plain": [
       "<Figure size 864x432 with 1 Axes>"
      ]
     },
     "metadata": {},
     "output_type": "display_data"
    }
   ],
   "source": [
    "plt.figure(figsize=(12, 6))\n",
    "venn2([people_network, company_network], set_labels=('People Network', 'Company Network'), set_colors=(\"orange\",\n",
    "                             \"blue\"),alpha=0.7)\n",
    "\n",
    "plt.title(\"Пересечение пользователей People Network и Company Network\")\n",
    "plt.show()    "
   ]
  },
  {
   "cell_type": "markdown",
   "metadata": {},
   "source": [
    "Вывод: В датафрейме company_df 95534 непустых строк, а в people_df 38867. Объединение датафреймов по столбцу network_username недопустимо из-за малого количества совпадений (2200)."
   ]
  },
  {
   "cell_type": "markdown",
   "metadata": {
    "id": "EHcODomVrJg1"
   },
   "source": [
    "\n",
    "### 2.4. Проблемный датасет и причина возникновения пропусков\n",
    "\n",
    "Во время собственного анализа данных у заказчика больше всего вопросов возникло к датасету `company_and_rounds.csv`. В нём много пропусков как раз в информации о раундах, которая заказчику важна.\n",
    "\n",
    "- Любым удобным способом приведите данные в вид, который позволит в дальнейшем проводить анализ в разрезе отдельных компаний. Обратите внимание на структуру датасета, порядок и названия столбцов, проанализируйте значения.\n",
    "\n",
    "По гипотезе заказчика данные по компаниям из этой таблицы раньше хранились иначе, более удобным для исследования образом.\n",
    "\n",
    "- Максимальным образом сохраняя данные, сохранив их связность и исключив возможные возникающие при этом ошибки, подготовьте данные так, чтобы удобно было отобрать компании по параметрам и рассчитать показатели из расчёта на одну компанию без промежуточных агрегаций."
   ]
  },
  {
   "cell_type": "code",
   "execution_count": 79,
   "metadata": {
    "id": "oSk7xqu_FbaN"
   },
   "outputs": [],
   "source": [
    "#выделим таблицу компаний (без информации о раундах)\n",
    "company_cols = [\n",
    "    'company_id', 'name', 'category_code', 'status', 'founded_at',\n",
    "    'closed_at', 'domain', 'network_username', 'country_code',\n",
    "    'investment_rounds', 'funding_rounds', 'funding_total', 'milestones'\n",
    "]\n",
    "companies = company_df[company_cols].drop_duplicates(subset='company_id')"
   ]
  },
  {
   "cell_type": "code",
   "execution_count": 80,
   "metadata": {
    "id": "9BY9lTUcFbJ-"
   },
   "outputs": [
    {
     "name": "stdout",
     "output_type": "stream",
     "text": [
      "<class 'pandas.core.frame.DataFrame'>\n",
      "Int64Index: 196785 entries, 0 to 217773\n",
      "Data columns (total 13 columns):\n",
      " #   Column             Non-Null Count   Dtype         \n",
      "---  ------             --------------   -----         \n",
      " 0   company_id         196785 non-null  float64       \n",
      " 1   name               196553 non-null  object        \n",
      " 2   category_code      123186 non-null  object        \n",
      " 3   status             196553 non-null  object        \n",
      " 4   founded_at         91227 non-null   datetime64[ns]\n",
      " 5   closed_at          2620 non-null    datetime64[ns]\n",
      " 6   domain             126545 non-null  object        \n",
      " 7   network_username   80591 non-null   object        \n",
      " 8   country_code       87990 non-null   object        \n",
      " 9   investment_rounds  196553 non-null  float64       \n",
      " 10  funding_rounds     196553 non-null  float64       \n",
      " 11  funding_total      196553 non-null  float64       \n",
      " 12  milestones         196553 non-null  float64       \n",
      "dtypes: datetime64[ns](2), float64(5), object(6)\n",
      "memory usage: 21.0+ MB\n"
     ]
    }
   ],
   "source": [
    "#выведем общую информацию по новому датафрейму\n",
    "companies.info()"
   ]
  },
  {
   "cell_type": "code",
   "execution_count": 81,
   "metadata": {
    "id": "tJ6Sl6MKrJg1",
    "vscode": {
     "languageId": "plaintext"
    }
   },
   "outputs": [
    {
     "data": {
      "text/html": [
       "<div>\n",
       "<style scoped>\n",
       "    .dataframe tbody tr th:only-of-type {\n",
       "        vertical-align: middle;\n",
       "    }\n",
       "\n",
       "    .dataframe tbody tr th {\n",
       "        vertical-align: top;\n",
       "    }\n",
       "\n",
       "    .dataframe thead th {\n",
       "        text-align: right;\n",
       "    }\n",
       "</style>\n",
       "<table border=\"1\" class=\"dataframe\">\n",
       "  <thead>\n",
       "    <tr style=\"text-align: right;\">\n",
       "      <th></th>\n",
       "      <th>company_id</th>\n",
       "      <th>name</th>\n",
       "      <th>category_code</th>\n",
       "      <th>status</th>\n",
       "      <th>founded_at</th>\n",
       "      <th>closed_at</th>\n",
       "      <th>domain</th>\n",
       "      <th>network_username</th>\n",
       "      <th>country_code</th>\n",
       "      <th>investment_rounds</th>\n",
       "      <th>funding_rounds</th>\n",
       "      <th>funding_total</th>\n",
       "      <th>milestones</th>\n",
       "    </tr>\n",
       "  </thead>\n",
       "  <tbody>\n",
       "    <tr>\n",
       "      <th>0</th>\n",
       "      <td>1.0</td>\n",
       "      <td>Wetpaint</td>\n",
       "      <td>web</td>\n",
       "      <td>operating</td>\n",
       "      <td>2005-10-17</td>\n",
       "      <td>NaT</td>\n",
       "      <td>wetpaint-inc.com</td>\n",
       "      <td>BachelrWetpaint</td>\n",
       "      <td>USA</td>\n",
       "      <td>0.0</td>\n",
       "      <td>3.0</td>\n",
       "      <td>39750000.0</td>\n",
       "      <td>5.0</td>\n",
       "    </tr>\n",
       "    <tr>\n",
       "      <th>3</th>\n",
       "      <td>10.0</td>\n",
       "      <td>Flektor</td>\n",
       "      <td>games_video</td>\n",
       "      <td>acquired</td>\n",
       "      <td>NaT</td>\n",
       "      <td>NaT</td>\n",
       "      <td>flektor.com</td>\n",
       "      <td>NaN</td>\n",
       "      <td>USA</td>\n",
       "      <td>0.0</td>\n",
       "      <td>0.0</td>\n",
       "      <td>0.0</td>\n",
       "      <td>0.0</td>\n",
       "    </tr>\n",
       "    <tr>\n",
       "      <th>4</th>\n",
       "      <td>100.0</td>\n",
       "      <td>There</td>\n",
       "      <td>games_video</td>\n",
       "      <td>acquired</td>\n",
       "      <td>NaT</td>\n",
       "      <td>NaT</td>\n",
       "      <td>there.com</td>\n",
       "      <td>NaN</td>\n",
       "      <td>USA</td>\n",
       "      <td>0.0</td>\n",
       "      <td>0.0</td>\n",
       "      <td>0.0</td>\n",
       "      <td>4.0</td>\n",
       "    </tr>\n",
       "    <tr>\n",
       "      <th>5</th>\n",
       "      <td>10000.0</td>\n",
       "      <td>MYWEBBO</td>\n",
       "      <td>network_hosting</td>\n",
       "      <td>operating</td>\n",
       "      <td>2008-07-26</td>\n",
       "      <td>NaT</td>\n",
       "      <td>mywebbo.com</td>\n",
       "      <td>NaN</td>\n",
       "      <td>NaN</td>\n",
       "      <td>0.0</td>\n",
       "      <td>0.0</td>\n",
       "      <td>0.0</td>\n",
       "      <td>0.0</td>\n",
       "    </tr>\n",
       "    <tr>\n",
       "      <th>6</th>\n",
       "      <td>10001.0</td>\n",
       "      <td>THE Movie Streamer</td>\n",
       "      <td>games_video</td>\n",
       "      <td>operating</td>\n",
       "      <td>2008-07-26</td>\n",
       "      <td>NaT</td>\n",
       "      <td>themoviestreamer.com</td>\n",
       "      <td>NaN</td>\n",
       "      <td>NaN</td>\n",
       "      <td>0.0</td>\n",
       "      <td>0.0</td>\n",
       "      <td>0.0</td>\n",
       "      <td>0.0</td>\n",
       "    </tr>\n",
       "  </tbody>\n",
       "</table>\n",
       "</div>"
      ],
      "text/plain": [
       "   company_id                name    category_code     status founded_at  \\\n",
       "0         1.0            Wetpaint              web  operating 2005-10-17   \n",
       "3        10.0             Flektor      games_video   acquired        NaT   \n",
       "4       100.0               There      games_video   acquired        NaT   \n",
       "5     10000.0             MYWEBBO  network_hosting  operating 2008-07-26   \n",
       "6     10001.0  THE Movie Streamer      games_video  operating 2008-07-26   \n",
       "\n",
       "  closed_at                domain network_username country_code  \\\n",
       "0       NaT      wetpaint-inc.com  BachelrWetpaint          USA   \n",
       "3       NaT           flektor.com              NaN          USA   \n",
       "4       NaT             there.com              NaN          USA   \n",
       "5       NaT           mywebbo.com              NaN          NaN   \n",
       "6       NaT  themoviestreamer.com              NaN          NaN   \n",
       "\n",
       "   investment_rounds  funding_rounds  funding_total  milestones  \n",
       "0                0.0             3.0     39750000.0         5.0  \n",
       "3                0.0             0.0            0.0         0.0  \n",
       "4                0.0             0.0            0.0         4.0  \n",
       "5                0.0             0.0            0.0         0.0  \n",
       "6                0.0             0.0            0.0         0.0  "
      ]
     },
     "execution_count": 81,
     "metadata": {},
     "output_type": "execute_result"
    }
   ],
   "source": [
    "#выведем первые строки нового дф\n",
    "companies.head()"
   ]
  },
  {
   "cell_type": "code",
   "execution_count": 82,
   "metadata": {},
   "outputs": [],
   "source": [
    "#новая таблица по раундам финансирования\n",
    "round_cols = [\n",
    "    'company_id', 'funding_round_id', 'funded_at',\n",
    "    'funding_round_type', 'raised_amount', 'pre_money_valuation',\n",
    "    'participants', 'is_first_round', 'is_last_round'\n",
    "]\n",
    "rounds = company_df[round_cols].copy()"
   ]
  },
  {
   "cell_type": "code",
   "execution_count": 83,
   "metadata": {},
   "outputs": [
    {
     "name": "stdout",
     "output_type": "stream",
     "text": [
      "<class 'pandas.core.frame.DataFrame'>\n",
      "RangeIndex: 217774 entries, 0 to 217773\n",
      "Data columns (total 9 columns):\n",
      " #   Column               Non-Null Count   Dtype         \n",
      "---  ------               --------------   -----         \n",
      " 0   company_id           217774 non-null  float64       \n",
      " 1   funding_round_id     52928 non-null   float64       \n",
      " 2   funded_at            52680 non-null   datetime64[ns]\n",
      " 3   funding_round_type   52928 non-null   object        \n",
      " 4   raised_amount        52928 non-null   float64       \n",
      " 5   pre_money_valuation  52928 non-null   float64       \n",
      " 6   participants         52928 non-null   float64       \n",
      " 7   is_first_round       52928 non-null   float64       \n",
      " 8   is_last_round        52928 non-null   float64       \n",
      "dtypes: datetime64[ns](1), float64(7), object(1)\n",
      "memory usage: 15.0+ MB\n"
     ]
    }
   ],
   "source": [
    "#выведем общую информацию по новому дф\n",
    "rounds.info()"
   ]
  },
  {
   "cell_type": "code",
   "execution_count": 84,
   "metadata": {},
   "outputs": [
    {
     "data": {
      "text/html": [
       "<div>\n",
       "<style scoped>\n",
       "    .dataframe tbody tr th:only-of-type {\n",
       "        vertical-align: middle;\n",
       "    }\n",
       "\n",
       "    .dataframe tbody tr th {\n",
       "        vertical-align: top;\n",
       "    }\n",
       "\n",
       "    .dataframe thead th {\n",
       "        text-align: right;\n",
       "    }\n",
       "</style>\n",
       "<table border=\"1\" class=\"dataframe\">\n",
       "  <thead>\n",
       "    <tr style=\"text-align: right;\">\n",
       "      <th></th>\n",
       "      <th>company_id</th>\n",
       "      <th>funding_round_id</th>\n",
       "      <th>funded_at</th>\n",
       "      <th>funding_round_type</th>\n",
       "      <th>raised_amount</th>\n",
       "      <th>pre_money_valuation</th>\n",
       "      <th>participants</th>\n",
       "      <th>is_first_round</th>\n",
       "      <th>is_last_round</th>\n",
       "    </tr>\n",
       "  </thead>\n",
       "  <tbody>\n",
       "    <tr>\n",
       "      <th>0</th>\n",
       "      <td>1.0</td>\n",
       "      <td>888.0</td>\n",
       "      <td>2005-10-01</td>\n",
       "      <td>series-a</td>\n",
       "      <td>5250000.0</td>\n",
       "      <td>0.0</td>\n",
       "      <td>2.0</td>\n",
       "      <td>0.0</td>\n",
       "      <td>1.0</td>\n",
       "    </tr>\n",
       "    <tr>\n",
       "      <th>1</th>\n",
       "      <td>1.0</td>\n",
       "      <td>889.0</td>\n",
       "      <td>2007-01-01</td>\n",
       "      <td>series-b</td>\n",
       "      <td>9500000.0</td>\n",
       "      <td>0.0</td>\n",
       "      <td>3.0</td>\n",
       "      <td>0.0</td>\n",
       "      <td>0.0</td>\n",
       "    </tr>\n",
       "    <tr>\n",
       "      <th>2</th>\n",
       "      <td>1.0</td>\n",
       "      <td>2312.0</td>\n",
       "      <td>2008-05-19</td>\n",
       "      <td>series-c+</td>\n",
       "      <td>25000000.0</td>\n",
       "      <td>0.0</td>\n",
       "      <td>4.0</td>\n",
       "      <td>1.0</td>\n",
       "      <td>0.0</td>\n",
       "    </tr>\n",
       "    <tr>\n",
       "      <th>3</th>\n",
       "      <td>10.0</td>\n",
       "      <td>NaN</td>\n",
       "      <td>NaT</td>\n",
       "      <td>NaN</td>\n",
       "      <td>NaN</td>\n",
       "      <td>NaN</td>\n",
       "      <td>NaN</td>\n",
       "      <td>NaN</td>\n",
       "      <td>NaN</td>\n",
       "    </tr>\n",
       "    <tr>\n",
       "      <th>4</th>\n",
       "      <td>100.0</td>\n",
       "      <td>NaN</td>\n",
       "      <td>NaT</td>\n",
       "      <td>NaN</td>\n",
       "      <td>NaN</td>\n",
       "      <td>NaN</td>\n",
       "      <td>NaN</td>\n",
       "      <td>NaN</td>\n",
       "      <td>NaN</td>\n",
       "    </tr>\n",
       "  </tbody>\n",
       "</table>\n",
       "</div>"
      ],
      "text/plain": [
       "   company_id  funding_round_id  funded_at funding_round_type  raised_amount  \\\n",
       "0         1.0             888.0 2005-10-01           series-a      5250000.0   \n",
       "1         1.0             889.0 2007-01-01           series-b      9500000.0   \n",
       "2         1.0            2312.0 2008-05-19          series-c+     25000000.0   \n",
       "3        10.0               NaN        NaT                NaN            NaN   \n",
       "4       100.0               NaN        NaT                NaN            NaN   \n",
       "\n",
       "   pre_money_valuation  participants  is_first_round  is_last_round  \n",
       "0                  0.0           2.0             0.0            1.0  \n",
       "1                  0.0           3.0             0.0            0.0  \n",
       "2                  0.0           4.0             1.0            0.0  \n",
       "3                  NaN           NaN             NaN            NaN  \n",
       "4                  NaN           NaN             NaN            NaN  "
      ]
     },
     "execution_count": 84,
     "metadata": {},
     "output_type": "execute_result"
    }
   ],
   "source": [
    "#выведем первые строки дф\n",
    "rounds.head()"
   ]
  },
  {
   "cell_type": "code",
   "execution_count": 85,
   "metadata": {},
   "outputs": [
    {
     "data": {
      "text/html": [
       "<div>\n",
       "<style scoped>\n",
       "    .dataframe tbody tr th:only-of-type {\n",
       "        vertical-align: middle;\n",
       "    }\n",
       "\n",
       "    .dataframe tbody tr th {\n",
       "        vertical-align: top;\n",
       "    }\n",
       "\n",
       "    .dataframe thead th {\n",
       "        text-align: right;\n",
       "    }\n",
       "</style>\n",
       "<table border=\"1\" class=\"dataframe\">\n",
       "  <thead>\n",
       "    <tr style=\"text-align: right;\">\n",
       "      <th></th>\n",
       "      <th>company_id</th>\n",
       "      <th>funding_round_id</th>\n",
       "      <th>funded_at</th>\n",
       "      <th>funding_round_type</th>\n",
       "      <th>raised_amount</th>\n",
       "      <th>pre_money_valuation</th>\n",
       "      <th>participants</th>\n",
       "      <th>is_first_round</th>\n",
       "      <th>is_last_round</th>\n",
       "    </tr>\n",
       "  </thead>\n",
       "  <tbody>\n",
       "    <tr>\n",
       "      <th>0</th>\n",
       "      <td>1.0</td>\n",
       "      <td>888.0</td>\n",
       "      <td>2005-10-01</td>\n",
       "      <td>series-a</td>\n",
       "      <td>5250000.0</td>\n",
       "      <td>0.0</td>\n",
       "      <td>2.0</td>\n",
       "      <td>0.0</td>\n",
       "      <td>1.0</td>\n",
       "    </tr>\n",
       "    <tr>\n",
       "      <th>1</th>\n",
       "      <td>1.0</td>\n",
       "      <td>889.0</td>\n",
       "      <td>2007-01-01</td>\n",
       "      <td>series-b</td>\n",
       "      <td>9500000.0</td>\n",
       "      <td>0.0</td>\n",
       "      <td>3.0</td>\n",
       "      <td>0.0</td>\n",
       "      <td>0.0</td>\n",
       "    </tr>\n",
       "    <tr>\n",
       "      <th>2</th>\n",
       "      <td>1.0</td>\n",
       "      <td>2312.0</td>\n",
       "      <td>2008-05-19</td>\n",
       "      <td>series-c+</td>\n",
       "      <td>25000000.0</td>\n",
       "      <td>0.0</td>\n",
       "      <td>4.0</td>\n",
       "      <td>1.0</td>\n",
       "      <td>0.0</td>\n",
       "    </tr>\n",
       "    <tr>\n",
       "      <th>3</th>\n",
       "      <td>10.0</td>\n",
       "      <td>NaN</td>\n",
       "      <td>NaT</td>\n",
       "      <td>NaN</td>\n",
       "      <td>NaN</td>\n",
       "      <td>NaN</td>\n",
       "      <td>NaN</td>\n",
       "      <td>NaN</td>\n",
       "      <td>NaN</td>\n",
       "    </tr>\n",
       "    <tr>\n",
       "      <th>4</th>\n",
       "      <td>100.0</td>\n",
       "      <td>NaN</td>\n",
       "      <td>NaT</td>\n",
       "      <td>NaN</td>\n",
       "      <td>NaN</td>\n",
       "      <td>NaN</td>\n",
       "      <td>NaN</td>\n",
       "      <td>NaN</td>\n",
       "      <td>NaN</td>\n",
       "    </tr>\n",
       "    <tr>\n",
       "      <th>...</th>\n",
       "      <td>...</td>\n",
       "      <td>...</td>\n",
       "      <td>...</td>\n",
       "      <td>...</td>\n",
       "      <td>...</td>\n",
       "      <td>...</td>\n",
       "      <td>...</td>\n",
       "      <td>...</td>\n",
       "      <td>...</td>\n",
       "    </tr>\n",
       "    <tr>\n",
       "      <th>217769</th>\n",
       "      <td>282847.0</td>\n",
       "      <td>56454.0</td>\n",
       "      <td>2011-01-31</td>\n",
       "      <td>other</td>\n",
       "      <td>5500000.0</td>\n",
       "      <td>0.0</td>\n",
       "      <td>0.0</td>\n",
       "      <td>1.0</td>\n",
       "      <td>1.0</td>\n",
       "    </tr>\n",
       "    <tr>\n",
       "      <th>217770</th>\n",
       "      <td>55477.0</td>\n",
       "      <td>56542.0</td>\n",
       "      <td>2011-01-13</td>\n",
       "      <td>venture</td>\n",
       "      <td>10633300.0</td>\n",
       "      <td>0.0</td>\n",
       "      <td>0.0</td>\n",
       "      <td>0.0</td>\n",
       "      <td>1.0</td>\n",
       "    </tr>\n",
       "    <tr>\n",
       "      <th>217771</th>\n",
       "      <td>55477.0</td>\n",
       "      <td>56543.0</td>\n",
       "      <td>2012-05-31</td>\n",
       "      <td>venture</td>\n",
       "      <td>2125720.0</td>\n",
       "      <td>0.0</td>\n",
       "      <td>0.0</td>\n",
       "      <td>1.0</td>\n",
       "      <td>0.0</td>\n",
       "    </tr>\n",
       "    <tr>\n",
       "      <th>217772</th>\n",
       "      <td>283492.0</td>\n",
       "      <td>56928.0</td>\n",
       "      <td>2013-12-03</td>\n",
       "      <td>venture</td>\n",
       "      <td>3602480.0</td>\n",
       "      <td>0.0</td>\n",
       "      <td>5.0</td>\n",
       "      <td>1.0</td>\n",
       "      <td>1.0</td>\n",
       "    </tr>\n",
       "    <tr>\n",
       "      <th>217773</th>\n",
       "      <td>284191.0</td>\n",
       "      <td>57063.0</td>\n",
       "      <td>2013-12-04</td>\n",
       "      <td>venture</td>\n",
       "      <td>7000000.0</td>\n",
       "      <td>0.0</td>\n",
       "      <td>4.0</td>\n",
       "      <td>1.0</td>\n",
       "      <td>1.0</td>\n",
       "    </tr>\n",
       "  </tbody>\n",
       "</table>\n",
       "<p>217774 rows × 9 columns</p>\n",
       "</div>"
      ],
      "text/plain": [
       "        company_id  funding_round_id  funded_at funding_round_type  \\\n",
       "0              1.0             888.0 2005-10-01           series-a   \n",
       "1              1.0             889.0 2007-01-01           series-b   \n",
       "2              1.0            2312.0 2008-05-19          series-c+   \n",
       "3             10.0               NaN        NaT                NaN   \n",
       "4            100.0               NaN        NaT                NaN   \n",
       "...            ...               ...        ...                ...   \n",
       "217769    282847.0           56454.0 2011-01-31              other   \n",
       "217770     55477.0           56542.0 2011-01-13            venture   \n",
       "217771     55477.0           56543.0 2012-05-31            venture   \n",
       "217772    283492.0           56928.0 2013-12-03            venture   \n",
       "217773    284191.0           57063.0 2013-12-04            venture   \n",
       "\n",
       "        raised_amount  pre_money_valuation  participants  is_first_round  \\\n",
       "0           5250000.0                  0.0           2.0             0.0   \n",
       "1           9500000.0                  0.0           3.0             0.0   \n",
       "2          25000000.0                  0.0           4.0             1.0   \n",
       "3                 NaN                  NaN           NaN             NaN   \n",
       "4                 NaN                  NaN           NaN             NaN   \n",
       "...               ...                  ...           ...             ...   \n",
       "217769      5500000.0                  0.0           0.0             1.0   \n",
       "217770     10633300.0                  0.0           0.0             0.0   \n",
       "217771      2125720.0                  0.0           0.0             1.0   \n",
       "217772      3602480.0                  0.0           5.0             1.0   \n",
       "217773      7000000.0                  0.0           4.0             1.0   \n",
       "\n",
       "        is_last_round  \n",
       "0                 1.0  \n",
       "1                 0.0  \n",
       "2                 0.0  \n",
       "3                 NaN  \n",
       "4                 NaN  \n",
       "...               ...  \n",
       "217769            1.0  \n",
       "217770            1.0  \n",
       "217771            0.0  \n",
       "217772            1.0  \n",
       "217773            1.0  \n",
       "\n",
       "[217774 rows x 9 columns]"
      ]
     },
     "execution_count": 85,
     "metadata": {},
     "output_type": "execute_result"
    }
   ],
   "source": [
    "#проверим - есть ли раунды без компании \n",
    "missing_nums = rounds[rounds['company_id'].isin(companies['company_id'])]\n",
    "missing_nums"
   ]
  },
  {
   "cell_type": "markdown",
   "metadata": {},
   "source": [
    "Строк с company_id, которых нет в таблице компаний - нет"
   ]
  },
  {
   "cell_type": "markdown",
   "metadata": {},
   "source": [
    "Вывод: в таблице компаний 196785 уникальных компаний и 196785 строк — это говорит об отсутствии дубликатов. Для всех раундов найдено соответствующее значение company_id в таблице компаний, связность данных не нарушена.\n"
   ]
  },
  {
   "cell_type": "code",
   "execution_count": 86,
   "metadata": {},
   "outputs": [],
   "source": [
    "#объединим обратно два дф\n",
    "company_rounds_merged = pd.merge(companies, rounds, on='company_id', how='left') "
   ]
  },
  {
   "cell_type": "code",
   "execution_count": 87,
   "metadata": {},
   "outputs": [
    {
     "name": "stdout",
     "output_type": "stream",
     "text": [
      "<class 'pandas.core.frame.DataFrame'>\n",
      "Int64Index: 217774 entries, 0 to 217773\n",
      "Data columns (total 21 columns):\n",
      " #   Column               Non-Null Count   Dtype         \n",
      "---  ------               --------------   -----         \n",
      " 0   company_id           217774 non-null  float64       \n",
      " 1   name                 217472 non-null  object        \n",
      " 2   category_code        143886 non-null  object        \n",
      " 3   status               217472 non-null  object        \n",
      " 4   founded_at           109956 non-null  datetime64[ns]\n",
      " 5   closed_at            3449 non-null    datetime64[ns]\n",
      " 6   domain               147159 non-null  object        \n",
      " 7   network_username     95534 non-null   object        \n",
      " 8   country_code         108607 non-null  object        \n",
      " 9   investment_rounds    217472 non-null  float64       \n",
      " 10  funding_rounds       217472 non-null  float64       \n",
      " 11  funding_total        217472 non-null  float64       \n",
      " 12  milestones           217472 non-null  float64       \n",
      " 13  funding_round_id     52928 non-null   float64       \n",
      " 14  funded_at            52680 non-null   datetime64[ns]\n",
      " 15  funding_round_type   52928 non-null   object        \n",
      " 16  raised_amount        52928 non-null   float64       \n",
      " 17  pre_money_valuation  52928 non-null   float64       \n",
      " 18  participants         52928 non-null   float64       \n",
      " 19  is_first_round       52928 non-null   float64       \n",
      " 20  is_last_round        52928 non-null   float64       \n",
      "dtypes: datetime64[ns](3), float64(11), object(7)\n",
      "memory usage: 36.6+ MB\n"
     ]
    }
   ],
   "source": [
    "company_rounds_merged.info()"
   ]
  },
  {
   "cell_type": "code",
   "execution_count": 88,
   "metadata": {},
   "outputs": [
    {
     "data": {
      "text/plain": [
       "company_id\n",
       "209517.0     0\n",
       "209502.0     0\n",
       "209504.0     0\n",
       "209505.0     0\n",
       "209506.0     0\n",
       "            ..\n",
       "12352.0     13\n",
       "26802.0     13\n",
       "27486.0     14\n",
       "169096.0    15\n",
       "75429.0     15\n",
       "Name: funding_round_id, Length: 196785, dtype: int64"
      ]
     },
     "execution_count": 88,
     "metadata": {},
     "output_type": "execute_result"
    }
   ],
   "source": [
    "#сгруппируем данные по компаниям и выведем информацию по количеству раундов финансирования\n",
    "rounds_per_company = company_rounds_merged.groupby('company_id')['funding_round_id'].count().sort_values()\n",
    "rounds_per_company"
   ]
  },
  {
   "cell_type": "code",
   "execution_count": 89,
   "metadata": {},
   "outputs": [
    {
     "data": {
      "text/plain": [
       "0.26896358970449985"
      ]
     },
     "execution_count": 89,
     "metadata": {},
     "output_type": "execute_result"
    }
   ],
   "source": [
    "#выведем среднее число раундов на компанию\n",
    "rounds_per_company.mean()"
   ]
  },
  {
   "cell_type": "code",
   "execution_count": 90,
   "metadata": {},
   "outputs": [
    {
     "data": {
      "text/plain": [
       "closed_at              0.984162\n",
       "funded_at              0.758098\n",
       "participants           0.756959\n",
       "is_first_round         0.756959\n",
       "raised_amount          0.756959\n",
       "is_last_round          0.756959\n",
       "funding_round_type     0.756959\n",
       "funding_round_id       0.756959\n",
       "pre_money_valuation    0.756959\n",
       "network_username       0.561316\n",
       "country_code           0.501286\n",
       "founded_at             0.495091\n",
       "category_code          0.339288\n",
       "domain                 0.324258\n",
       "milestones             0.001387\n",
       "name                   0.001387\n",
       "status                 0.001387\n",
       "funding_rounds         0.001387\n",
       "funding_total          0.001387\n",
       "investment_rounds      0.001387\n",
       "company_id             0.000000\n",
       "dtype: float64"
      ]
     },
     "execution_count": 90,
     "metadata": {},
     "output_type": "execute_result"
    }
   ],
   "source": [
    "#выведем долю пропусков по каждому столбцу\n",
    "missing_share = company_rounds_merged.isna().mean().sort_values(ascending=False)\n",
    "missing_share"
   ]
  },
  {
   "cell_type": "markdown",
   "metadata": {},
   "source": [
    "Поля с максимальным количеством пропусков:\n",
    "closed_at: 98.8% пропусков — логично, многие компании не закрылись.\n",
    "\n",
    " - network_username, country_code, founded_at — пропусков примерно 50%\n",
    "\n",
    " - Основные числовые метрики (raised_amount, valuation, participants) — пропуски более чем в 75%\n",
    "\n",
    "Данные по раундам не всегда заполнены, что важно учесть при дальнейшем анализе"
   ]
  },
  {
   "cell_type": "markdown",
   "metadata": {
    "id": "bmVYhphNrJg2"
   },
   "source": [
    "\n",
    "## Шаг 3. Исследовательский анализ объединённых таблиц\n",
    "\n",
    "> Приступите к шагу 3 после проверки ревьюера.\n",
    "\n",
    "<big>Студентам нужно чётко сказать - проверять дальше или не проверять.</big>"
   ]
  },
  {
   "cell_type": "markdown",
   "metadata": {
    "id": "3Di6tCT3rJg2"
   },
   "source": [
    "\n",
    "### 3.1. Объединение данных\n",
    "\n",
    "Объедините данные для ответа на вопросы заказчика, которые касаются интересующих его компаний. Заказчика прежде всего интересуют те компании, которые меняли или готовы менять владельцев. Получение инвестиций или финансирования, по мнению заказчика, означает интерес к покупке или продаже компании.\n",
    "\n",
    "В качестве основы для объединённой таблицы возьмите данные из обработанного датасета `company_and_rounds.csv` — выберите только те компании, у которых указаны значения `funding_rounds` или `investment_rounds` больше нуля, или те, у которых в колонке `status` указано `acquired`. В результирующей таблице должно получиться порядка 40 тысяч компаний.\n",
    "\n",
    "Проверьте полноту и корректность получившейся таблицы. Далее работайте только с этими данными."
   ]
  },
  {
   "cell_type": "code",
   "execution_count": 91,
   "metadata": {
    "id": "kuV1b5MXFg3_"
   },
   "outputs": [
    {
     "data": {
      "text/plain": [
       "'Число интересующих компаний: 40747'"
      ]
     },
     "execution_count": 91,
     "metadata": {},
     "output_type": "execute_result"
    }
   ],
   "source": [
    "#отберем копании по условиям\n",
    "filt_companies = companies[(company_rounds_merged['funding_rounds'] > 0) |\n",
    "    (company_rounds_merged['investment_rounds'] > 0) |\n",
    "    (company_rounds_merged['status'] == 'acquired')\n",
    "]\n",
    "\n",
    "f'Число интересующих компаний: {filt_companies[\"company_id\"].nunique()}'"
   ]
  },
  {
   "cell_type": "markdown",
   "metadata": {
    "id": "93v3fEX5FgtP"
   },
   "source": [
    "**Вывод: получившееся число 40747 совпало с ожиданиями**"
   ]
  },
  {
   "cell_type": "markdown",
   "metadata": {
    "id": "DFHINkV3rJg2"
   },
   "source": [
    "\n",
    "### 3.2. Анализ выбросов\n",
    "\n",
    "Заказчика интересует обычный для рассматриваемого периода размер средств, который предоставлялся компаниям.\n",
    "\n",
    "- По предобработанному столбцу `funding_total` графическим способом оцените, какой размер общего финансирования для одной компании будет типичным, а какой — выбивающимся.\n",
    "- В процессе расчёта значений обратите внимание, например, на показатели, возвращаемые методом `.describe()`, — объясните их. Применимы ли к таким данным обычные способы нахождения типичных значений?"
   ]
  },
  {
   "cell_type": "code",
   "execution_count": 92,
   "metadata": {
    "id": "8jm75fKXrJg2",
    "vscode": {
     "languageId": "plaintext"
    }
   },
   "outputs": [],
   "source": [
    "#убираем пропуски\n",
    "funding_data = filt_companies['funding_total'].dropna()"
   ]
  },
  {
   "cell_type": "code",
   "execution_count": 93,
   "metadata": {
    "id": "S1jrfr7rFhcw"
   },
   "outputs": [
    {
     "data": {
      "text/plain": [
       "count    4.074700e+04\n",
       "mean     1.013561e+07\n",
       "std      5.646436e+07\n",
       "min      0.000000e+00\n",
       "25%      0.000000e+00\n",
       "50%      6.000000e+05\n",
       "75%      5.650650e+06\n",
       "max      5.700000e+09\n",
       "Name: funding_total, dtype: float64"
      ]
     },
     "execution_count": 93,
     "metadata": {},
     "output_type": "execute_result"
    }
   ],
   "source": [
    "#выведем основную статистику\n",
    "funding_data.describe()"
   ]
  },
  {
   "cell_type": "markdown",
   "metadata": {},
   "source": [
    "Выводы по статистическим данным:\n",
    " - **count** 40 747 - столько компаний с непустым funding_total\n",
    " - **mean** 10.1 млн - среднее, но оно сильно искажено выбросами\n",
    " - **std** 56.4 млн - очень большое стандартное отклонение — ещё одно подтверждение наличия выбросов\n",
    " - **min** 0 - есть компании без финансирования\n",
    " - **25% (Q1)**\t0 - нижний квартиль — 25% компаний ничего не привлекли \n",
    " - **50% (медиана)** 600 тыс - половина компаний привлекли менее 600 тыс\n",
    " - **75% (Q3)** 5.65 млн - три четверти привлекли менее этой суммы\n",
    " - **max** 5.7 млрд\t — верхняя граница в миллиарды"
   ]
  },
  {
   "cell_type": "code",
   "execution_count": 94,
   "metadata": {},
   "outputs": [
    {
     "data": {
      "image/png": "[encoded data removed]",
      "text/plain": [
       "<Figure size 864x576 with 1 Axes>"
      ]
     },
     "metadata": {
      "needs_background": "light"
     },
     "output_type": "display_data"
    }
   ],
   "source": [
    "#построим гистограмму\n",
    "plt.figure(figsize=(12, 8))\n",
    "sns.histplot(funding_data, bins=100, kde=True)\n",
    "plt.title('Распределение общего финансирования компаний')\n",
    "plt.xlabel('Общее финансирование ($)')\n",
    "plt.ylabel('Число компаний')\n",
    "plt.grid(True)\n",
    "plt.show()"
   ]
  },
  {
   "cell_type": "code",
   "execution_count": 95,
   "metadata": {},
   "outputs": [
    {
     "data": {
      "image/png": "[encoded data removed]",
      "text/plain": [
       "<Figure size 864x576 with 1 Axes>"
      ]
     },
     "metadata": {
      "needs_background": "light"
     },
     "output_type": "display_data"
    }
   ],
   "source": [
    "#построим гистограмму c границей по верхнему квартилю для наглядности\n",
    "plt.figure(figsize=(12, 8))\n",
    "sns.histplot(funding_data[(funding_data < 5650000)], bins=100, kde=True)\n",
    "plt.title('Распределение общего финансирования компаний')\n",
    "plt.xlabel('Общее финансирование ($)')\n",
    "plt.ylabel('Число компаний')\n",
    "plt.grid(True)\n",
    "plt.show()"
   ]
  },
  {
   "cell_type": "code",
   "execution_count": 96,
   "metadata": {},
   "outputs": [
    {
     "data": {
      "image/png": "[encoded data removed]",
      "text/plain": [
       "<Figure size 864x576 with 1 Axes>"
      ]
     },
     "metadata": {
      "needs_background": "light"
     },
     "output_type": "display_data"
    }
   ],
   "source": [
    "#построим график распределения в логарифмической маштабе из-за сильного разброса данных\n",
    "plt.figure(figsize=(12, 8))\n",
    "plt.hist(company_df['funding_total'], bins=50, color='skyblue', edgecolor='black', log=True)\n",
    "plt.xscale('log')  # Логарифмическая шкала по оси X\n",
    "plt.xlabel('Общее финансирование (логарифмическая шкала)')\n",
    "plt.ylabel('Количество компаний')\n",
    "plt.title('Распределение общего финансирования (логарифмическая шкала)')\n",
    "plt.show()  "
   ]
  },
  {
   "cell_type": "code",
   "execution_count": 97,
   "metadata": {},
   "outputs": [
    {
     "data": {
      "text/plain": [
       "'Верхняя граница выбросов: 14,126,625 $'"
      ]
     },
     "execution_count": 97,
     "metadata": {},
     "output_type": "execute_result"
    }
   ],
   "source": [
    "#рассчитаем границы выбросов по IQR\n",
    "Q1 = funding_data.quantile(0.25)\n",
    "Q3 = funding_data.quantile(0.75)\n",
    "IQR = Q3 - Q1\n",
    "\n",
    "upper_bound = Q3 + 1.5 * IQR\n",
    "lower_bound = Q1 - 1.5 * IQR \n",
    "\n",
    "f'Верхняя граница выбросов: {upper_bound:,.0f} $'"
   ]
  },
  {
   "cell_type": "code",
   "execution_count": 98,
   "metadata": {},
   "outputs": [
    {
     "data": {
      "text/plain": [
       "'Число выбросов: 5858 из 40747 компаний или 14.38%'"
      ]
     },
     "execution_count": 98,
     "metadata": {},
     "output_type": "execute_result"
    }
   ],
   "source": [
    "#определим процент выбросов\n",
    "outliers = funding_data[funding_data > upper_bound]\n",
    "f'Число выбросов: {len(outliers)} из {len(funding_data)} компаний или {len(outliers)/len(funding_data):.2%}'"
   ]
  },
  {
   "cell_type": "markdown",
   "metadata": {},
   "source": [
    "Вывод по анализу выбросов funding_total\n",
    "\n",
    "В таблице 40 747 компаний с ненулевым или ненулевым значением funding_total. Распределение показало сильную скошенность: медианное финансирование — 600 тыс долларов, но максимальное значение — 5.7 млрд\n",
    "\n",
    "Среднее значение (21.1 млн долларов) сильно искажено редкими очень крупными сделками, поэтому для анализа лучше использовать медиану\n",
    "\n",
    "Верхняя граница типичного финансирования: 14 126 625 долларов\n",
    "Компаний с выбросами: 5858 из 40 747 (14.38%)"
   ]
  },
  {
   "cell_type": "markdown",
   "metadata": {
    "id": "JqkRAQrIrJg2"
   },
   "source": [
    "\n",
    "### 3.3. Куплены забесплатно?\n",
    "\n",
    "- Исследуйте компании, которые были проданы за ноль или за один доллар, и при этом известно, что у них был ненулевой общий объём финансирования.\n",
    "\n",
    "- Рассчитайте аналитически верхнюю и нижнюю границу выбросов для столбца `funding_total` и укажите, каким процентилям границы соответствуют."
   ]
  },
  {
   "cell_type": "code",
   "execution_count": 105,
   "metadata": {
    "id": "wJHXCBwwrJg2",
    "vscode": {
     "languageId": "plaintext"
    }
   },
   "outputs": [],
   "source": [
    "#повторно отберем интересующие компании, заменяя пропуски на нулевые значения\n",
    "#selected_companies = company_rounds_merged[\n",
    "  #  (company_rounds_merged['funding_rounds'].fillna(0) > 0) |\n",
    "  #  (company_rounds_merged['investment_rounds'].fillna(0) > 0) |\n",
    "   # (company_rounds_merged['status'] == 'acquired')]\n",
    "#f'Число интересующих компаний: {selected_companies.shape[0]}'"
   ]
  },
  {
   "cell_type": "code",
   "execution_count": 106,
   "metadata": {},
   "outputs": [],
   "source": [
    "#отберем компании с признаками проданы за 0$ или 1$ и ненулевым финансированием\n",
    "#cheap_acquisitions = selected_companies[\n",
    "    #(selected_companies['raised_amount'].isin([0, 1])) &\n",
    "   # (selected_companies['funding_total'] > 0)]\n",
    "#f'Число компаний, проданных за 0$ или 1$, при этом с финансированием > 0: {cheap_acquisitions.shape[0]}'"
   ]
  },
  {
   "cell_type": "code",
   "execution_count": 99,
   "metadata": {},
   "outputs": [],
   "source": [
    "#повторно отберем интересующие компании, заменяя пропуски на нулевые значения\n",
    "filt_companies = companies[(companies['funding_rounds'].fillna(0) > 0) |\n",
    "    (companies['investment_rounds'].fillna(0) > 0) |\n",
    "    (companies['status'] == 'acquired')\n",
    "]"
   ]
  },
  {
   "cell_type": "code",
   "execution_count": 100,
   "metadata": {},
   "outputs": [],
   "source": [
    "#объединим с датасетом acquisition\n",
    "df_merge = pd.merge(left = filt_companies, right = acquisition_df, left_on='company_id', right_on = 'acquiring_company_id', how='left') "
   ]
  },
  {
   "cell_type": "code",
   "execution_count": 101,
   "metadata": {},
   "outputs": [
    {
     "data": {
      "text/plain": [
       "'Число компаний, проданных за 0$ или 1$, при этом с финансированием > 0: 304'"
      ]
     },
     "execution_count": 101,
     "metadata": {},
     "output_type": "execute_result"
    }
   ],
   "source": [
    "#сделаем фильрацию данных\n",
    "cheap_acquisitions = df_merge[(df_merge.status == \"acquired\") & (df_merge.price_amount < 2) & (df_merge.funding_total != 0)]\n",
    "f'Число компаний, проданных за 0$ или 1$, при этом с финансированием > 0: {cheap_acquisitions.shape[0]}'"
   ]
  },
  {
   "cell_type": "code",
   "execution_count": 102,
   "metadata": {},
   "outputs": [
    {
     "data": {
      "text/plain": [
       "'Верхняя граница выбросов соответствует примерно 85.62-му процентилю'"
      ]
     },
     "execution_count": 102,
     "metadata": {},
     "output_type": "execute_result"
    }
   ],
   "source": [
    "upper_boundary = 14126625\n",
    "percentile = np.round(\n",
    "    (filt_companies['funding_total'] < upper_boundary).mean() * 100, 2)\n",
    "f\"Верхняя граница выбросов соответствует примерно {percentile}-му процентилю\""
   ]
  },
  {
   "cell_type": "markdown",
   "metadata": {},
   "source": [
    "Вывод:\n",
    "Для оценки типичного объёма финансирования были рассчитаны границы выбросов. Верхняя граница оказалась на уровне 14.1 млн долларов, что соответствует 86-му процентилю распределения\n",
    "Также были выявлены 304 компаний, которые получили финансирование, но затем были проданы всего за 0 или 1 доллар — потенциально это неудачные или формальные сделки"
   ]
  },
  {
   "cell_type": "markdown",
   "metadata": {
    "id": "mEiWpROjrJg2"
   },
   "source": [
    "\n",
    "### 3.4. Цены стартапов по категориям\n",
    "\n",
    "Категории стартапов с типично высокими ценами покупки стартапов и значительным разбросом цен могут быть привлекательными для крупных инвесторов, которые готовы к высоким рискам ради потенциально больших доходов. Среди категорий стартапов выделите категории стартапов, характеризующиеся:\n",
    "\n",
    "- типично высокими ценами;\n",
    "- и наибольшим разбросом цен за стартап.\n",
    "\n",
    "Объясните, почему решили составить топ именно из такого числа категорий и почему рассчитывали именно так."
   ]
  },
  {
   "cell_type": "code",
   "execution_count": 103,
   "metadata": {
    "id": "jQ09dYUWrJg2",
    "vscode": {
     "languageId": "plaintext"
    }
   },
   "outputs": [
    {
     "name": "stdout",
     "output_type": "stream",
     "text": [
      "<class 'pandas.core.frame.DataFrame'>\n",
      "RangeIndex: 9407 entries, 0 to 9406\n",
      "Data columns (total 6 columns):\n",
      " #   Column                Non-Null Count  Dtype         \n",
      "---  ------                --------------  -----         \n",
      " 0   id                    9407 non-null   int64         \n",
      " 1   acquiring_company_id  9407 non-null   int64         \n",
      " 2   acquired_company_id   9407 non-null   int64         \n",
      " 3   term_code             1831 non-null   object        \n",
      " 4   price_amount          9407 non-null   int64         \n",
      " 5   acquired_at           9378 non-null   datetime64[ns]\n",
      "dtypes: datetime64[ns](1), int64(4), object(1)\n",
      "memory usage: 441.1+ KB\n"
     ]
    }
   ],
   "source": [
    "acquisition_df.info()"
   ]
  },
  {
   "cell_type": "code",
   "execution_count": 104,
   "metadata": {
    "id": "eF1aULm5FjfY"
   },
   "outputs": [],
   "source": [
    "#объединим компании с таблицей поглощений\n",
    "selected_with_acquisition = filt_companies.merge(acquisition_df, left_on='company_id', \n",
    "                                                     right_on='acquiring_company_id', how='left')"
   ]
  },
  {
   "cell_type": "code",
   "execution_count": 105,
   "metadata": {},
   "outputs": [],
   "source": [
    "clean_df = selected_with_acquisition.drop_duplicates()"
   ]
  },
  {
   "cell_type": "code",
   "execution_count": 106,
   "metadata": {},
   "outputs": [
    {
     "data": {
      "text/html": [
       "<div>\n",
       "<style scoped>\n",
       "    .dataframe tbody tr th:only-of-type {\n",
       "        vertical-align: middle;\n",
       "    }\n",
       "\n",
       "    .dataframe tbody tr th {\n",
       "        vertical-align: top;\n",
       "    }\n",
       "\n",
       "    .dataframe thead th {\n",
       "        text-align: right;\n",
       "    }\n",
       "</style>\n",
       "<table border=\"1\" class=\"dataframe\">\n",
       "  <thead>\n",
       "    <tr style=\"text-align: right;\">\n",
       "      <th></th>\n",
       "      <th>company_id</th>\n",
       "      <th>name</th>\n",
       "      <th>price_amount</th>\n",
       "    </tr>\n",
       "  </thead>\n",
       "  <tbody>\n",
       "    <tr>\n",
       "      <th>0</th>\n",
       "      <td>1.0</td>\n",
       "      <td>Wetpaint</td>\n",
       "      <td>NaN</td>\n",
       "    </tr>\n",
       "    <tr>\n",
       "      <th>1</th>\n",
       "      <td>10.0</td>\n",
       "      <td>Flektor</td>\n",
       "      <td>NaN</td>\n",
       "    </tr>\n",
       "    <tr>\n",
       "      <th>2</th>\n",
       "      <td>100.0</td>\n",
       "      <td>There</td>\n",
       "      <td>NaN</td>\n",
       "    </tr>\n",
       "    <tr>\n",
       "      <th>3</th>\n",
       "      <td>1001.0</td>\n",
       "      <td>FriendFeed</td>\n",
       "      <td>NaN</td>\n",
       "    </tr>\n",
       "    <tr>\n",
       "      <th>4</th>\n",
       "      <td>10014.0</td>\n",
       "      <td>Mobclix</td>\n",
       "      <td>0.0</td>\n",
       "    </tr>\n",
       "  </tbody>\n",
       "</table>\n",
       "</div>"
      ],
      "text/plain": [
       "   company_id        name  price_amount\n",
       "0         1.0    Wetpaint           NaN\n",
       "1        10.0     Flektor           NaN\n",
       "2       100.0       There           NaN\n",
       "3      1001.0  FriendFeed           NaN\n",
       "4     10014.0     Mobclix           0.0"
      ]
     },
     "execution_count": 106,
     "metadata": {},
     "output_type": "execute_result"
    }
   ],
   "source": [
    "selected_with_acquisition[['company_id', 'name', 'price_amount']].head()"
   ]
  },
  {
   "cell_type": "code",
   "execution_count": 107,
   "metadata": {},
   "outputs": [],
   "source": [
    "#оставим только те компании, у которых цена поглощения указана и больше 0\n",
    "acquired_companies = selected_with_acquisition[\n",
    "    selected_with_acquisition['price_amount'].notna() &\n",
    "    (selected_with_acquisition['price_amount'] > 0)]"
   ]
  },
  {
   "cell_type": "code",
   "execution_count": 108,
   "metadata": {},
   "outputs": [
    {
     "data": {
      "text/html": [
       "<div>\n",
       "<style scoped>\n",
       "    .dataframe tbody tr th:only-of-type {\n",
       "        vertical-align: middle;\n",
       "    }\n",
       "\n",
       "    .dataframe tbody tr th {\n",
       "        vertical-align: top;\n",
       "    }\n",
       "\n",
       "    .dataframe thead th {\n",
       "        text-align: right;\n",
       "    }\n",
       "</style>\n",
       "<table border=\"1\" class=\"dataframe\">\n",
       "  <thead>\n",
       "    <tr style=\"text-align: right;\">\n",
       "      <th></th>\n",
       "      <th>company_id</th>\n",
       "      <th>name</th>\n",
       "      <th>category_code</th>\n",
       "      <th>price_amount</th>\n",
       "    </tr>\n",
       "  </thead>\n",
       "  <tbody>\n",
       "    <tr>\n",
       "      <th>31</th>\n",
       "      <td>10069.0</td>\n",
       "      <td>PlayPhone</td>\n",
       "      <td>games_video</td>\n",
       "      <td>51500000.0</td>\n",
       "    </tr>\n",
       "    <tr>\n",
       "      <th>42</th>\n",
       "      <td>10085.0</td>\n",
       "      <td>Compaq</td>\n",
       "      <td>hardware</td>\n",
       "      <td>307000000.0</td>\n",
       "    </tr>\n",
       "    <tr>\n",
       "      <th>58</th>\n",
       "      <td>10119.0</td>\n",
       "      <td>WPP</td>\n",
       "      <td>public_relations</td>\n",
       "      <td>649000000.0</td>\n",
       "    </tr>\n",
       "    <tr>\n",
       "      <th>90</th>\n",
       "      <td>10166.0</td>\n",
       "      <td>Acxiom</td>\n",
       "      <td>software</td>\n",
       "      <td>3600000.0</td>\n",
       "    </tr>\n",
       "    <tr>\n",
       "      <th>131</th>\n",
       "      <td>10222.0</td>\n",
       "      <td>Hitachi</td>\n",
       "      <td>public_relations</td>\n",
       "      <td>120000000.0</td>\n",
       "    </tr>\n",
       "  </tbody>\n",
       "</table>\n",
       "</div>"
      ],
      "text/plain": [
       "     company_id       name     category_code  price_amount\n",
       "31      10069.0  PlayPhone       games_video    51500000.0\n",
       "42      10085.0     Compaq          hardware   307000000.0\n",
       "58      10119.0        WPP  public_relations   649000000.0\n",
       "90      10166.0     Acxiom          software     3600000.0\n",
       "131     10222.0    Hitachi  public_relations   120000000.0"
      ]
     },
     "execution_count": 108,
     "metadata": {},
     "output_type": "execute_result"
    }
   ],
   "source": [
    "acquired_companies[['company_id', 'name', 'category_code', 'price_amount']].head()"
   ]
  },
  {
   "cell_type": "code",
   "execution_count": 109,
   "metadata": {},
   "outputs": [
    {
     "data": {
      "text/html": [
       "<div>\n",
       "<style scoped>\n",
       "    .dataframe tbody tr th:only-of-type {\n",
       "        vertical-align: middle;\n",
       "    }\n",
       "\n",
       "    .dataframe tbody tr th {\n",
       "        vertical-align: top;\n",
       "    }\n",
       "\n",
       "    .dataframe thead th {\n",
       "        text-align: right;\n",
       "    }\n",
       "</style>\n",
       "<table border=\"1\" class=\"dataframe\">\n",
       "  <thead>\n",
       "    <tr style=\"text-align: right;\">\n",
       "      <th></th>\n",
       "      <th>count</th>\n",
       "      <th>median</th>\n",
       "      <th>std</th>\n",
       "    </tr>\n",
       "    <tr>\n",
       "      <th>category_code</th>\n",
       "      <th></th>\n",
       "      <th></th>\n",
       "      <th></th>\n",
       "    </tr>\n",
       "  </thead>\n",
       "  <tbody>\n",
       "    <tr>\n",
       "      <th>biotech</th>\n",
       "      <td>120</td>\n",
       "      <td>334000000.0</td>\n",
       "      <td>2.411252e+09</td>\n",
       "    </tr>\n",
       "    <tr>\n",
       "      <th>cleantech</th>\n",
       "      <td>13</td>\n",
       "      <td>265000000.0</td>\n",
       "      <td>1.040202e+09</td>\n",
       "    </tr>\n",
       "    <tr>\n",
       "      <th>network_hosting</th>\n",
       "      <td>48</td>\n",
       "      <td>181500000.0</td>\n",
       "      <td>1.422482e+09</td>\n",
       "    </tr>\n",
       "    <tr>\n",
       "      <th>mobile</th>\n",
       "      <td>51</td>\n",
       "      <td>178000000.0</td>\n",
       "      <td>8.178944e+09</td>\n",
       "    </tr>\n",
       "    <tr>\n",
       "      <th>hardware</th>\n",
       "      <td>86</td>\n",
       "      <td>162500000.0</td>\n",
       "      <td>1.206753e+09</td>\n",
       "    </tr>\n",
       "    <tr>\n",
       "      <th>other</th>\n",
       "      <td>39</td>\n",
       "      <td>150000000.0</td>\n",
       "      <td>2.957766e+09</td>\n",
       "    </tr>\n",
       "    <tr>\n",
       "      <th>enterprise</th>\n",
       "      <td>84</td>\n",
       "      <td>97500000.0</td>\n",
       "      <td>1.663672e+09</td>\n",
       "    </tr>\n",
       "    <tr>\n",
       "      <th>security</th>\n",
       "      <td>43</td>\n",
       "      <td>95000000.0</td>\n",
       "      <td>5.452944e+08</td>\n",
       "    </tr>\n",
       "    <tr>\n",
       "      <th>news</th>\n",
       "      <td>20</td>\n",
       "      <td>84500000.0</td>\n",
       "      <td>8.068373e+08</td>\n",
       "    </tr>\n",
       "    <tr>\n",
       "      <th>web</th>\n",
       "      <td>221</td>\n",
       "      <td>80000000.0</td>\n",
       "      <td>1.485598e+09</td>\n",
       "    </tr>\n",
       "  </tbody>\n",
       "</table>\n",
       "</div>"
      ],
      "text/plain": [
       "                 count       median           std\n",
       "category_code                                    \n",
       "biotech            120  334000000.0  2.411252e+09\n",
       "cleantech           13  265000000.0  1.040202e+09\n",
       "network_hosting     48  181500000.0  1.422482e+09\n",
       "mobile              51  178000000.0  8.178944e+09\n",
       "hardware            86  162500000.0  1.206753e+09\n",
       "other               39  150000000.0  2.957766e+09\n",
       "enterprise          84   97500000.0  1.663672e+09\n",
       "security            43   95000000.0  5.452944e+08\n",
       "news                20   84500000.0  8.068373e+08\n",
       "web                221   80000000.0  1.485598e+09"
      ]
     },
     "execution_count": 109,
     "metadata": {},
     "output_type": "execute_result"
    }
   ],
   "source": [
    "#группировка по категориям\n",
    "category_price_stats = acquired_companies.groupby('category_code')['price_amount'].agg(['count', 'median', 'std']).sort_values('median', ascending=False)\n",
    "\n",
    "#отфильтруем категории с достаточным числом наблюдений\n",
    "category_price_stats_filtered = category_price_stats[category_price_stats['count'] >= 10]\n",
    "\n",
    "#посмотрим топ-10 категорий по медиане цены\n",
    "category_price_stats_filtered.sort_values('median', ascending=False).head(10)"
   ]
  },
  {
   "cell_type": "code",
   "execution_count": 110,
   "metadata": {},
   "outputs": [
    {
     "data": {
      "text/html": [
       "<div>\n",
       "<style scoped>\n",
       "    .dataframe tbody tr th:only-of-type {\n",
       "        vertical-align: middle;\n",
       "    }\n",
       "\n",
       "    .dataframe tbody tr th {\n",
       "        vertical-align: top;\n",
       "    }\n",
       "\n",
       "    .dataframe thead th {\n",
       "        text-align: right;\n",
       "    }\n",
       "</style>\n",
       "<table border=\"1\" class=\"dataframe\">\n",
       "  <thead>\n",
       "    <tr style=\"text-align: right;\">\n",
       "      <th></th>\n",
       "      <th>count</th>\n",
       "      <th>median</th>\n",
       "      <th>std</th>\n",
       "    </tr>\n",
       "    <tr>\n",
       "      <th>category_code</th>\n",
       "      <th></th>\n",
       "      <th></th>\n",
       "      <th></th>\n",
       "    </tr>\n",
       "  </thead>\n",
       "  <tbody>\n",
       "    <tr>\n",
       "      <th>mobile</th>\n",
       "      <td>51</td>\n",
       "      <td>178000000.0</td>\n",
       "      <td>8.178944e+09</td>\n",
       "    </tr>\n",
       "    <tr>\n",
       "      <th>finance</th>\n",
       "      <td>12</td>\n",
       "      <td>26300000.0</td>\n",
       "      <td>7.476402e+09</td>\n",
       "    </tr>\n",
       "    <tr>\n",
       "      <th>other</th>\n",
       "      <td>39</td>\n",
       "      <td>150000000.0</td>\n",
       "      <td>2.957766e+09</td>\n",
       "    </tr>\n",
       "    <tr>\n",
       "      <th>biotech</th>\n",
       "      <td>120</td>\n",
       "      <td>334000000.0</td>\n",
       "      <td>2.411252e+09</td>\n",
       "    </tr>\n",
       "    <tr>\n",
       "      <th>search</th>\n",
       "      <td>55</td>\n",
       "      <td>60000000.0</td>\n",
       "      <td>1.748839e+09</td>\n",
       "    </tr>\n",
       "    <tr>\n",
       "      <th>enterprise</th>\n",
       "      <td>84</td>\n",
       "      <td>97500000.0</td>\n",
       "      <td>1.663672e+09</td>\n",
       "    </tr>\n",
       "    <tr>\n",
       "      <th>web</th>\n",
       "      <td>221</td>\n",
       "      <td>80000000.0</td>\n",
       "      <td>1.485598e+09</td>\n",
       "    </tr>\n",
       "    <tr>\n",
       "      <th>network_hosting</th>\n",
       "      <td>48</td>\n",
       "      <td>181500000.0</td>\n",
       "      <td>1.422482e+09</td>\n",
       "    </tr>\n",
       "    <tr>\n",
       "      <th>games_video</th>\n",
       "      <td>43</td>\n",
       "      <td>65000000.0</td>\n",
       "      <td>1.336028e+09</td>\n",
       "    </tr>\n",
       "    <tr>\n",
       "      <th>hardware</th>\n",
       "      <td>86</td>\n",
       "      <td>162500000.0</td>\n",
       "      <td>1.206753e+09</td>\n",
       "    </tr>\n",
       "  </tbody>\n",
       "</table>\n",
       "</div>"
      ],
      "text/plain": [
       "                 count       median           std\n",
       "category_code                                    \n",
       "mobile              51  178000000.0  8.178944e+09\n",
       "finance             12   26300000.0  7.476402e+09\n",
       "other               39  150000000.0  2.957766e+09\n",
       "biotech            120  334000000.0  2.411252e+09\n",
       "search              55   60000000.0  1.748839e+09\n",
       "enterprise          84   97500000.0  1.663672e+09\n",
       "web                221   80000000.0  1.485598e+09\n",
       "network_hosting     48  181500000.0  1.422482e+09\n",
       "games_video         43   65000000.0  1.336028e+09\n",
       "hardware            86  162500000.0  1.206753e+09"
      ]
     },
     "execution_count": 110,
     "metadata": {},
     "output_type": "execute_result"
    }
   ],
   "source": [
    "#выведем топ-10 категорий по разбросу цен\n",
    "category_price_stats_filtered.sort_values('std', ascending=False).head(10)"
   ]
  },
  {
   "cell_type": "markdown",
   "metadata": {},
   "source": [
    "Обоснование выбора метрик: медиана устойчива к выбросам и отражает «типичную» цену,а стандартное отклонение показывает разброс — насколько непредсказуемой может быть цена покупки.\n"
   ]
  },
  {
   "cell_type": "markdown",
   "metadata": {
    "id": "ADOfyVY_rJg3"
   },
   "source": [
    "\n",
    "### 3.5. Сколько раундов продержится стартап перед покупкой\n",
    "\n",
    "- Необходимо проанализировать столбец `funding_rounds`. Исследуйте значения столбца. Заказчика интересует типичное значение количества раундов для каждого возможного статуса стартапа.\n",
    "- Постройте график, который отображает, сколько в среднем раундов финансирования проходило для стартапов из каждой группы. Сделайте выводы."
   ]
  },
  {
   "cell_type": "code",
   "execution_count": 111,
   "metadata": {
    "id": "hgXMPC4WrJg3",
    "vscode": {
     "languageId": "plaintext"
    }
   },
   "outputs": [
    {
     "data": {
      "text/plain": [
       "count    31707.000000\n",
       "mean         1.659760\n",
       "std          1.201666\n",
       "min          1.000000\n",
       "25%          1.000000\n",
       "50%          1.000000\n",
       "75%          2.000000\n",
       "max         15.000000\n",
       "Name: funding_rounds, dtype: float64"
      ]
     },
     "execution_count": 111,
     "metadata": {},
     "output_type": "execute_result"
    }
   ],
   "source": [
    "#фильтруем строки, оставляя только положительные значения в funding_rounds\n",
    "filtered_df = companies[companies['funding_rounds'] > 0]\n",
    "companies = filtered_df.copy()\n",
    "filtered_df['funding_rounds'].describe()"
   ]
  },
  {
   "cell_type": "code",
   "execution_count": 112,
   "metadata": {},
   "outputs": [
    {
     "data": {
      "text/plain": [
       "status\n",
       "ipo          2.526531\n",
       "acquired     1.896645\n",
       "operating    1.642359\n",
       "closed       1.383437\n",
       "Name: funding_rounds, dtype: float64"
      ]
     },
     "execution_count": 112,
     "metadata": {},
     "output_type": "execute_result"
    }
   ],
   "source": [
    "#посчитаем среднее количество раундов по статусам\n",
    "avg_rounds_by_status = (companies.groupby('status')['funding_rounds'].mean().sort_values(ascending=False))\n",
    "avg_rounds_by_status"
   ]
  },
  {
   "cell_type": "code",
   "execution_count": 113,
   "metadata": {
    "id": "pV3e7kw5Fj1Y"
   },
   "outputs": [
    {
     "data": {
      "image/png": "[encoded data removed]",
      "text/plain": [
       "<Figure size 864x576 with 1 Axes>"
      ]
     },
     "metadata": {
      "needs_background": "light"
     },
     "output_type": "display_data"
    }
   ],
   "source": [
    "#построим график\n",
    "plt.figure(figsize=(12,8))\n",
    "avg_rounds_by_status.plot(kind='bar', color='purple')\n",
    "plt.title('Среднее число раундов финансирования по статусу стартапа')\n",
    "plt.ylabel('Среднее число раундов')\n",
    "plt.xlabel('Статус стартапа')\n",
    "plt.xticks(rotation=0)\n",
    "plt.grid(axis='y', linestyle='', alpha=0.7)\n",
    "plt.tight_layout()\n",
    "\n",
    "for i, v in enumerate(avg_rounds_by_status.values):\n",
    "    plt.text(i, v + 0.01, str(round(v, 2)), ha='center', va='bottom', fontsize=10)\n",
    "\n",
    "plt.show()"
   ]
  },
  {
   "cell_type": "markdown",
   "metadata": {},
   "source": [
    "Вывод: комании, вышедшие на IPO в среднем проходили почти 2.5 раунда; те, кого купили - почти2 раунда; обычные дйствующие компании - 1.64 раунда; а закрытые - 1.38 раундов."
   ]
  },
  {
   "cell_type": "markdown",
   "metadata": {
    "id": "VAFEZ2HBrJg3"
   },
   "source": [
    "\n",
    "## Шаг 4. Итоговый вывод и рекомендации\n",
    "\n",
    "Опишите, что было сделано в проекте, какие были сделаны выводы, подкрепляют ли они друг друга или заставляют сомневаться в полученных результатах."
   ]
  },
  {
   "cell_type": "markdown",
   "metadata": {},
   "source": [
    "В этом проекте мы изучили данные о стартапах: объемы привлеченных инвестиций, количество раундов финансирования и их итоги — выход на IPO, поглощение другими компаниями или закрытие.\n",
    "\n",
    "Данные были собраны из нескольких источников, очищены от дубликатов и пропущенных значений, после чего мы провели поиск закономерностей, которые могут быть полезны инвесторам.\n",
    "\n",
    "Ключевые выводы\n",
    "1. Какие стартапы привлекают инвесторов?\n",
    "Мы выделили компании, которые получили инвестиции (даже минимальные) или были приобретены. Таких оказалось свыше 40 тысяч.\n",
    "Чтобы исключить искажение данных, мы убрали выбросы — стартапы с аномально высокой оценкой. Они составили около 14% от общего числа.\n",
    "\n",
    "2. Странные сделки: покупки за 0 или 1 доллар\n",
    "Обнаружилось 304 случаев, когда стартапы приобретались за символическую сумму, несмотря на ранее привлеченные инвестиции. Возможные причины — неудачные проекты, внутренние сделки или юридические нюансы.\n",
    "\n",
    "3. В каких сферах стартапы продаются дороже?\n",
    "Наибольшие суммы приходятся на:\n",
    "\n",
    "Biotech, Cleantech и Network Hosting\n",
    "\n",
    "При этом в Mobile, Finance и Biotech наблюдается сильный разброс цен, что говорит о высокой волатильности и рисках в этих нишах.\n",
    "\n",
    "4. Сколько раундов финансирования проходят стартапы перед выходом?\n",
    "Среднее количество раундов в зависимости от исхода:\n",
    "\n",
    "IPO примерно 2.5 раунда\n",
    "\n",
    "Поглощение примерно 1.9 раунда\n",
    "\n",
    "Действующие компании меньше 1.64 раунда\n",
    "\n",
    "Закрывшиеся стартапы примерно 1.38 раунда\n",
    "\n",
    "Это показывает, что выход на IPO требует большего финансирования, а неудачные стартапы часто проходят больше раундов, чем успешно проданные."
   ]
  }
 ],
 "metadata": {
  "ExecuteTimeLog": [
   {
    "duration": 88,
    "start_time": "2025-07-31T14:36:17.947Z"
   },
   {
    "duration": 1407,
    "start_time": "2025-07-31T14:38:14.465Z"
   },
   {
    "duration": 1172,
    "start_time": "2025-07-31T14:40:12.462Z"
   },
   {
    "duration": 107,
    "start_time": "2025-07-31T14:40:33.531Z"
   },
   {
    "duration": 86,
    "start_time": "2025-07-31T14:40:37.096Z"
   },
   {
    "duration": 107,
    "start_time": "2025-07-31T14:40:44.213Z"
   },
   {
    "duration": 120,
    "start_time": "2025-07-31T14:41:27.366Z"
   },
   {
    "duration": 27,
    "start_time": "2025-07-31T14:41:45.704Z"
   },
   {
    "duration": 22,
    "start_time": "2025-07-31T14:43:02.614Z"
   },
   {
    "duration": 25,
    "start_time": "2025-07-31T14:43:58.021Z"
   },
   {
    "duration": 25,
    "start_time": "2025-07-31T14:44:27.347Z"
   },
   {
    "duration": 22,
    "start_time": "2025-07-31T14:44:44.744Z"
   },
   {
    "duration": 60,
    "start_time": "2025-07-31T15:06:31.652Z"
   },
   {
    "duration": 23,
    "start_time": "2025-07-31T15:07:11.061Z"
   },
   {
    "duration": 9,
    "start_time": "2025-08-04T19:01:52.984Z"
   },
   {
    "duration": 46,
    "start_time": "2025-08-04T19:01:53.621Z"
   },
   {
    "duration": 1512,
    "start_time": "2025-08-04T19:02:02.471Z"
   },
   {
    "duration": 1290,
    "start_time": "2025-08-04T19:02:03.985Z"
   },
   {
    "duration": 114,
    "start_time": "2025-08-04T19:02:05.277Z"
   },
   {
    "duration": 29,
    "start_time": "2025-08-04T19:02:05.394Z"
   },
   {
    "duration": 43,
    "start_time": "2025-08-04T19:02:05.425Z"
   },
   {
    "duration": 4,
    "start_time": "2025-08-04T19:02:05.910Z"
   },
   {
    "duration": 71,
    "start_time": "2025-08-04T19:02:06.314Z"
   },
   {
    "duration": 15,
    "start_time": "2025-08-04T19:02:30.936Z"
   },
   {
    "duration": 5,
    "start_time": "2025-08-04T19:04:41.190Z"
   },
   {
    "duration": 4,
    "start_time": "2025-08-04T19:05:48.683Z"
   },
   {
    "duration": 7,
    "start_time": "2025-08-04T19:05:49.034Z"
   },
   {
    "duration": 1299,
    "start_time": "2025-08-04T19:05:59.830Z"
   },
   {
    "duration": 1159,
    "start_time": "2025-08-04T19:06:01.131Z"
   },
   {
    "duration": 124,
    "start_time": "2025-08-04T19:06:02.292Z"
   },
   {
    "duration": 29,
    "start_time": "2025-08-04T19:06:02.418Z"
   },
   {
    "duration": 25,
    "start_time": "2025-08-04T19:06:02.461Z"
   },
   {
    "duration": 4,
    "start_time": "2025-08-04T19:06:02.520Z"
   },
   {
    "duration": 5,
    "start_time": "2025-08-04T19:06:03.654Z"
   },
   {
    "duration": 4,
    "start_time": "2025-08-04T19:06:17.251Z"
   },
   {
    "duration": 5,
    "start_time": "2025-08-04T19:06:17.598Z"
   },
   {
    "duration": 1245,
    "start_time": "2025-08-04T19:06:40.214Z"
   },
   {
    "duration": 981,
    "start_time": "2025-08-04T19:06:41.461Z"
   },
   {
    "duration": 118,
    "start_time": "2025-08-04T19:06:42.444Z"
   },
   {
    "duration": 26,
    "start_time": "2025-08-04T19:06:42.564Z"
   },
   {
    "duration": 27,
    "start_time": "2025-08-04T19:06:42.591Z"
   },
   {
    "duration": 20,
    "start_time": "2025-08-04T19:17:46.204Z"
   },
   {
    "duration": 19,
    "start_time": "2025-08-04T19:17:57.386Z"
   },
   {
    "duration": 3,
    "start_time": "2025-08-04T19:18:06.869Z"
   },
   {
    "duration": 4,
    "start_time": "2025-08-04T19:18:07.745Z"
   },
   {
    "duration": 5,
    "start_time": "2025-08-04T19:18:08.102Z"
   },
   {
    "duration": 1276,
    "start_time": "2025-08-04T19:18:25.736Z"
   },
   {
    "duration": 1172,
    "start_time": "2025-08-04T19:18:27.014Z"
   },
   {
    "duration": 112,
    "start_time": "2025-08-04T19:18:28.188Z"
   },
   {
    "duration": 27,
    "start_time": "2025-08-04T19:18:28.303Z"
   },
   {
    "duration": 81,
    "start_time": "2025-08-04T19:18:28.332Z"
   },
   {
    "duration": 9,
    "start_time": "2025-08-04T19:18:28.415Z"
   },
   {
    "duration": 6,
    "start_time": "2025-08-04T19:18:28.426Z"
   },
   {
    "duration": 9,
    "start_time": "2025-08-04T19:18:28.434Z"
   },
   {
    "duration": 3,
    "start_time": "2025-08-04T19:19:11.762Z"
   },
   {
    "duration": 5,
    "start_time": "2025-08-04T19:19:13.012Z"
   },
   {
    "duration": 3,
    "start_time": "2025-08-04T19:19:27.134Z"
   },
   {
    "duration": 6,
    "start_time": "2025-08-04T19:19:27.444Z"
   },
   {
    "duration": 3,
    "start_time": "2025-08-04T19:20:13.757Z"
   },
   {
    "duration": 3,
    "start_time": "2025-08-04T19:20:14.050Z"
   },
   {
    "duration": 6,
    "start_time": "2025-08-04T19:20:14.362Z"
   },
   {
    "duration": 106,
    "start_time": "2025-08-04T19:21:12.577Z"
   },
   {
    "duration": 6,
    "start_time": "2025-08-04T19:21:33.247Z"
   },
   {
    "duration": 80,
    "start_time": "2025-08-04T19:23:06.181Z"
   },
   {
    "duration": 12,
    "start_time": "2025-08-04T19:23:26.118Z"
   },
   {
    "duration": 13,
    "start_time": "2025-08-04T19:24:13.756Z"
   },
   {
    "duration": 9,
    "start_time": "2025-08-04T19:24:31.665Z"
   },
   {
    "duration": 10,
    "start_time": "2025-08-04T19:25:11.001Z"
   },
   {
    "duration": 451,
    "start_time": "2025-08-04T19:31:20.655Z"
   },
   {
    "duration": 357,
    "start_time": "2025-08-04T19:31:39.489Z"
   },
   {
    "duration": 43,
    "start_time": "2025-08-04T19:31:51.433Z"
   },
   {
    "duration": 44,
    "start_time": "2025-08-04T19:32:09.594Z"
   },
   {
    "duration": 14,
    "start_time": "2025-08-04T19:32:16.734Z"
   },
   {
    "duration": 13,
    "start_time": "2025-08-04T19:32:23.617Z"
   },
   {
    "duration": 13,
    "start_time": "2025-08-04T19:32:54.874Z"
   },
   {
    "duration": 229,
    "start_time": "2025-08-04T19:36:25.418Z"
   },
   {
    "duration": 9,
    "start_time": "2025-08-04T19:36:33.060Z"
   },
   {
    "duration": 21,
    "start_time": "2025-08-04T19:36:38.121Z"
   },
   {
    "duration": 22,
    "start_time": "2025-08-04T19:37:00.616Z"
   },
   {
    "duration": 8,
    "start_time": "2025-08-04T19:38:04.616Z"
   },
   {
    "duration": 8,
    "start_time": "2025-08-04T19:38:22.649Z"
   },
   {
    "duration": 248,
    "start_time": "2025-08-04T19:40:55.489Z"
   },
   {
    "duration": 31,
    "start_time": "2025-08-04T19:41:07.565Z"
   },
   {
    "duration": 9,
    "start_time": "2025-08-04T19:41:18.833Z"
   },
   {
    "duration": 8,
    "start_time": "2025-08-04T19:41:19.934Z"
   },
   {
    "duration": 26,
    "start_time": "2025-08-04T19:41:35.165Z"
   },
   {
    "duration": 8,
    "start_time": "2025-08-04T19:41:47.013Z"
   },
   {
    "duration": 9,
    "start_time": "2025-08-04T19:41:59.925Z"
   },
   {
    "duration": 168,
    "start_time": "2025-08-04T19:57:52.540Z"
   },
   {
    "duration": 34,
    "start_time": "2025-08-04T19:58:03.909Z"
   },
   {
    "duration": 33,
    "start_time": "2025-08-04T19:58:50.462Z"
   },
   {
    "duration": 7,
    "start_time": "2025-08-04T20:01:36.947Z"
   },
   {
    "duration": 6,
    "start_time": "2025-08-04T20:02:13.127Z"
   },
   {
    "duration": 137,
    "start_time": "2025-08-04T20:02:45.719Z"
   },
   {
    "duration": 10,
    "start_time": "2025-08-04T20:03:02.088Z"
   },
   {
    "duration": 85,
    "start_time": "2025-08-04T20:03:59.947Z"
   },
   {
    "duration": 8,
    "start_time": "2025-08-04T20:04:05.437Z"
   },
   {
    "duration": 8,
    "start_time": "2025-08-04T20:04:12.982Z"
   },
   {
    "duration": 387,
    "start_time": "2025-08-04T20:05:17.299Z"
   },
   {
    "duration": 8,
    "start_time": "2025-08-04T20:05:52.914Z"
   },
   {
    "duration": 13,
    "start_time": "2025-08-04T20:06:10.394Z"
   },
   {
    "duration": 10,
    "start_time": "2025-08-04T20:07:05.535Z"
   },
   {
    "duration": 30,
    "start_time": "2025-08-04T20:07:25.162Z"
   },
   {
    "duration": 17,
    "start_time": "2025-08-04T20:07:35.156Z"
   },
   {
    "duration": 45,
    "start_time": "2025-08-04T20:08:07.844Z"
   },
   {
    "duration": 16,
    "start_time": "2025-08-04T20:09:50.290Z"
   },
   {
    "duration": 17,
    "start_time": "2025-08-04T20:09:53.359Z"
   },
   {
    "duration": 17,
    "start_time": "2025-08-04T20:10:46.436Z"
   },
   {
    "duration": 64,
    "start_time": "2025-08-04T20:11:10.956Z"
   },
   {
    "duration": 5,
    "start_time": "2025-08-04T20:11:46.070Z"
   },
   {
    "duration": 10,
    "start_time": "2025-08-04T20:12:06.203Z"
   },
   {
    "duration": 9,
    "start_time": "2025-08-04T20:13:10.507Z"
   },
   {
    "duration": 9,
    "start_time": "2025-08-04T20:13:34.586Z"
   },
   {
    "duration": 1454,
    "start_time": "2025-08-05T18:03:52.307Z"
   },
   {
    "duration": 1525,
    "start_time": "2025-08-05T18:03:53.764Z"
   },
   {
    "duration": 113,
    "start_time": "2025-08-05T18:03:55.290Z"
   },
   {
    "duration": 27,
    "start_time": "2025-08-05T18:03:55.405Z"
   },
   {
    "duration": 21,
    "start_time": "2025-08-05T18:03:55.433Z"
   },
   {
    "duration": 88,
    "start_time": "2025-08-05T18:03:55.456Z"
   },
   {
    "duration": 35,
    "start_time": "2025-08-05T18:03:55.546Z"
   },
   {
    "duration": 7,
    "start_time": "2025-08-05T18:03:55.583Z"
   },
   {
    "duration": 46,
    "start_time": "2025-08-05T18:03:55.592Z"
   },
   {
    "duration": 12,
    "start_time": "2025-08-05T18:03:55.641Z"
   },
   {
    "duration": 30,
    "start_time": "2025-08-05T18:03:55.654Z"
   },
   {
    "duration": 14,
    "start_time": "2025-08-05T18:03:55.685Z"
   },
   {
    "duration": 364,
    "start_time": "2025-08-05T18:03:55.701Z"
   },
   {
    "duration": 45,
    "start_time": "2025-08-05T18:03:56.067Z"
   },
   {
    "duration": 11,
    "start_time": "2025-08-05T18:03:56.114Z"
   },
   {
    "duration": 21,
    "start_time": "2025-08-05T18:03:56.126Z"
   },
   {
    "duration": 283,
    "start_time": "2025-08-05T18:03:56.149Z"
   },
   {
    "duration": 20,
    "start_time": "2025-08-05T18:03:56.434Z"
   },
   {
    "duration": 27,
    "start_time": "2025-08-05T18:03:56.456Z"
   },
   {
    "duration": 22,
    "start_time": "2025-08-05T18:03:56.485Z"
   },
   {
    "duration": 237,
    "start_time": "2025-08-05T18:03:56.510Z"
   },
   {
    "duration": 25,
    "start_time": "2025-08-05T18:03:56.749Z"
   },
   {
    "duration": 27,
    "start_time": "2025-08-05T18:03:56.776Z"
   },
   {
    "duration": 42,
    "start_time": "2025-08-05T18:03:56.805Z"
   },
   {
    "duration": 160,
    "start_time": "2025-08-05T18:03:56.863Z"
   },
   {
    "duration": 1518,
    "start_time": "2025-08-05T18:03:57.048Z"
   },
   {
    "duration": 0,
    "start_time": "2025-08-05T18:03:58.568Z"
   },
   {
    "duration": 0,
    "start_time": "2025-08-05T18:03:58.569Z"
   },
   {
    "duration": 0,
    "start_time": "2025-08-05T18:03:58.570Z"
   },
   {
    "duration": 0,
    "start_time": "2025-08-05T18:03:58.571Z"
   },
   {
    "duration": 0,
    "start_time": "2025-08-05T18:03:58.572Z"
   },
   {
    "duration": 0,
    "start_time": "2025-08-05T18:03:58.573Z"
   },
   {
    "duration": 0,
    "start_time": "2025-08-05T18:03:58.574Z"
   },
   {
    "duration": 0,
    "start_time": "2025-08-05T18:03:58.575Z"
   },
   {
    "duration": 0,
    "start_time": "2025-08-05T18:03:58.577Z"
   },
   {
    "duration": 4,
    "start_time": "2025-08-05T18:04:45.560Z"
   },
   {
    "duration": 3,
    "start_time": "2025-08-05T18:04:46.242Z"
   },
   {
    "duration": 6,
    "start_time": "2025-08-05T18:04:48.066Z"
   },
   {
    "duration": 1202,
    "start_time": "2025-08-05T18:05:17.239Z"
   },
   {
    "duration": 1155,
    "start_time": "2025-08-05T18:05:18.443Z"
   },
   {
    "duration": 115,
    "start_time": "2025-08-05T18:05:19.600Z"
   },
   {
    "duration": 2711,
    "start_time": "2025-08-05T18:05:19.717Z"
   },
   {
    "duration": 50,
    "start_time": "2025-08-05T18:05:22.429Z"
   },
   {
    "duration": 4,
    "start_time": "2025-08-05T18:05:24.039Z"
   },
   {
    "duration": 3,
    "start_time": "2025-08-05T18:05:24.975Z"
   },
   {
    "duration": 5,
    "start_time": "2025-08-05T18:05:25.808Z"
   },
   {
    "duration": 4,
    "start_time": "2025-08-05T18:06:04.777Z"
   },
   {
    "duration": 6,
    "start_time": "2025-08-05T18:06:05.234Z"
   },
   {
    "duration": 37,
    "start_time": "2025-08-05T18:06:07.658Z"
   },
   {
    "duration": 13,
    "start_time": "2025-08-05T18:06:08.125Z"
   },
   {
    "duration": 9,
    "start_time": "2025-08-05T18:06:08.774Z"
   },
   {
    "duration": 8,
    "start_time": "2025-08-05T18:06:10.550Z"
   },
   {
    "duration": 399,
    "start_time": "2025-08-05T18:06:11.459Z"
   },
   {
    "duration": 43,
    "start_time": "2025-08-05T18:06:12.017Z"
   },
   {
    "duration": 10,
    "start_time": "2025-08-05T18:06:14.194Z"
   },
   {
    "duration": 9,
    "start_time": "2025-08-05T18:06:14.324Z"
   },
   {
    "duration": 253,
    "start_time": "2025-08-05T18:06:14.636Z"
   },
   {
    "duration": 20,
    "start_time": "2025-08-05T18:06:14.892Z"
   },
   {
    "duration": 8,
    "start_time": "2025-08-05T18:06:14.964Z"
   },
   {
    "duration": 8,
    "start_time": "2025-08-05T18:06:15.123Z"
   },
   {
    "duration": 323,
    "start_time": "2025-08-05T18:06:15.560Z"
   },
   {
    "duration": 33,
    "start_time": "2025-08-05T18:06:15.885Z"
   },
   {
    "duration": 8,
    "start_time": "2025-08-05T18:06:17.729Z"
   },
   {
    "duration": 8,
    "start_time": "2025-08-05T18:06:17.935Z"
   },
   {
    "duration": 143,
    "start_time": "2025-08-05T18:06:19.356Z"
   },
   {
    "duration": 9,
    "start_time": "2025-08-05T18:06:21.209Z"
   },
   {
    "duration": 15,
    "start_time": "2025-08-05T18:06:22.533Z"
   },
   {
    "duration": 57,
    "start_time": "2025-08-05T18:06:22.810Z"
   },
   {
    "duration": 386,
    "start_time": "2025-08-05T18:06:23.177Z"
   },
   {
    "duration": 6,
    "start_time": "2025-08-05T18:06:23.565Z"
   },
   {
    "duration": 46,
    "start_time": "2025-08-05T18:06:23.573Z"
   },
   {
    "duration": 5,
    "start_time": "2025-08-05T18:06:23.766Z"
   },
   {
    "duration": 9,
    "start_time": "2025-08-05T18:06:24.017Z"
   },
   {
    "duration": 19,
    "start_time": "2025-08-05T18:06:24.797Z"
   },
   {
    "duration": 17,
    "start_time": "2025-08-05T18:06:25.642Z"
   },
   {
    "duration": 9,
    "start_time": "2025-08-05T18:06:26.164Z"
   },
   {
    "duration": 32,
    "start_time": "2025-08-05T18:06:27.686Z"
   },
   {
    "duration": 9,
    "start_time": "2025-08-05T18:06:28.304Z"
   },
   {
    "duration": 1623,
    "start_time": "2025-08-05T18:09:43.502Z"
   },
   {
    "duration": 40,
    "start_time": "2025-08-05T18:09:55.778Z"
   },
   {
    "duration": 32,
    "start_time": "2025-08-05T18:10:09.341Z"
   },
   {
    "duration": 35,
    "start_time": "2025-08-05T18:10:41.947Z"
   },
   {
    "duration": 32,
    "start_time": "2025-08-05T18:11:04.799Z"
   },
   {
    "duration": 1504,
    "start_time": "2025-08-05T18:11:19.805Z"
   },
   {
    "duration": 32,
    "start_time": "2025-08-05T18:11:39.029Z"
   },
   {
    "duration": 1544,
    "start_time": "2025-08-05T18:11:52.308Z"
   },
   {
    "duration": 31,
    "start_time": "2025-08-05T18:12:03.725Z"
   },
   {
    "duration": 34,
    "start_time": "2025-08-05T18:12:30.346Z"
   },
   {
    "duration": 32,
    "start_time": "2025-08-05T18:13:01.292Z"
   },
   {
    "duration": 1109,
    "start_time": "2025-08-05T18:18:48.477Z"
   },
   {
    "duration": 17894,
    "start_time": "2025-08-05T18:19:33.327Z"
   },
   {
    "duration": 1477,
    "start_time": "2025-08-05T18:20:07.789Z"
   },
   {
    "duration": 3,
    "start_time": "2025-08-05T18:25:00.100Z"
   },
   {
    "duration": 1420,
    "start_time": "2025-08-05T18:25:08.657Z"
   },
   {
    "duration": 1425,
    "start_time": "2025-08-05T18:25:10.079Z"
   },
   {
    "duration": 6957,
    "start_time": "2025-08-05T18:27:01.560Z"
   },
   {
    "duration": 4,
    "start_time": "2025-08-05T18:27:40.503Z"
   },
   {
    "duration": 1362,
    "start_time": "2025-08-05T18:27:47.246Z"
   },
   {
    "duration": 1045,
    "start_time": "2025-08-05T18:27:49.480Z"
   },
   {
    "duration": 97,
    "start_time": "2025-08-05T18:27:50.712Z"
   },
   {
    "duration": 30,
    "start_time": "2025-08-05T18:27:51.852Z"
   },
   {
    "duration": 23,
    "start_time": "2025-08-05T18:27:52.211Z"
   },
   {
    "duration": 3,
    "start_time": "2025-08-05T18:27:52.574Z"
   },
   {
    "duration": 3,
    "start_time": "2025-08-05T18:27:52.728Z"
   },
   {
    "duration": 6,
    "start_time": "2025-08-05T18:27:52.866Z"
   },
   {
    "duration": 268,
    "start_time": "2025-08-05T18:27:53.020Z"
   },
   {
    "duration": 13,
    "start_time": "2025-08-05T18:27:53.290Z"
   },
   {
    "duration": 20,
    "start_time": "2025-08-05T18:27:53.304Z"
   },
   {
    "duration": 8,
    "start_time": "2025-08-05T18:27:53.450Z"
   },
   {
    "duration": 484,
    "start_time": "2025-08-05T18:27:53.752Z"
   },
   {
    "duration": 37,
    "start_time": "2025-08-05T18:27:54.238Z"
   },
   {
    "duration": 9,
    "start_time": "2025-08-05T18:27:54.277Z"
   },
   {
    "duration": 20,
    "start_time": "2025-08-05T18:27:54.299Z"
   },
   {
    "duration": 249,
    "start_time": "2025-08-05T18:27:54.503Z"
   },
   {
    "duration": 29,
    "start_time": "2025-08-05T18:27:54.755Z"
   },
   {
    "duration": 12,
    "start_time": "2025-08-05T18:27:54.822Z"
   },
   {
    "duration": 8,
    "start_time": "2025-08-05T18:27:54.972Z"
   },
   {
    "duration": 317,
    "start_time": "2025-08-05T18:27:55.315Z"
   },
   {
    "duration": 25,
    "start_time": "2025-08-05T18:27:55.634Z"
   },
   {
    "duration": 48,
    "start_time": "2025-08-05T18:27:55.716Z"
   },
   {
    "duration": 9,
    "start_time": "2025-08-05T18:27:55.918Z"
   },
   {
    "duration": 145,
    "start_time": "2025-08-05T18:27:56.439Z"
   },
   {
    "duration": 9,
    "start_time": "2025-08-05T18:27:56.624Z"
   },
   {
    "duration": 16,
    "start_time": "2025-08-05T18:27:56.802Z"
   },
   {
    "duration": 58,
    "start_time": "2025-08-05T18:27:56.982Z"
   },
   {
    "duration": 360,
    "start_time": "2025-08-05T18:27:57.163Z"
   },
   {
    "duration": 7,
    "start_time": "2025-08-05T18:27:57.525Z"
   },
   {
    "duration": 39,
    "start_time": "2025-08-05T18:27:57.533Z"
   },
   {
    "duration": 5,
    "start_time": "2025-08-05T18:27:57.663Z"
   },
   {
    "duration": 8,
    "start_time": "2025-08-05T18:27:57.833Z"
   },
   {
    "duration": 18,
    "start_time": "2025-08-05T18:27:57.977Z"
   },
   {
    "duration": 16,
    "start_time": "2025-08-05T18:27:58.140Z"
   },
   {
    "duration": 9,
    "start_time": "2025-08-05T18:27:58.311Z"
   },
   {
    "duration": 34,
    "start_time": "2025-08-05T18:27:58.470Z"
   },
   {
    "duration": 9,
    "start_time": "2025-08-05T18:27:58.645Z"
   },
   {
    "duration": 32,
    "start_time": "2025-08-05T18:27:59.135Z"
   },
   {
    "duration": 1502,
    "start_time": "2025-08-05T18:27:59.332Z"
   },
   {
    "duration": 419,
    "start_time": "2025-08-05T18:29:10.681Z"
   },
   {
    "duration": 449,
    "start_time": "2025-08-05T18:29:59.143Z"
   },
   {
    "duration": 498,
    "start_time": "2025-08-05T18:30:04.701Z"
   },
   {
    "duration": 553,
    "start_time": "2025-08-05T18:31:53.838Z"
   },
   {
    "duration": 1602,
    "start_time": "2025-08-06T10:40:08.934Z"
   },
   {
    "duration": 1359,
    "start_time": "2025-08-06T10:40:10.539Z"
   },
   {
    "duration": 129,
    "start_time": "2025-08-06T10:40:11.899Z"
   },
   {
    "duration": 45,
    "start_time": "2025-08-06T10:40:12.030Z"
   },
   {
    "duration": 25,
    "start_time": "2025-08-06T10:40:12.077Z"
   },
   {
    "duration": 17,
    "start_time": "2025-08-06T10:40:12.104Z"
   },
   {
    "duration": 4,
    "start_time": "2025-08-06T10:40:12.122Z"
   },
   {
    "duration": 7,
    "start_time": "2025-08-06T10:40:12.128Z"
   },
   {
    "duration": 57,
    "start_time": "2025-08-06T10:40:12.137Z"
   },
   {
    "duration": 12,
    "start_time": "2025-08-06T10:40:12.196Z"
   },
   {
    "duration": 12,
    "start_time": "2025-08-06T10:40:12.210Z"
   },
   {
    "duration": 10,
    "start_time": "2025-08-06T10:40:12.224Z"
   },
   {
    "duration": 568,
    "start_time": "2025-08-06T10:40:12.236Z"
   },
   {
    "duration": 54,
    "start_time": "2025-08-06T10:40:12.806Z"
   },
   {
    "duration": 10,
    "start_time": "2025-08-06T10:40:12.863Z"
   },
   {
    "duration": 13,
    "start_time": "2025-08-06T10:40:12.875Z"
   },
   {
    "duration": 326,
    "start_time": "2025-08-06T10:40:13.067Z"
   },
   {
    "duration": 22,
    "start_time": "2025-08-06T10:40:13.396Z"
   },
   {
    "duration": 9,
    "start_time": "2025-08-06T10:40:13.420Z"
   },
   {
    "duration": 10,
    "start_time": "2025-08-06T10:40:13.559Z"
   },
   {
    "duration": 240,
    "start_time": "2025-08-06T10:40:13.916Z"
   },
   {
    "duration": 26,
    "start_time": "2025-08-06T10:40:14.162Z"
   },
   {
    "duration": 10,
    "start_time": "2025-08-06T10:40:14.215Z"
   },
   {
    "duration": 9,
    "start_time": "2025-08-06T10:40:14.381Z"
   },
   {
    "duration": 175,
    "start_time": "2025-08-06T10:40:14.918Z"
   },
   {
    "duration": 11,
    "start_time": "2025-08-06T10:40:15.101Z"
   },
   {
    "duration": 18,
    "start_time": "2025-08-06T10:40:15.270Z"
   },
   {
    "duration": 72,
    "start_time": "2025-08-06T10:40:15.443Z"
   },
   {
    "duration": 458,
    "start_time": "2025-08-06T10:40:15.616Z"
   },
   {
    "duration": 7,
    "start_time": "2025-08-06T10:40:16.076Z"
   },
   {
    "duration": 37,
    "start_time": "2025-08-06T10:40:16.085Z"
   },
   {
    "duration": 7,
    "start_time": "2025-08-06T10:40:16.188Z"
   },
   {
    "duration": 9,
    "start_time": "2025-08-06T10:40:16.380Z"
   },
   {
    "duration": 29,
    "start_time": "2025-08-06T10:40:16.560Z"
   },
   {
    "duration": 18,
    "start_time": "2025-08-06T10:40:16.725Z"
   },
   {
    "duration": 10,
    "start_time": "2025-08-06T10:40:16.918Z"
   },
   {
    "duration": 36,
    "start_time": "2025-08-06T10:40:17.092Z"
   },
   {
    "duration": 9,
    "start_time": "2025-08-06T10:40:17.280Z"
   },
   {
    "duration": 34,
    "start_time": "2025-08-06T10:40:17.866Z"
   },
   {
    "duration": 394,
    "start_time": "2025-08-06T10:40:18.591Z"
   },
   {
    "duration": 1850,
    "start_time": "2025-08-06T10:41:47.752Z"
   },
   {
    "duration": 10546,
    "start_time": "2025-08-06T10:43:12.987Z"
   },
   {
    "duration": 16026,
    "start_time": "2025-08-06T10:43:29.739Z"
   },
   {
    "duration": 1524,
    "start_time": "2025-08-06T10:43:51.718Z"
   },
   {
    "duration": 3,
    "start_time": "2025-08-06T10:43:58.151Z"
   },
   {
    "duration": 1228,
    "start_time": "2025-08-06T10:44:00.230Z"
   },
   {
    "duration": 112,
    "start_time": "2025-08-06T10:44:01.460Z"
   },
   {
    "duration": 35,
    "start_time": "2025-08-06T10:44:01.574Z"
   },
   {
    "duration": 41,
    "start_time": "2025-08-06T10:44:01.612Z"
   },
   {
    "duration": 15,
    "start_time": "2025-08-06T10:44:01.735Z"
   },
   {
    "duration": 3,
    "start_time": "2025-08-06T10:44:01.889Z"
   },
   {
    "duration": 7,
    "start_time": "2025-08-06T10:44:02.054Z"
   },
   {
    "duration": 47,
    "start_time": "2025-08-06T10:44:02.326Z"
   },
   {
    "duration": 17,
    "start_time": "2025-08-06T10:44:03.283Z"
   },
   {
    "duration": 43,
    "start_time": "2025-08-06T10:44:03.303Z"
   },
   {
    "duration": 22,
    "start_time": "2025-08-06T10:44:03.349Z"
   },
   {
    "duration": 641,
    "start_time": "2025-08-06T10:44:03.375Z"
   },
   {
    "duration": 48,
    "start_time": "2025-08-06T10:44:04.018Z"
   },
   {
    "duration": 14,
    "start_time": "2025-08-06T10:44:04.068Z"
   },
   {
    "duration": 23,
    "start_time": "2025-08-06T10:44:04.085Z"
   },
   {
    "duration": 227,
    "start_time": "2025-08-06T10:44:04.142Z"
   },
   {
    "duration": 23,
    "start_time": "2025-08-06T10:44:04.371Z"
   },
   {
    "duration": 9,
    "start_time": "2025-08-06T10:44:04.563Z"
   },
   {
    "duration": 9,
    "start_time": "2025-08-06T10:44:04.677Z"
   },
   {
    "duration": 308,
    "start_time": "2025-08-06T10:44:05.028Z"
   },
   {
    "duration": 30,
    "start_time": "2025-08-06T10:44:05.338Z"
   },
   {
    "duration": 27,
    "start_time": "2025-08-06T10:44:05.371Z"
   },
   {
    "duration": 12,
    "start_time": "2025-08-06T10:44:05.545Z"
   },
   {
    "duration": 160,
    "start_time": "2025-08-06T10:44:06.058Z"
   },
   {
    "duration": 10,
    "start_time": "2025-08-06T10:44:06.240Z"
   },
   {
    "duration": 18,
    "start_time": "2025-08-06T10:44:06.426Z"
   },
   {
    "duration": 63,
    "start_time": "2025-08-06T10:44:06.627Z"
   },
   {
    "duration": 417,
    "start_time": "2025-08-06T10:44:06.809Z"
   },
   {
    "duration": 8,
    "start_time": "2025-08-06T10:44:07.228Z"
   },
   {
    "duration": 55,
    "start_time": "2025-08-06T10:44:07.237Z"
   },
   {
    "duration": 5,
    "start_time": "2025-08-06T10:44:07.301Z"
   },
   {
    "duration": 9,
    "start_time": "2025-08-06T10:44:07.478Z"
   },
   {
    "duration": 19,
    "start_time": "2025-08-06T10:44:07.653Z"
   },
   {
    "duration": 18,
    "start_time": "2025-08-06T10:44:07.829Z"
   },
   {
    "duration": 11,
    "start_time": "2025-08-06T10:44:08.015Z"
   },
   {
    "duration": 35,
    "start_time": "2025-08-06T10:44:08.185Z"
   },
   {
    "duration": 10,
    "start_time": "2025-08-06T10:44:08.355Z"
   },
   {
    "duration": 36,
    "start_time": "2025-08-06T10:44:08.936Z"
   },
   {
    "duration": 519,
    "start_time": "2025-08-06T10:44:09.150Z"
   },
   {
    "duration": 11466,
    "start_time": "2025-08-06T14:20:06.128Z"
   },
   {
    "duration": 15138,
    "start_time": "2025-08-06T14:20:17.597Z"
   },
   {
    "duration": 1600,
    "start_time": "2025-08-06T14:20:32.737Z"
   },
   {
    "duration": 1288,
    "start_time": "2025-08-06T14:20:36.763Z"
   },
   {
    "duration": 3,
    "start_time": "2025-08-06T14:20:38.911Z"
   },
   {
    "duration": 1091,
    "start_time": "2025-08-06T14:20:42.220Z"
   },
   {
    "duration": 98,
    "start_time": "2025-08-06T14:20:43.313Z"
   },
   {
    "duration": 29,
    "start_time": "2025-08-06T14:20:43.414Z"
   },
   {
    "duration": 21,
    "start_time": "2025-08-06T14:20:43.505Z"
   },
   {
    "duration": 3,
    "start_time": "2025-08-06T14:20:44.776Z"
   },
   {
    "duration": 4,
    "start_time": "2025-08-06T14:20:44.956Z"
   },
   {
    "duration": 5,
    "start_time": "2025-08-06T14:20:45.781Z"
   },
   {
    "duration": 64,
    "start_time": "2025-08-06T14:20:47.101Z"
   },
   {
    "duration": 14,
    "start_time": "2025-08-06T14:20:47.445Z"
   },
   {
    "duration": 9,
    "start_time": "2025-08-06T14:20:47.998Z"
   },
   {
    "duration": 8,
    "start_time": "2025-08-06T14:20:48.466Z"
   },
   {
    "duration": 381,
    "start_time": "2025-08-06T14:20:48.961Z"
   },
   {
    "duration": 50,
    "start_time": "2025-08-06T14:20:49.344Z"
   },
   {
    "duration": 47,
    "start_time": "2025-08-06T14:20:49.396Z"
   },
   {
    "duration": 10,
    "start_time": "2025-08-06T14:20:49.493Z"
   },
   {
    "duration": 168,
    "start_time": "2025-08-06T14:20:49.822Z"
   },
   {
    "duration": 22,
    "start_time": "2025-08-06T14:20:49.992Z"
   },
   {
    "duration": 9,
    "start_time": "2025-08-06T14:20:50.200Z"
   },
   {
    "duration": 10,
    "start_time": "2025-08-06T14:20:50.375Z"
   },
   {
    "duration": 209,
    "start_time": "2025-08-06T14:20:50.694Z"
   },
   {
    "duration": 23,
    "start_time": "2025-08-06T14:20:50.905Z"
   },
   {
    "duration": 9,
    "start_time": "2025-08-06T14:20:50.970Z"
   },
   {
    "duration": 9,
    "start_time": "2025-08-06T14:20:51.136Z"
   },
   {
    "duration": 145,
    "start_time": "2025-08-06T14:20:51.592Z"
   },
   {
    "duration": 8,
    "start_time": "2025-08-06T14:20:51.739Z"
   },
   {
    "duration": 16,
    "start_time": "2025-08-06T14:20:51.881Z"
   },
   {
    "duration": 63,
    "start_time": "2025-08-06T14:20:52.024Z"
   },
   {
    "duration": 342,
    "start_time": "2025-08-06T14:20:52.173Z"
   },
   {
    "duration": 6,
    "start_time": "2025-08-06T14:20:52.517Z"
   },
   {
    "duration": 25,
    "start_time": "2025-08-06T14:20:52.525Z"
   },
   {
    "duration": 5,
    "start_time": "2025-08-06T14:20:52.790Z"
   },
   {
    "duration": 8,
    "start_time": "2025-08-06T14:20:52.955Z"
   },
   {
    "duration": 17,
    "start_time": "2025-08-06T14:20:53.115Z"
   },
   {
    "duration": 16,
    "start_time": "2025-08-06T14:20:53.262Z"
   },
   {
    "duration": 10,
    "start_time": "2025-08-06T14:20:53.438Z"
   },
   {
    "duration": 33,
    "start_time": "2025-08-06T14:20:53.587Z"
   },
   {
    "duration": 8,
    "start_time": "2025-08-06T14:20:53.752Z"
   },
   {
    "duration": 35,
    "start_time": "2025-08-06T14:20:54.300Z"
   },
   {
    "duration": 532,
    "start_time": "2025-08-06T14:20:54.885Z"
   },
   {
    "duration": 71,
    "start_time": "2025-08-06T14:20:59.538Z"
   },
   {
    "duration": 46,
    "start_time": "2025-08-06T14:21:02.012Z"
   },
   {
    "duration": 56,
    "start_time": "2025-08-06T14:23:47.039Z"
   },
   {
    "duration": 46,
    "start_time": "2025-08-06T14:23:56.525Z"
   },
   {
    "duration": 145,
    "start_time": "2025-08-06T14:24:59.808Z"
   },
   {
    "duration": 51,
    "start_time": "2025-08-06T14:25:37.352Z"
   },
   {
    "duration": 89,
    "start_time": "2025-08-06T14:28:38.913Z"
   },
   {
    "duration": 55,
    "start_time": "2025-08-06T14:31:31.397Z"
   },
   {
    "duration": 60,
    "start_time": "2025-08-06T14:31:38.232Z"
   },
   {
    "duration": 59,
    "start_time": "2025-08-06T14:32:07.973Z"
   },
   {
    "duration": 14,
    "start_time": "2025-08-06T14:32:24.340Z"
   },
   {
    "duration": 21,
    "start_time": "2025-08-06T14:32:27.983Z"
   },
   {
    "duration": 28,
    "start_time": "2025-08-06T14:32:57.286Z"
   },
   {
    "duration": 15,
    "start_time": "2025-08-06T14:33:46.724Z"
   },
   {
    "duration": 10,
    "start_time": "2025-08-06T14:33:56.780Z"
   },
   {
    "duration": 10,
    "start_time": "2025-08-06T14:34:00.279Z"
   },
   {
    "duration": 23,
    "start_time": "2025-08-06T14:34:26.309Z"
   },
   {
    "duration": 13,
    "start_time": "2025-08-06T14:35:36.580Z"
   },
   {
    "duration": 20,
    "start_time": "2025-08-06T14:35:37.334Z"
   },
   {
    "duration": 15,
    "start_time": "2025-08-06T14:35:50.363Z"
   },
   {
    "duration": 36,
    "start_time": "2025-08-06T14:35:59.154Z"
   },
   {
    "duration": 44,
    "start_time": "2025-08-06T14:42:29.513Z"
   },
   {
    "duration": 78,
    "start_time": "2025-08-06T14:43:20.086Z"
   },
   {
    "duration": 18,
    "start_time": "2025-08-06T14:44:55.828Z"
   },
   {
    "duration": 22,
    "start_time": "2025-08-06T14:44:56.344Z"
   },
   {
    "duration": 14,
    "start_time": "2025-08-06T14:44:59.758Z"
   },
   {
    "duration": 1481,
    "start_time": "2025-08-06T14:45:00.987Z"
   },
   {
    "duration": 32,
    "start_time": "2025-08-06T14:45:14.587Z"
   },
   {
    "duration": 33,
    "start_time": "2025-08-06T14:46:05.060Z"
   },
   {
    "duration": 34,
    "start_time": "2025-08-06T14:46:14.643Z"
   },
   {
    "duration": 23,
    "start_time": "2025-08-06T14:47:20.737Z"
   },
   {
    "duration": 22,
    "start_time": "2025-08-06T14:47:22.455Z"
   },
   {
    "duration": 16,
    "start_time": "2025-08-06T14:47:24.561Z"
   },
   {
    "duration": 1625,
    "start_time": "2025-08-06T14:47:38.617Z"
   },
   {
    "duration": 43,
    "start_time": "2025-08-06T14:47:43.481Z"
   },
   {
    "duration": 207,
    "start_time": "2025-08-06T14:53:15.372Z"
   },
   {
    "duration": 72,
    "start_time": "2025-08-06T14:53:32.187Z"
   },
   {
    "duration": 40,
    "start_time": "2025-08-06T14:55:02.723Z"
   },
   {
    "duration": 19,
    "start_time": "2025-08-06T14:55:19.176Z"
   },
   {
    "duration": 13,
    "start_time": "2025-08-06T14:55:37.687Z"
   },
   {
    "duration": 10,
    "start_time": "2025-08-06T14:55:56.779Z"
   },
   {
    "duration": 10,
    "start_time": "2025-08-06T14:56:20.278Z"
   },
   {
    "duration": 13,
    "start_time": "2025-08-06T14:56:35.365Z"
   },
   {
    "duration": 15,
    "start_time": "2025-08-06T14:57:15.679Z"
   },
   {
    "duration": 83,
    "start_time": "2025-08-06T14:57:18.674Z"
   },
   {
    "duration": 88,
    "start_time": "2025-08-06T14:57:34.902Z"
   },
   {
    "duration": 88,
    "start_time": "2025-08-06T14:57:37.864Z"
   },
   {
    "duration": 13,
    "start_time": "2025-08-06T14:57:45.426Z"
   },
   {
    "duration": 14,
    "start_time": "2025-08-06T14:58:00.046Z"
   },
   {
    "duration": 13,
    "start_time": "2025-08-06T14:58:07.198Z"
   },
   {
    "duration": 5,
    "start_time": "2025-08-06T14:58:54.904Z"
   },
   {
    "duration": 44,
    "start_time": "2025-08-06T14:59:10.661Z"
   },
   {
    "duration": 97,
    "start_time": "2025-08-06T14:59:25.802Z"
   },
   {
    "duration": 8,
    "start_time": "2025-08-06T15:00:22.999Z"
   },
   {
    "duration": 5,
    "start_time": "2025-08-06T15:00:28.338Z"
   },
   {
    "duration": 5,
    "start_time": "2025-08-06T15:01:49.311Z"
   },
   {
    "duration": 70,
    "start_time": "2025-08-06T15:04:26.973Z"
   },
   {
    "duration": 8,
    "start_time": "2025-08-07T09:54:53.309Z"
   },
   {
    "duration": 9674,
    "start_time": "2025-08-07T09:54:56.919Z"
   },
   {
    "duration": 14639,
    "start_time": "2025-08-07T09:55:09.353Z"
   },
   {
    "duration": 1597,
    "start_time": "2025-08-07T09:55:29.231Z"
   },
   {
    "duration": 1095,
    "start_time": "2025-08-07T09:55:30.830Z"
   },
   {
    "duration": 104,
    "start_time": "2025-08-07T09:55:31.927Z"
   },
   {
    "duration": 30,
    "start_time": "2025-08-07T09:55:32.847Z"
   },
   {
    "duration": 22,
    "start_time": "2025-08-07T09:55:33.575Z"
   },
   {
    "duration": 4,
    "start_time": "2025-08-07T09:55:34.229Z"
   },
   {
    "duration": 3,
    "start_time": "2025-08-07T09:55:34.458Z"
   },
   {
    "duration": 5,
    "start_time": "2025-08-07T09:55:34.634Z"
   },
   {
    "duration": 42,
    "start_time": "2025-08-07T09:55:34.803Z"
   },
   {
    "duration": 12,
    "start_time": "2025-08-07T09:55:34.989Z"
   },
   {
    "duration": 8,
    "start_time": "2025-08-07T09:55:35.181Z"
   },
   {
    "duration": 9,
    "start_time": "2025-08-07T09:55:35.357Z"
   },
   {
    "duration": 563,
    "start_time": "2025-08-07T09:55:35.713Z"
   },
   {
    "duration": 39,
    "start_time": "2025-08-07T09:55:36.278Z"
   },
   {
    "duration": 10,
    "start_time": "2025-08-07T09:55:36.319Z"
   },
   {
    "duration": 34,
    "start_time": "2025-08-07T09:55:36.331Z"
   },
   {
    "duration": 191,
    "start_time": "2025-08-07T09:55:36.639Z"
   },
   {
    "duration": 19,
    "start_time": "2025-08-07T09:55:36.832Z"
   },
   {
    "duration": 11,
    "start_time": "2025-08-07T09:55:37.020Z"
   },
   {
    "duration": 9,
    "start_time": "2025-08-07T09:55:37.212Z"
   },
   {
    "duration": 308,
    "start_time": "2025-08-07T09:55:37.584Z"
   },
   {
    "duration": 24,
    "start_time": "2025-08-07T09:55:37.894Z"
   },
   {
    "duration": 23,
    "start_time": "2025-08-07T09:55:37.971Z"
   },
   {
    "duration": 9,
    "start_time": "2025-08-07T09:55:38.174Z"
   },
   {
    "duration": 142,
    "start_time": "2025-08-07T09:55:38.781Z"
   },
   {
    "duration": 11,
    "start_time": "2025-08-07T09:55:38.956Z"
   },
   {
    "duration": 17,
    "start_time": "2025-08-07T09:55:39.148Z"
   },
   {
    "duration": 56,
    "start_time": "2025-08-07T09:55:39.356Z"
   },
   {
    "duration": 342,
    "start_time": "2025-08-07T09:55:39.546Z"
   },
   {
    "duration": 6,
    "start_time": "2025-08-07T09:55:39.890Z"
   },
   {
    "duration": 71,
    "start_time": "2025-08-07T09:55:39.923Z"
   },
   {
    "duration": 5,
    "start_time": "2025-08-07T09:55:40.132Z"
   },
   {
    "duration": 8,
    "start_time": "2025-08-07T09:55:40.339Z"
   },
   {
    "duration": 18,
    "start_time": "2025-08-07T09:55:40.537Z"
   },
   {
    "duration": 16,
    "start_time": "2025-08-07T09:55:40.723Z"
   },
   {
    "duration": 9,
    "start_time": "2025-08-07T09:55:40.918Z"
   },
   {
    "duration": 30,
    "start_time": "2025-08-07T09:55:41.697Z"
   },
   {
    "duration": 9,
    "start_time": "2025-08-07T09:55:41.855Z"
   },
   {
    "duration": 33,
    "start_time": "2025-08-07T09:55:43.136Z"
   },
   {
    "duration": 449,
    "start_time": "2025-08-07T09:55:44.057Z"
   },
   {
    "duration": 41,
    "start_time": "2025-08-07T10:24:46.433Z"
   },
   {
    "duration": 16,
    "start_time": "2025-08-07T10:24:53.994Z"
   },
   {
    "duration": 16,
    "start_time": "2025-08-07T10:25:26.134Z"
   },
   {
    "duration": 3,
    "start_time": "2025-08-07T10:28:27.026Z"
   },
   {
    "duration": 4,
    "start_time": "2025-08-07T10:28:27.355Z"
   },
   {
    "duration": 12,
    "start_time": "2025-08-07T10:28:32.998Z"
   },
   {
    "duration": 98,
    "start_time": "2025-08-07T10:29:26.920Z"
   },
   {
    "duration": 59,
    "start_time": "2025-08-07T10:29:46.234Z"
   },
   {
    "duration": 63,
    "start_time": "2025-08-07T10:30:00.294Z"
   },
   {
    "duration": 4,
    "start_time": "2025-08-07T10:32:23.854Z"
   },
   {
    "duration": 85,
    "start_time": "2025-08-07T10:33:42.193Z"
   },
   {
    "duration": 85,
    "start_time": "2025-08-07T10:34:12.768Z"
   },
   {
    "duration": 65,
    "start_time": "2025-08-07T10:34:22.330Z"
   },
   {
    "duration": 12,
    "start_time": "2025-08-07T10:34:53.913Z"
   },
   {
    "duration": 14,
    "start_time": "2025-08-07T10:37:00.636Z"
   },
   {
    "duration": 2,
    "start_time": "2025-08-07T10:37:27.127Z"
   },
   {
    "duration": 15,
    "start_time": "2025-08-07T10:37:28.782Z"
   },
   {
    "duration": 9,
    "start_time": "2025-08-07T10:37:43.073Z"
   },
   {
    "duration": 6691,
    "start_time": "2025-08-07T10:37:43.482Z"
   },
   {
    "duration": 6735,
    "start_time": "2025-08-07T10:37:54.337Z"
   },
   {
    "duration": 1502,
    "start_time": "2025-08-07T10:38:04.953Z"
   },
   {
    "duration": 1319,
    "start_time": "2025-08-07T10:38:06.457Z"
   },
   {
    "duration": 102,
    "start_time": "2025-08-07T10:38:07.777Z"
   },
   {
    "duration": 32,
    "start_time": "2025-08-07T10:38:07.881Z"
   },
   {
    "duration": 21,
    "start_time": "2025-08-07T10:38:09.553Z"
   },
   {
    "duration": 4,
    "start_time": "2025-08-07T10:38:10.864Z"
   },
   {
    "duration": 4,
    "start_time": "2025-08-07T10:38:11.364Z"
   },
   {
    "duration": 6,
    "start_time": "2025-08-07T10:38:11.827Z"
   },
   {
    "duration": 38,
    "start_time": "2025-08-07T10:38:12.838Z"
   },
   {
    "duration": 13,
    "start_time": "2025-08-07T10:38:13.497Z"
   },
   {
    "duration": 9,
    "start_time": "2025-08-07T10:38:13.977Z"
   },
   {
    "duration": 8,
    "start_time": "2025-08-07T10:38:14.374Z"
   },
   {
    "duration": 427,
    "start_time": "2025-08-07T10:38:14.874Z"
   },
   {
    "duration": 41,
    "start_time": "2025-08-07T10:38:15.304Z"
   },
   {
    "duration": 12,
    "start_time": "2025-08-07T10:38:15.360Z"
   },
   {
    "duration": 30,
    "start_time": "2025-08-07T10:38:15.375Z"
   },
   {
    "duration": 184,
    "start_time": "2025-08-07T10:38:15.768Z"
   },
   {
    "duration": 20,
    "start_time": "2025-08-07T10:38:15.954Z"
   },
   {
    "duration": 50,
    "start_time": "2025-08-07T10:38:16.038Z"
   },
   {
    "duration": 9,
    "start_time": "2025-08-07T10:38:16.188Z"
   },
   {
    "duration": 232,
    "start_time": "2025-08-07T10:38:16.474Z"
   },
   {
    "duration": 25,
    "start_time": "2025-08-07T10:38:16.708Z"
   },
   {
    "duration": 39,
    "start_time": "2025-08-07T10:38:16.772Z"
   },
   {
    "duration": 10,
    "start_time": "2025-08-07T10:38:16.915Z"
   },
   {
    "duration": 148,
    "start_time": "2025-08-07T10:38:17.390Z"
   },
   {
    "duration": 9,
    "start_time": "2025-08-07T10:38:17.569Z"
   },
   {
    "duration": 18,
    "start_time": "2025-08-07T10:38:17.751Z"
   },
   {
    "duration": 60,
    "start_time": "2025-08-07T10:38:17.937Z"
   },
   {
    "duration": 377,
    "start_time": "2025-08-07T10:38:18.129Z"
   },
   {
    "duration": 7,
    "start_time": "2025-08-07T10:38:18.508Z"
   },
   {
    "duration": 24,
    "start_time": "2025-08-07T10:38:18.517Z"
   },
   {
    "duration": 6,
    "start_time": "2025-08-07T10:38:18.633Z"
   },
   {
    "duration": 8,
    "start_time": "2025-08-07T10:38:18.803Z"
   },
   {
    "duration": 22,
    "start_time": "2025-08-07T10:38:18.958Z"
   },
   {
    "duration": 17,
    "start_time": "2025-08-07T10:38:19.134Z"
   },
   {
    "duration": 10,
    "start_time": "2025-08-07T10:38:19.304Z"
   },
   {
    "duration": 35,
    "start_time": "2025-08-07T10:38:19.474Z"
   },
   {
    "duration": 9,
    "start_time": "2025-08-07T10:38:19.643Z"
   },
   {
    "duration": 35,
    "start_time": "2025-08-07T10:38:20.166Z"
   },
   {
    "duration": 540,
    "start_time": "2025-08-07T10:38:20.368Z"
   },
   {
    "duration": 40,
    "start_time": "2025-08-07T10:38:21.373Z"
   },
   {
    "duration": 15,
    "start_time": "2025-08-07T10:38:22.165Z"
   },
   {
    "duration": 4,
    "start_time": "2025-08-07T10:38:22.569Z"
   },
   {
    "duration": 4,
    "start_time": "2025-08-07T10:38:23.722Z"
   },
   {
    "duration": 100,
    "start_time": "2025-08-07T10:38:24.276Z"
   },
   {
    "duration": 57,
    "start_time": "2025-08-07T10:38:24.972Z"
   },
   {
    "duration": 14,
    "start_time": "2025-08-07T10:38:38.761Z"
   },
   {
    "duration": 87,
    "start_time": "2025-08-07T10:38:39.454Z"
   },
   {
    "duration": 89,
    "start_time": "2025-08-07T10:39:21.386Z"
   },
   {
    "duration": 111,
    "start_time": "2025-08-07T10:39:27.181Z"
   },
   {
    "duration": 12,
    "start_time": "2025-08-07T10:40:04.289Z"
   },
   {
    "duration": 14,
    "start_time": "2025-08-07T10:41:03.290Z"
   },
   {
    "duration": 9,
    "start_time": "2025-08-07T10:41:12.796Z"
   },
   {
    "duration": 6651,
    "start_time": "2025-08-07T10:41:13.135Z"
   },
   {
    "duration": 6711,
    "start_time": "2025-08-07T10:41:19.788Z"
   },
   {
    "duration": 1471,
    "start_time": "2025-08-07T10:41:30.191Z"
   },
   {
    "duration": 1448,
    "start_time": "2025-08-07T10:41:31.665Z"
   },
   {
    "duration": 103,
    "start_time": "2025-08-07T10:41:33.114Z"
   },
   {
    "duration": 46,
    "start_time": "2025-08-07T10:41:33.220Z"
   },
   {
    "duration": 23,
    "start_time": "2025-08-07T10:41:33.267Z"
   },
   {
    "duration": 6,
    "start_time": "2025-08-07T10:41:33.292Z"
   },
   {
    "duration": 27,
    "start_time": "2025-08-07T10:41:33.299Z"
   },
   {
    "duration": 49,
    "start_time": "2025-08-07T10:41:33.328Z"
   },
   {
    "duration": 180,
    "start_time": "2025-08-07T10:41:33.379Z"
   },
   {
    "duration": 13,
    "start_time": "2025-08-07T10:41:33.562Z"
   },
   {
    "duration": 11,
    "start_time": "2025-08-07T10:41:33.577Z"
   },
   {
    "duration": 30,
    "start_time": "2025-08-07T10:41:33.589Z"
   },
   {
    "duration": 349,
    "start_time": "2025-08-07T10:41:33.647Z"
   },
   {
    "duration": 38,
    "start_time": "2025-08-07T10:41:33.998Z"
   },
   {
    "duration": 74,
    "start_time": "2025-08-07T10:41:34.038Z"
   },
   {
    "duration": 27,
    "start_time": "2025-08-07T10:41:34.114Z"
   },
   {
    "duration": 245,
    "start_time": "2025-08-07T10:41:34.369Z"
   },
   {
    "duration": 21,
    "start_time": "2025-08-07T10:41:34.616Z"
   },
   {
    "duration": 27,
    "start_time": "2025-08-07T10:41:34.693Z"
   },
   {
    "duration": 9,
    "start_time": "2025-08-07T10:41:34.842Z"
   },
   {
    "duration": 263,
    "start_time": "2025-08-07T10:41:35.150Z"
   },
   {
    "duration": 26,
    "start_time": "2025-08-07T10:41:35.415Z"
   },
   {
    "duration": 24,
    "start_time": "2025-08-07T10:41:35.460Z"
   },
   {
    "duration": 10,
    "start_time": "2025-08-07T10:41:35.613Z"
   },
   {
    "duration": 149,
    "start_time": "2025-08-07T10:41:36.108Z"
   },
   {
    "duration": 10,
    "start_time": "2025-08-07T10:41:36.278Z"
   },
   {
    "duration": 18,
    "start_time": "2025-08-07T10:41:36.448Z"
   },
   {
    "duration": 64,
    "start_time": "2025-08-07T10:41:36.625Z"
   },
   {
    "duration": 385,
    "start_time": "2025-08-07T10:41:36.800Z"
   },
   {
    "duration": 8,
    "start_time": "2025-08-07T10:41:37.187Z"
   },
   {
    "duration": 68,
    "start_time": "2025-08-07T10:41:37.196Z"
   },
   {
    "duration": 5,
    "start_time": "2025-08-07T10:41:37.320Z"
   },
   {
    "duration": 9,
    "start_time": "2025-08-07T10:41:37.496Z"
   },
   {
    "duration": 19,
    "start_time": "2025-08-07T10:41:37.687Z"
   },
   {
    "duration": 17,
    "start_time": "2025-08-07T10:41:37.874Z"
   },
   {
    "duration": 10,
    "start_time": "2025-08-07T10:41:38.065Z"
   },
   {
    "duration": 35,
    "start_time": "2025-08-07T10:41:38.256Z"
   },
   {
    "duration": 9,
    "start_time": "2025-08-07T10:41:38.443Z"
   },
   {
    "duration": 41,
    "start_time": "2025-08-07T10:41:39.022Z"
   },
   {
    "duration": 517,
    "start_time": "2025-08-07T10:41:39.193Z"
   },
   {
    "duration": 39,
    "start_time": "2025-08-07T10:41:40.181Z"
   },
   {
    "duration": 17,
    "start_time": "2025-08-07T10:41:40.617Z"
   },
   {
    "duration": 3,
    "start_time": "2025-08-07T10:41:40.942Z"
   },
   {
    "duration": 3,
    "start_time": "2025-08-07T10:41:41.288Z"
   },
   {
    "duration": 106,
    "start_time": "2025-08-07T10:41:41.528Z"
   },
   {
    "duration": 59,
    "start_time": "2025-08-07T10:41:41.718Z"
   },
   {
    "duration": 12,
    "start_time": "2025-08-07T10:41:42.861Z"
   },
   {
    "duration": 84,
    "start_time": "2025-08-07T10:41:43.390Z"
   },
   {
    "duration": 164,
    "start_time": "2025-08-07T10:41:54.873Z"
   },
   {
    "duration": 84,
    "start_time": "2025-08-07T10:41:58.129Z"
   },
   {
    "duration": 67,
    "start_time": "2025-08-07T10:42:04.591Z"
   },
   {
    "duration": 22,
    "start_time": "2025-08-07T10:42:17.153Z"
   },
   {
    "duration": 131,
    "start_time": "2025-08-07T10:43:08.207Z"
   },
   {
    "duration": 116,
    "start_time": "2025-08-07T10:43:19.469Z"
   },
   {
    "duration": 112,
    "start_time": "2025-08-07T10:43:55.974Z"
   },
   {
    "duration": 155,
    "start_time": "2025-08-07T10:44:50.270Z"
   },
   {
    "duration": 134,
    "start_time": "2025-08-07T10:44:57.937Z"
   },
   {
    "duration": 10,
    "start_time": "2025-08-07T10:46:53.178Z"
   },
   {
    "duration": 41,
    "start_time": "2025-08-07T10:47:00.363Z"
   },
   {
    "duration": 47,
    "start_time": "2025-08-07T10:47:06.457Z"
   },
   {
    "duration": 49,
    "start_time": "2025-08-07T10:48:11.924Z"
   },
   {
    "duration": 5,
    "start_time": "2025-08-07T10:48:48.901Z"
   },
   {
    "duration": 4,
    "start_time": "2025-08-07T10:48:56.570Z"
   },
   {
    "duration": 5,
    "start_time": "2025-08-07T10:49:05.210Z"
   },
   {
    "duration": 5,
    "start_time": "2025-08-07T10:49:13.898Z"
   },
   {
    "duration": 5,
    "start_time": "2025-08-07T10:49:31.048Z"
   },
   {
    "duration": 4,
    "start_time": "2025-08-07T10:49:42.592Z"
   },
   {
    "duration": 4,
    "start_time": "2025-08-07T10:49:55.320Z"
   },
   {
    "duration": 5,
    "start_time": "2025-08-07T10:50:05.375Z"
   },
   {
    "duration": 56,
    "start_time": "2025-08-07T10:52:12.450Z"
   },
   {
    "duration": 46,
    "start_time": "2025-08-07T10:52:34.715Z"
   },
   {
    "duration": 52,
    "start_time": "2025-08-07T10:55:19.839Z"
   },
   {
    "duration": 47,
    "start_time": "2025-08-07T10:55:31.374Z"
   },
   {
    "duration": 26,
    "start_time": "2025-08-07T11:06:12.009Z"
   },
   {
    "duration": 73,
    "start_time": "2025-08-07T11:06:17.106Z"
   },
   {
    "duration": 107,
    "start_time": "2025-08-07T11:09:38.080Z"
   },
   {
    "duration": 123,
    "start_time": "2025-08-07T11:10:12.092Z"
   },
   {
    "duration": 93,
    "start_time": "2025-08-07T11:10:17.613Z"
   },
   {
    "duration": 13,
    "start_time": "2025-08-07T11:13:47.874Z"
   },
   {
    "duration": 51,
    "start_time": "2025-08-07T11:14:08.193Z"
   },
   {
    "duration": 58,
    "start_time": "2025-08-07T11:14:14.537Z"
   },
   {
    "duration": 29,
    "start_time": "2025-08-07T11:15:13.187Z"
   },
   {
    "duration": 54,
    "start_time": "2025-08-07T11:23:27.722Z"
   },
   {
    "duration": 34,
    "start_time": "2025-08-07T11:25:03.895Z"
   },
   {
    "duration": 61,
    "start_time": "2025-08-07T11:26:02.053Z"
   },
   {
    "duration": 81,
    "start_time": "2025-08-07T11:26:15.755Z"
   },
   {
    "duration": 54,
    "start_time": "2025-08-07T11:26:32.763Z"
   },
   {
    "duration": 47,
    "start_time": "2025-08-07T11:26:48.682Z"
   },
   {
    "duration": 50,
    "start_time": "2025-08-07T11:27:20.998Z"
   },
   {
    "duration": 115,
    "start_time": "2025-08-07T11:28:30.872Z"
   },
   {
    "duration": 111,
    "start_time": "2025-08-07T11:29:27.892Z"
   },
   {
    "duration": 109,
    "start_time": "2025-08-07T11:30:12.218Z"
   },
   {
    "duration": 103,
    "start_time": "2025-08-07T11:31:48.442Z"
   },
   {
    "duration": 107,
    "start_time": "2025-08-07T11:32:02.481Z"
   },
   {
    "duration": 99,
    "start_time": "2025-08-07T11:32:07.969Z"
   },
   {
    "duration": 106,
    "start_time": "2025-08-07T11:32:17.978Z"
   },
   {
    "duration": 116,
    "start_time": "2025-08-07T11:32:23.156Z"
   },
   {
    "duration": 97,
    "start_time": "2025-08-07T11:34:14.585Z"
   },
   {
    "duration": 77,
    "start_time": "2025-08-07T11:34:43.636Z"
   },
   {
    "duration": 76,
    "start_time": "2025-08-07T11:34:52.006Z"
   },
   {
    "duration": 37,
    "start_time": "2025-08-07T11:34:52.618Z"
   },
   {
    "duration": 52,
    "start_time": "2025-08-07T11:34:52.819Z"
   },
   {
    "duration": 80,
    "start_time": "2025-08-07T11:34:53.325Z"
   },
   {
    "duration": 56,
    "start_time": "2025-08-07T11:34:53.507Z"
   },
   {
    "duration": 17,
    "start_time": "2025-08-07T11:34:53.677Z"
   },
   {
    "duration": 25,
    "start_time": "2025-08-07T11:34:53.852Z"
   },
   {
    "duration": 23,
    "start_time": "2025-08-07T11:34:54.038Z"
   },
   {
    "duration": 14,
    "start_time": "2025-08-07T11:34:54.198Z"
   },
   {
    "duration": 43,
    "start_time": "2025-08-07T11:34:54.367Z"
   },
   {
    "duration": 214,
    "start_time": "2025-08-07T11:34:54.900Z"
   },
   {
    "duration": 87,
    "start_time": "2025-08-07T11:34:55.116Z"
   },
   {
    "duration": 58,
    "start_time": "2025-08-07T11:34:55.244Z"
   },
   {
    "duration": 4,
    "start_time": "2025-08-07T11:34:55.431Z"
   },
   {
    "duration": 75,
    "start_time": "2025-08-07T11:34:55.613Z"
   },
   {
    "duration": 6560,
    "start_time": "2025-08-07T14:53:16.985Z"
   },
   {
    "duration": 3,
    "start_time": "2025-08-07T14:53:23.547Z"
   },
   {
    "duration": 3,
    "start_time": "2025-08-07T14:54:13.141Z"
   },
   {
    "duration": 2774,
    "start_time": "2025-08-07T14:54:44.504Z"
   },
   {
    "duration": 6744,
    "start_time": "2025-08-07T14:54:50.761Z"
   },
   {
    "duration": 3,
    "start_time": "2025-08-07T14:54:57.507Z"
   },
   {
    "duration": 1045,
    "start_time": "2025-08-07T14:54:57.512Z"
   },
   {
    "duration": 3,
    "start_time": "2025-08-07T14:56:21.050Z"
   },
   {
    "duration": 961,
    "start_time": "2025-08-07T14:56:50.214Z"
   },
   {
    "duration": 101,
    "start_time": "2025-08-07T14:56:53.074Z"
   },
   {
    "duration": 28,
    "start_time": "2025-08-07T14:56:56.268Z"
   },
   {
    "duration": 23,
    "start_time": "2025-08-07T14:56:56.792Z"
   },
   {
    "duration": 14,
    "start_time": "2025-08-07T14:57:30.687Z"
   },
   {
    "duration": 8,
    "start_time": "2025-08-07T14:58:11.937Z"
   },
   {
    "duration": 6704,
    "start_time": "2025-08-07T14:58:12.443Z"
   },
   {
    "duration": 6712,
    "start_time": "2025-08-07T14:58:19.150Z"
   },
   {
    "duration": 1458,
    "start_time": "2025-08-07T14:58:25.866Z"
   },
   {
    "duration": 3,
    "start_time": "2025-08-07T14:58:27.326Z"
   },
   {
    "duration": 1019,
    "start_time": "2025-08-07T14:58:27.330Z"
   },
   {
    "duration": 151,
    "start_time": "2025-08-07T14:58:56.793Z"
   },
   {
    "duration": 9,
    "start_time": "2025-08-07T14:59:55.422Z"
   },
   {
    "duration": 13978,
    "start_time": "2025-08-07T15:00:21.289Z"
   },
   {
    "duration": 38,
    "start_time": "2025-08-07T15:00:35.271Z"
   },
   {
    "duration": 458,
    "start_time": "2025-08-07T15:00:35.310Z"
   },
   {
    "duration": 2757,
    "start_time": "2025-08-07T15:02:05.124Z"
   },
   {
    "duration": 3,
    "start_time": "2025-08-07T15:02:24.751Z"
   },
   {
    "duration": 294,
    "start_time": "2025-08-07T15:03:35.671Z"
   },
   {
    "duration": 91,
    "start_time": "2025-08-07T15:03:45.428Z"
   },
   {
    "duration": 170,
    "start_time": "2025-08-07T15:03:58.515Z"
   },
   {
    "duration": 4,
    "start_time": "2025-08-07T15:04:09.134Z"
   },
   {
    "duration": 56,
    "start_time": "2025-08-07T15:04:13.049Z"
   },
   {
    "duration": 177,
    "start_time": "2025-08-07T15:04:32.805Z"
   },
   {
    "duration": 224,
    "start_time": "2025-08-07T15:05:50.140Z"
   },
   {
    "duration": 4,
    "start_time": "2025-08-07T15:13:58.721Z"
   },
   {
    "duration": 3,
    "start_time": "2025-08-07T15:13:59.210Z"
   },
   {
    "duration": 6,
    "start_time": "2025-08-07T15:13:59.726Z"
   },
   {
    "duration": 45,
    "start_time": "2025-08-07T15:14:00.236Z"
   },
   {
    "duration": 12,
    "start_time": "2025-08-07T15:14:02.490Z"
   },
   {
    "duration": 45,
    "start_time": "2025-08-07T15:14:02.504Z"
   },
   {
    "duration": 9,
    "start_time": "2025-08-07T15:14:09.925Z"
   },
   {
    "duration": 889,
    "start_time": "2025-08-07T15:14:10.659Z"
   },
   {
    "duration": 52,
    "start_time": "2025-08-07T15:14:11.550Z"
   },
   {
    "duration": 16,
    "start_time": "2025-08-07T15:14:11.604Z"
   },
   {
    "duration": 12,
    "start_time": "2025-08-07T15:14:11.622Z"
   },
   {
    "duration": 214,
    "start_time": "2025-08-07T15:14:11.635Z"
   },
   {
    "duration": 26,
    "start_time": "2025-08-07T15:14:11.851Z"
   },
   {
    "duration": 8,
    "start_time": "2025-08-07T15:14:11.892Z"
   },
   {
    "duration": 8,
    "start_time": "2025-08-07T15:14:12.041Z"
   },
   {
    "duration": 240,
    "start_time": "2025-08-07T15:14:12.339Z"
   },
   {
    "duration": 26,
    "start_time": "2025-08-07T15:14:13.908Z"
   },
   {
    "duration": 8,
    "start_time": "2025-08-07T15:14:14.216Z"
   },
   {
    "duration": 13,
    "start_time": "2025-08-07T15:14:14.467Z"
   },
   {
    "duration": 185,
    "start_time": "2025-08-07T15:16:48.518Z"
   },
   {
    "duration": 8,
    "start_time": "2025-08-07T15:16:56.496Z"
   },
   {
    "duration": 17,
    "start_time": "2025-08-07T15:16:56.819Z"
   },
   {
    "duration": 67,
    "start_time": "2025-08-07T15:16:57.044Z"
   },
   {
    "duration": 370,
    "start_time": "2025-08-07T15:16:57.213Z"
   },
   {
    "duration": 7,
    "start_time": "2025-08-07T15:16:57.585Z"
   },
   {
    "duration": 16,
    "start_time": "2025-08-07T15:16:57.593Z"
   },
   {
    "duration": 5,
    "start_time": "2025-08-07T15:16:57.681Z"
   },
   {
    "duration": 16,
    "start_time": "2025-08-07T15:16:57.856Z"
   },
   {
    "duration": 18,
    "start_time": "2025-08-07T15:16:58.234Z"
   },
   {
    "duration": 16,
    "start_time": "2025-08-07T15:16:58.510Z"
   },
   {
    "duration": 9,
    "start_time": "2025-08-07T15:16:58.938Z"
   },
   {
    "duration": 34,
    "start_time": "2025-08-07T15:17:00.692Z"
   },
   {
    "duration": 9,
    "start_time": "2025-08-07T15:17:01.212Z"
   },
   {
    "duration": 36,
    "start_time": "2025-08-07T15:17:38.489Z"
   },
   {
    "duration": 13,
    "start_time": "2025-08-07T15:17:40.196Z"
   },
   {
    "duration": 318,
    "start_time": "2025-08-07T15:17:58.108Z"
   },
   {
    "duration": 46,
    "start_time": "2025-08-07T15:17:58.633Z"
   },
   {
    "duration": 192,
    "start_time": "2025-08-07T15:18:08.325Z"
   },
   {
    "duration": 18,
    "start_time": "2025-08-07T15:18:08.690Z"
   },
   {
    "duration": 260,
    "start_time": "2025-08-07T15:18:17.783Z"
   },
   {
    "duration": 25,
    "start_time": "2025-08-07T15:18:18.085Z"
   },
   {
    "duration": 5,
    "start_time": "2025-08-07T15:18:29.392Z"
   },
   {
    "duration": 11,
    "start_time": "2025-08-07T15:18:29.626Z"
   },
   {
    "duration": 25,
    "start_time": "2025-08-07T15:18:29.861Z"
   },
   {
    "duration": 16,
    "start_time": "2025-08-07T15:18:30.040Z"
   },
   {
    "duration": 20,
    "start_time": "2025-08-07T15:18:30.216Z"
   },
   {
    "duration": 32,
    "start_time": "2025-08-07T15:18:31.025Z"
   },
   {
    "duration": 8,
    "start_time": "2025-08-07T15:18:31.594Z"
   },
   {
    "duration": 3845,
    "start_time": "2025-08-07T15:20:32.144Z"
   },
   {
    "duration": 2747,
    "start_time": "2025-08-07T15:20:40.050Z"
   },
   {
    "duration": 21,
    "start_time": "2025-08-07T15:21:00.860Z"
   },
   {
    "duration": 6,
    "start_time": "2025-08-07T15:21:35.101Z"
   },
   {
    "duration": 2080,
    "start_time": "2025-08-07T15:21:37.005Z"
   },
   {
    "duration": 2,
    "start_time": "2025-08-07T15:22:42.382Z"
   },
   {
    "duration": 2162,
    "start_time": "2025-08-07T15:23:10.279Z"
   },
   {
    "duration": 1747,
    "start_time": "2025-08-07T15:23:31.475Z"
   },
   {
    "duration": 11,
    "start_time": "2025-08-07T15:27:05.704Z"
   },
   {
    "duration": 196,
    "start_time": "2025-08-07T15:27:19.541Z"
   },
   {
    "duration": 155,
    "start_time": "2025-08-07T15:27:32.471Z"
   },
   {
    "duration": 2448,
    "start_time": "2025-08-07T15:30:23.288Z"
   },
   {
    "duration": 2479,
    "start_time": "2025-08-07T15:32:21.231Z"
   },
   {
    "duration": 1701,
    "start_time": "2025-08-07T15:33:25.891Z"
   },
   {
    "duration": 33,
    "start_time": "2025-08-07T15:41:03.978Z"
   },
   {
    "duration": 467,
    "start_time": "2025-08-07T15:41:04.519Z"
   },
   {
    "duration": 457,
    "start_time": "2025-08-07T15:41:12.097Z"
   },
   {
    "duration": 54,
    "start_time": "2025-08-07T15:44:23.134Z"
   },
   {
    "duration": 17,
    "start_time": "2025-08-07T15:44:23.601Z"
   },
   {
    "duration": 4,
    "start_time": "2025-08-07T15:44:23.984Z"
   },
   {
    "duration": 3,
    "start_time": "2025-08-07T15:44:24.379Z"
   },
   {
    "duration": 99,
    "start_time": "2025-08-07T15:44:25.868Z"
   },
   {
    "duration": 55,
    "start_time": "2025-08-07T15:44:30.477Z"
   },
   {
    "duration": 14,
    "start_time": "2025-08-07T15:44:30.834Z"
   },
   {
    "duration": 93,
    "start_time": "2025-08-07T15:44:30.989Z"
   },
   {
    "duration": 16,
    "start_time": "2025-08-07T15:44:33.474Z"
   },
   {
    "duration": 118,
    "start_time": "2025-08-07T15:44:37.349Z"
   },
   {
    "duration": 111,
    "start_time": "2025-08-07T15:44:37.535Z"
   },
   {
    "duration": 213,
    "start_time": "2025-08-07T15:44:37.682Z"
   },
   {
    "duration": 38,
    "start_time": "2025-08-07T15:44:37.897Z"
   },
   {
    "duration": 49,
    "start_time": "2025-08-07T15:44:37.976Z"
   },
   {
    "duration": 11,
    "start_time": "2025-08-07T15:44:40.364Z"
   },
   {
    "duration": 4,
    "start_time": "2025-08-07T15:44:40.523Z"
   },
   {
    "duration": 9,
    "start_time": "2025-08-07T15:44:40.663Z"
   },
   {
    "duration": 51,
    "start_time": "2025-08-07T15:44:40.948Z"
   },
   {
    "duration": 63,
    "start_time": "2025-08-07T15:44:46.382Z"
   },
   {
    "duration": 49,
    "start_time": "2025-08-07T15:44:47.787Z"
   },
   {
    "duration": 108,
    "start_time": "2025-08-07T15:44:50.277Z"
   },
   {
    "duration": 83,
    "start_time": "2025-08-07T15:45:13.052Z"
   },
   {
    "duration": 49,
    "start_time": "2025-08-07T15:45:14.962Z"
   },
   {
    "duration": 51,
    "start_time": "2025-08-07T15:45:15.281Z"
   },
   {
    "duration": 57,
    "start_time": "2025-08-07T15:47:19.452Z"
   },
   {
    "duration": 1496,
    "start_time": "2025-08-07T15:47:59.155Z"
   },
   {
    "duration": 14,
    "start_time": "2025-08-07T15:48:27.367Z"
   },
   {
    "duration": 6716,
    "start_time": "2025-08-07T15:48:27.722Z"
   },
   {
    "duration": 6803,
    "start_time": "2025-08-07T15:48:34.440Z"
   },
   {
    "duration": 1478,
    "start_time": "2025-08-07T15:48:41.245Z"
   },
   {
    "duration": 2,
    "start_time": "2025-08-07T15:48:42.725Z"
   },
   {
    "duration": 1047,
    "start_time": "2025-08-07T15:48:42.729Z"
   },
   {
    "duration": 104,
    "start_time": "2025-08-07T15:48:43.778Z"
   },
   {
    "duration": 28,
    "start_time": "2025-08-07T15:48:43.885Z"
   },
   {
    "duration": 20,
    "start_time": "2025-08-07T15:48:43.915Z"
   },
   {
    "duration": 6852,
    "start_time": "2025-08-07T15:48:43.936Z"
   },
   {
    "duration": 10,
    "start_time": "2025-08-07T15:48:50.791Z"
   },
   {
    "duration": 375,
    "start_time": "2025-08-07T15:48:50.803Z"
   },
   {
    "duration": 4,
    "start_time": "2025-08-07T15:48:51.179Z"
   },
   {
    "duration": 8,
    "start_time": "2025-08-07T15:48:51.185Z"
   },
   {
    "duration": 22,
    "start_time": "2025-08-07T15:48:51.194Z"
   },
   {
    "duration": 173,
    "start_time": "2025-08-07T15:48:51.217Z"
   },
   {
    "duration": 75,
    "start_time": "2025-08-07T15:48:51.392Z"
   },
   {
    "duration": 1079,
    "start_time": "2025-08-07T15:48:51.470Z"
   },
   {
    "duration": 112,
    "start_time": "2025-08-07T15:48:52.551Z"
   },
   {
    "duration": 27,
    "start_time": "2025-08-07T15:48:52.668Z"
   },
   {
    "duration": 28,
    "start_time": "2025-08-07T15:48:52.697Z"
   },
   {
    "duration": 2756,
    "start_time": "2025-08-07T15:48:57.473Z"
   },
   {
    "duration": 3,
    "start_time": "2025-08-07T15:49:00.231Z"
   },
   {
    "duration": 445,
    "start_time": "2025-08-07T15:49:00.236Z"
   },
   {
    "duration": 3,
    "start_time": "2025-08-07T15:49:04.920Z"
   },
   {
    "duration": 3,
    "start_time": "2025-08-07T15:49:05.153Z"
   },
   {
    "duration": 6,
    "start_time": "2025-08-07T15:49:05.324Z"
   },
   {
    "duration": 74,
    "start_time": "2025-08-07T15:49:05.484Z"
   },
   {
    "duration": 14,
    "start_time": "2025-08-07T15:49:05.648Z"
   },
   {
    "duration": 10,
    "start_time": "2025-08-07T15:49:05.814Z"
   },
   {
    "duration": 9,
    "start_time": "2025-08-07T15:49:05.977Z"
   },
   {
    "duration": 370,
    "start_time": "2025-08-07T15:49:06.302Z"
   },
   {
    "duration": 39,
    "start_time": "2025-08-07T15:49:06.677Z"
   },
   {
    "duration": 15,
    "start_time": "2025-08-07T15:49:06.718Z"
   },
   {
    "duration": 10,
    "start_time": "2025-08-07T15:49:06.812Z"
   },
   {
    "duration": 172,
    "start_time": "2025-08-07T15:49:07.136Z"
   },
   {
    "duration": 20,
    "start_time": "2025-08-07T15:49:07.310Z"
   },
   {
    "duration": 11,
    "start_time": "2025-08-07T15:49:07.468Z"
   },
   {
    "duration": 9,
    "start_time": "2025-08-07T15:49:07.625Z"
   },
   {
    "duration": 285,
    "start_time": "2025-08-07T15:49:07.962Z"
   },
   {
    "duration": 39,
    "start_time": "2025-08-07T15:49:08.250Z"
   },
   {
    "duration": 8,
    "start_time": "2025-08-07T15:49:08.291Z"
   },
   {
    "duration": 8,
    "start_time": "2025-08-07T15:49:08.430Z"
   },
   {
    "duration": 182,
    "start_time": "2025-08-07T15:49:09.110Z"
   },
   {
    "duration": 10,
    "start_time": "2025-08-07T15:49:09.451Z"
   },
   {
    "duration": 18,
    "start_time": "2025-08-07T15:49:09.674Z"
   },
   {
    "duration": 66,
    "start_time": "2025-08-07T15:49:09.838Z"
   },
   {
    "duration": 392,
    "start_time": "2025-08-07T15:49:10.010Z"
   },
   {
    "duration": 7,
    "start_time": "2025-08-07T15:49:10.404Z"
   },
   {
    "duration": 26,
    "start_time": "2025-08-07T15:49:10.412Z"
   },
   {
    "duration": 5,
    "start_time": "2025-08-07T15:49:10.531Z"
   },
   {
    "duration": 8,
    "start_time": "2025-08-07T15:49:10.700Z"
   },
   {
    "duration": 17,
    "start_time": "2025-08-07T15:49:10.881Z"
   },
   {
    "duration": 18,
    "start_time": "2025-08-07T15:49:11.035Z"
   },
   {
    "duration": 8,
    "start_time": "2025-08-07T15:49:11.216Z"
   },
   {
    "duration": 32,
    "start_time": "2025-08-07T15:49:11.381Z"
   },
   {
    "duration": 8,
    "start_time": "2025-08-07T15:49:11.551Z"
   },
   {
    "duration": 114,
    "start_time": "2025-08-07T15:49:11.733Z"
   },
   {
    "duration": 80,
    "start_time": "2025-08-07T15:49:11.895Z"
   },
   {
    "duration": 2471,
    "start_time": "2025-08-07T15:49:12.274Z"
   },
   {
    "duration": 1685,
    "start_time": "2025-08-07T15:49:19.150Z"
   },
   {
    "duration": 39,
    "start_time": "2025-08-07T15:49:24.254Z"
   },
   {
    "duration": 444,
    "start_time": "2025-08-07T15:49:24.932Z"
   },
   {
    "duration": 47,
    "start_time": "2025-08-07T15:49:31.056Z"
   },
   {
    "duration": 16,
    "start_time": "2025-08-07T15:49:31.445Z"
   },
   {
    "duration": 3,
    "start_time": "2025-08-07T15:49:31.727Z"
   },
   {
    "duration": 4,
    "start_time": "2025-08-07T15:49:31.929Z"
   },
   {
    "duration": 105,
    "start_time": "2025-08-07T15:49:32.307Z"
   },
   {
    "duration": 57,
    "start_time": "2025-08-07T15:49:32.683Z"
   },
   {
    "duration": 13,
    "start_time": "2025-08-07T15:49:33.030Z"
   },
   {
    "duration": 90,
    "start_time": "2025-08-07T15:49:33.205Z"
   },
   {
    "duration": 14,
    "start_time": "2025-08-07T15:49:35.029Z"
   },
   {
    "duration": 97,
    "start_time": "2025-08-07T15:49:35.173Z"
   },
   {
    "duration": 111,
    "start_time": "2025-08-07T15:49:35.331Z"
   },
   {
    "duration": 217,
    "start_time": "2025-08-07T15:49:35.485Z"
   },
   {
    "duration": 40,
    "start_time": "2025-08-07T15:49:35.704Z"
   },
   {
    "duration": 5,
    "start_time": "2025-08-07T15:49:35.798Z"
   },
   {
    "duration": 4,
    "start_time": "2025-08-07T15:49:37.571Z"
   },
   {
    "duration": 5,
    "start_time": "2025-08-07T15:49:37.702Z"
   },
   {
    "duration": 5,
    "start_time": "2025-08-07T15:49:37.852Z"
   },
   {
    "duration": 43,
    "start_time": "2025-08-07T15:49:38.173Z"
   },
   {
    "duration": 68,
    "start_time": "2025-08-07T15:49:38.321Z"
   },
   {
    "duration": 57,
    "start_time": "2025-08-07T15:49:38.663Z"
   },
   {
    "duration": 104,
    "start_time": "2025-08-07T15:49:39.687Z"
   },
   {
    "duration": 84,
    "start_time": "2025-08-07T15:49:43.425Z"
   },
   {
    "duration": 36,
    "start_time": "2025-08-07T15:49:43.687Z"
   },
   {
    "duration": 52,
    "start_time": "2025-08-07T15:49:44.517Z"
   },
   {
    "duration": 8,
    "start_time": "2025-08-08T09:58:30.537Z"
   },
   {
    "duration": 8671,
    "start_time": "2025-08-08T09:58:30.892Z"
   },
   {
    "duration": 13554,
    "start_time": "2025-08-08T09:58:39.566Z"
   },
   {
    "duration": 21,
    "start_time": "2025-08-08T09:58:56.008Z"
   },
   {
    "duration": 5,
    "start_time": "2025-08-08T09:58:56.031Z"
   },
   {
    "duration": 979,
    "start_time": "2025-08-08T09:58:56.038Z"
   },
   {
    "duration": 96,
    "start_time": "2025-08-08T09:58:57.019Z"
   },
   {
    "duration": 23,
    "start_time": "2025-08-08T09:58:57.117Z"
   },
   {
    "duration": 25,
    "start_time": "2025-08-08T09:59:00.032Z"
   },
   {
    "duration": 12566,
    "start_time": "2025-08-08T09:59:01.333Z"
   },
   {
    "duration": 35,
    "start_time": "2025-08-08T09:59:13.901Z"
   },
   {
    "duration": 326,
    "start_time": "2025-08-08T09:59:13.938Z"
   },
   {
    "duration": 2486,
    "start_time": "2025-08-08T09:59:18.779Z"
   },
   {
    "duration": 6,
    "start_time": "2025-08-08T10:01:42.913Z"
   },
   {
    "duration": 342,
    "start_time": "2025-08-08T10:01:49.132Z"
   },
   {
    "duration": 4,
    "start_time": "2025-08-08T10:04:11.994Z"
   },
   {
    "duration": 4,
    "start_time": "2025-08-08T10:04:12.310Z"
   },
   {
    "duration": 5,
    "start_time": "2025-08-08T10:04:12.487Z"
   },
   {
    "duration": 90,
    "start_time": "2025-08-08T10:04:12.675Z"
   },
   {
    "duration": 12,
    "start_time": "2025-08-08T10:04:12.845Z"
   },
   {
    "duration": 9,
    "start_time": "2025-08-08T10:04:13.030Z"
   },
   {
    "duration": 9,
    "start_time": "2025-08-08T10:04:13.180Z"
   },
   {
    "duration": 354,
    "start_time": "2025-08-08T10:04:13.530Z"
   },
   {
    "duration": 37,
    "start_time": "2025-08-08T10:04:13.885Z"
   },
   {
    "duration": 10,
    "start_time": "2025-08-08T10:04:13.924Z"
   },
   {
    "duration": 10,
    "start_time": "2025-08-08T10:04:14.073Z"
   },
   {
    "duration": 267,
    "start_time": "2025-08-08T10:04:14.445Z"
   },
   {
    "duration": 22,
    "start_time": "2025-08-08T10:04:14.714Z"
   },
   {
    "duration": 9,
    "start_time": "2025-08-08T10:04:14.811Z"
   },
   {
    "duration": 9,
    "start_time": "2025-08-08T10:04:15.005Z"
   },
   {
    "duration": 220,
    "start_time": "2025-08-08T10:04:15.387Z"
   },
   {
    "duration": 26,
    "start_time": "2025-08-08T10:04:15.609Z"
   },
   {
    "duration": 9,
    "start_time": "2025-08-08T10:04:15.796Z"
   },
   {
    "duration": 9,
    "start_time": "2025-08-08T10:04:15.992Z"
   },
   {
    "duration": 144,
    "start_time": "2025-08-08T10:04:16.823Z"
   },
   {
    "duration": 10,
    "start_time": "2025-08-08T10:04:17.583Z"
   },
   {
    "duration": 16,
    "start_time": "2025-08-08T10:04:17.806Z"
   },
   {
    "duration": 62,
    "start_time": "2025-08-08T10:04:18.009Z"
   },
   {
    "duration": 353,
    "start_time": "2025-08-08T10:04:18.205Z"
   },
   {
    "duration": 8,
    "start_time": "2025-08-08T10:04:18.560Z"
   },
   {
    "duration": 20,
    "start_time": "2025-08-08T10:04:18.570Z"
   },
   {
    "duration": 5,
    "start_time": "2025-08-08T10:04:18.757Z"
   },
   {
    "duration": 8,
    "start_time": "2025-08-08T10:04:18.957Z"
   },
   {
    "duration": 16,
    "start_time": "2025-08-08T10:04:19.163Z"
   },
   {
    "duration": 16,
    "start_time": "2025-08-08T10:04:19.354Z"
   },
   {
    "duration": 9,
    "start_time": "2025-08-08T10:04:19.551Z"
   },
   {
    "duration": 31,
    "start_time": "2025-08-08T10:04:19.725Z"
   },
   {
    "duration": 12,
    "start_time": "2025-08-08T10:04:19.903Z"
   },
   {
    "duration": 159,
    "start_time": "2025-08-08T10:04:20.291Z"
   },
   {
    "duration": 104,
    "start_time": "2025-08-08T10:04:24.405Z"
   },
   {
    "duration": 131,
    "start_time": "2025-08-08T10:04:32.759Z"
   },
   {
    "duration": 9,
    "start_time": "2025-08-08T10:04:40.258Z"
   },
   {
    "duration": 8,
    "start_time": "2025-08-08T10:05:15.073Z"
   },
   {
    "duration": 6098,
    "start_time": "2025-08-08T10:05:16.026Z"
   },
   {
    "duration": 6146,
    "start_time": "2025-08-08T10:05:23.391Z"
   },
   {
    "duration": 2507,
    "start_time": "2025-08-08T10:05:32.314Z"
   },
   {
    "duration": 6028,
    "start_time": "2025-08-08T10:05:34.824Z"
   },
   {
    "duration": 1335,
    "start_time": "2025-08-08T10:05:40.855Z"
   },
   {
    "duration": 3,
    "start_time": "2025-08-08T10:05:42.192Z"
   },
   {
    "duration": 1065,
    "start_time": "2025-08-08T10:05:42.197Z"
   },
   {
    "duration": 89,
    "start_time": "2025-08-08T10:05:43.264Z"
   },
   {
    "duration": 47,
    "start_time": "2025-08-08T10:05:43.363Z"
   },
   {
    "duration": 20,
    "start_time": "2025-08-08T10:05:45.918Z"
   },
   {
    "duration": 6335,
    "start_time": "2025-08-08T10:05:46.401Z"
   },
   {
    "duration": 12,
    "start_time": "2025-08-08T10:05:52.738Z"
   },
   {
    "duration": 326,
    "start_time": "2025-08-08T10:05:52.752Z"
   },
   {
    "duration": 3,
    "start_time": "2025-08-08T10:05:54.415Z"
   },
   {
    "duration": 4,
    "start_time": "2025-08-08T10:05:54.819Z"
   },
   {
    "duration": 7,
    "start_time": "2025-08-08T10:05:55.420Z"
   },
   {
    "duration": 62,
    "start_time": "2025-08-08T10:05:55.942Z"
   },
   {
    "duration": 12,
    "start_time": "2025-08-08T10:05:56.452Z"
   },
   {
    "duration": 10,
    "start_time": "2025-08-08T10:05:56.935Z"
   },
   {
    "duration": 8,
    "start_time": "2025-08-08T10:05:57.632Z"
   },
   {
    "duration": 437,
    "start_time": "2025-08-08T10:05:58.499Z"
   },
   {
    "duration": 44,
    "start_time": "2025-08-08T10:05:58.938Z"
   },
   {
    "duration": 9,
    "start_time": "2025-08-08T10:05:59.196Z"
   },
   {
    "duration": 10,
    "start_time": "2025-08-08T10:05:59.674Z"
   },
   {
    "duration": 233,
    "start_time": "2025-08-08T10:06:00.413Z"
   },
   {
    "duration": 18,
    "start_time": "2025-08-08T10:06:00.776Z"
   },
   {
    "duration": 8,
    "start_time": "2025-08-08T10:06:01.142Z"
   },
   {
    "duration": 8,
    "start_time": "2025-08-08T10:06:01.524Z"
   },
   {
    "duration": 228,
    "start_time": "2025-08-08T10:06:03.279Z"
   },
   {
    "duration": 25,
    "start_time": "2025-08-08T10:06:03.811Z"
   },
   {
    "duration": 8,
    "start_time": "2025-08-08T10:06:04.189Z"
   },
   {
    "duration": 9,
    "start_time": "2025-08-08T10:06:04.518Z"
   },
   {
    "duration": 147,
    "start_time": "2025-08-08T10:06:05.965Z"
   },
   {
    "duration": 9,
    "start_time": "2025-08-08T10:06:07.177Z"
   },
   {
    "duration": 16,
    "start_time": "2025-08-08T10:06:07.560Z"
   },
   {
    "duration": 63,
    "start_time": "2025-08-08T10:06:07.853Z"
   },
   {
    "duration": 364,
    "start_time": "2025-08-08T10:06:08.098Z"
   },
   {
    "duration": 6,
    "start_time": "2025-08-08T10:06:08.464Z"
   },
   {
    "duration": 11,
    "start_time": "2025-08-08T10:06:08.538Z"
   },
   {
    "duration": 5,
    "start_time": "2025-08-08T10:06:08.900Z"
   },
   {
    "duration": 7,
    "start_time": "2025-08-08T10:06:09.257Z"
   },
   {
    "duration": 17,
    "start_time": "2025-08-08T10:06:09.490Z"
   },
   {
    "duration": 14,
    "start_time": "2025-08-08T10:06:09.693Z"
   },
   {
    "duration": 10,
    "start_time": "2025-08-08T10:06:09.906Z"
   },
   {
    "duration": 37,
    "start_time": "2025-08-08T10:06:10.469Z"
   },
   {
    "duration": 9,
    "start_time": "2025-08-08T10:06:10.921Z"
   },
   {
    "duration": 125,
    "start_time": "2025-08-08T10:06:11.357Z"
   },
   {
    "duration": 101,
    "start_time": "2025-08-08T10:06:12.393Z"
   },
   {
    "duration": 9,
    "start_time": "2025-08-08T10:06:13.188Z"
   },
   {
    "duration": 92,
    "start_time": "2025-08-08T10:07:13.702Z"
   },
   {
    "duration": 105,
    "start_time": "2025-08-08T10:07:18.175Z"
   },
   {
    "duration": 3097,
    "start_time": "2025-08-08T10:07:51.414Z"
   },
   {
    "duration": 8,
    "start_time": "2025-08-08T10:07:55.506Z"
   },
   {
    "duration": 2486,
    "start_time": "2025-08-08T10:07:56.741Z"
   },
   {
    "duration": 1705,
    "start_time": "2025-08-08T10:08:06.919Z"
   },
   {
    "duration": 33,
    "start_time": "2025-08-08T10:08:13.976Z"
   },
   {
    "duration": 442,
    "start_time": "2025-08-08T10:08:15.075Z"
   },
   {
    "duration": 41,
    "start_time": "2025-08-08T10:08:36.278Z"
   },
   {
    "duration": 17,
    "start_time": "2025-08-08T10:08:36.655Z"
   },
   {
    "duration": 3,
    "start_time": "2025-08-08T10:08:37.223Z"
   },
   {
    "duration": 3,
    "start_time": "2025-08-08T10:08:37.511Z"
   },
   {
    "duration": 105,
    "start_time": "2025-08-08T10:08:37.757Z"
   },
   {
    "duration": 72,
    "start_time": "2025-08-08T10:08:38.468Z"
   },
   {
    "duration": 11,
    "start_time": "2025-08-08T10:08:39.229Z"
   },
   {
    "duration": 80,
    "start_time": "2025-08-08T10:08:40.170Z"
   },
   {
    "duration": 15,
    "start_time": "2025-08-08T10:08:40.872Z"
   },
   {
    "duration": 110,
    "start_time": "2025-08-08T10:08:41.085Z"
   },
   {
    "duration": 101,
    "start_time": "2025-08-08T10:08:41.283Z"
   },
   {
    "duration": 192,
    "start_time": "2025-08-08T10:08:41.467Z"
   },
   {
    "duration": 34,
    "start_time": "2025-08-08T10:08:41.675Z"
   },
   {
    "duration": 4,
    "start_time": "2025-08-08T10:08:41.872Z"
   },
   {
    "duration": 4,
    "start_time": "2025-08-08T10:08:42.085Z"
   },
   {
    "duration": 4,
    "start_time": "2025-08-08T10:08:42.283Z"
   },
   {
    "duration": 6,
    "start_time": "2025-08-08T10:08:42.489Z"
   },
   {
    "duration": 43,
    "start_time": "2025-08-08T10:08:42.936Z"
   },
   {
    "duration": 66,
    "start_time": "2025-08-08T10:08:43.478Z"
   },
   {
    "duration": 58,
    "start_time": "2025-08-08T10:08:44.244Z"
   },
   {
    "duration": 95,
    "start_time": "2025-08-08T10:08:44.871Z"
   },
   {
    "duration": 69,
    "start_time": "2025-08-08T10:08:46.594Z"
   },
   {
    "duration": 35,
    "start_time": "2025-08-08T10:08:46.993Z"
   },
   {
    "duration": 43,
    "start_time": "2025-08-08T10:08:47.435Z"
   },
   {
    "duration": 275,
    "start_time": "2025-08-08T10:10:28.489Z"
   },
   {
    "duration": 126,
    "start_time": "2025-08-08T10:10:49.660Z"
   },
   {
    "duration": 52,
    "start_time": "2025-08-08T10:11:26.454Z"
   },
   {
    "duration": 57,
    "start_time": "2025-08-08T10:11:27.059Z"
   },
   {
    "duration": 16,
    "start_time": "2025-08-08T10:11:29.320Z"
   },
   {
    "duration": 16,
    "start_time": "2025-08-08T10:11:31.033Z"
   },
   {
    "duration": 24,
    "start_time": "2025-08-08T10:11:31.558Z"
   },
   {
    "duration": 14,
    "start_time": "2025-08-08T10:11:34.101Z"
   },
   {
    "duration": 56,
    "start_time": "2025-08-08T10:11:34.461Z"
   },
   {
    "duration": 214,
    "start_time": "2025-08-08T10:11:38.279Z"
   },
   {
    "duration": 71,
    "start_time": "2025-08-08T10:11:39.194Z"
   },
   {
    "duration": 63,
    "start_time": "2025-08-08T10:11:41.226Z"
   },
   {
    "duration": 4,
    "start_time": "2025-08-08T10:11:41.763Z"
   },
   {
    "duration": 78,
    "start_time": "2025-08-08T10:11:43.130Z"
   },
   {
    "duration": 91,
    "start_time": "2025-08-08T10:14:52.822Z"
   },
   {
    "duration": 37,
    "start_time": "2025-08-08T10:14:59.666Z"
   },
   {
    "duration": 4,
    "start_time": "2025-08-08T12:58:39.418Z"
   },
   {
    "duration": 10,
    "start_time": "2025-08-08T12:59:04.619Z"
   },
   {
    "duration": 789,
    "start_time": "2025-08-08T13:04:44.337Z"
   },
   {
    "duration": 821,
    "start_time": "2025-08-08T13:04:56.802Z"
   },
   {
    "duration": 11,
    "start_time": "2025-08-08T13:06:22.304Z"
   },
   {
    "duration": 10,
    "start_time": "2025-08-08T13:06:39.282Z"
   },
   {
    "duration": 5,
    "start_time": "2025-08-08T13:06:44.126Z"
   },
   {
    "duration": 6,
    "start_time": "2025-08-08T13:07:06.627Z"
   },
   {
    "duration": 6,
    "start_time": "2025-08-08T13:07:24.265Z"
   },
   {
    "duration": 423,
    "start_time": "2025-08-08T13:22:42.425Z"
   },
   {
    "duration": 851,
    "start_time": "2025-08-08T13:23:03.592Z"
   },
   {
    "duration": 853,
    "start_time": "2025-08-08T13:26:21.181Z"
   },
   {
    "duration": 7,
    "start_time": "2025-08-08T13:27:50.827Z"
   },
   {
    "duration": 725,
    "start_time": "2025-08-08T13:28:41.081Z"
   },
   {
    "duration": 724,
    "start_time": "2025-08-08T13:29:14.751Z"
   },
   {
    "duration": 925,
    "start_time": "2025-08-08T13:30:15.406Z"
   },
   {
    "duration": 806,
    "start_time": "2025-08-08T13:30:36.106Z"
   },
   {
    "duration": 726,
    "start_time": "2025-08-08T13:42:00.768Z"
   },
   {
    "duration": 30,
    "start_time": "2025-08-08T13:44:11.155Z"
   },
   {
    "duration": 10,
    "start_time": "2025-08-08T13:45:06.199Z"
   },
   {
    "duration": 34,
    "start_time": "2025-08-08T13:46:01.531Z"
   },
   {
    "duration": 10,
    "start_time": "2025-08-08T13:46:01.888Z"
   },
   {
    "duration": 6,
    "start_time": "2025-08-08T13:49:07.187Z"
   },
   {
    "duration": 11,
    "start_time": "2025-08-08T14:10:48.898Z"
   },
   {
    "duration": 52,
    "start_time": "2025-08-08T14:11:52.320Z"
   },
   {
    "duration": 26,
    "start_time": "2025-08-08T14:12:16.898Z"
   },
   {
    "duration": 10,
    "start_time": "2025-08-08T14:12:46.071Z"
   },
   {
    "duration": 11,
    "start_time": "2025-08-08T14:13:16.206Z"
   },
   {
    "duration": 17,
    "start_time": "2025-08-08T14:15:24.197Z"
   },
   {
    "duration": 10,
    "start_time": "2025-08-08T14:15:33.673Z"
   },
   {
    "duration": 22,
    "start_time": "2025-08-08T14:18:52.183Z"
   },
   {
    "duration": 29,
    "start_time": "2025-08-08T14:21:24.866Z"
   },
   {
    "duration": 10,
    "start_time": "2025-08-08T14:22:14.397Z"
   },
   {
    "duration": 310,
    "start_time": "2025-08-08T14:22:57.508Z"
   },
   {
    "duration": 400,
    "start_time": "2025-08-08T14:23:18.539Z"
   },
   {
    "duration": 109,
    "start_time": "2025-08-08T15:15:50.338Z"
   },
   {
    "duration": 14,
    "start_time": "2025-08-08T15:16:08.935Z"
   },
   {
    "duration": 396,
    "start_time": "2025-08-08T15:16:20.766Z"
   },
   {
    "duration": 4,
    "start_time": "2025-08-08T15:17:20.352Z"
   },
   {
    "duration": 435,
    "start_time": "2025-08-08T15:17:21.895Z"
   },
   {
    "duration": 47,
    "start_time": "2025-08-09T15:14:46.520Z"
   },
   {
    "duration": 2,
    "start_time": "2025-08-09T15:14:50.050Z"
   },
   {
    "duration": 7674,
    "start_time": "2025-08-09T15:14:50.646Z"
   },
   {
    "duration": 14345,
    "start_time": "2025-08-09T15:14:58.322Z"
   },
   {
    "duration": 1542,
    "start_time": "2025-08-09T15:15:12.669Z"
   },
   {
    "duration": 3,
    "start_time": "2025-08-09T15:15:14.213Z"
   },
   {
    "duration": 1111,
    "start_time": "2025-08-09T15:15:14.218Z"
   },
   {
    "duration": 97,
    "start_time": "2025-08-09T15:15:15.331Z"
   },
   {
    "duration": 30,
    "start_time": "2025-08-09T15:15:18.948Z"
   },
   {
    "duration": 21,
    "start_time": "2025-08-09T15:15:19.383Z"
   },
   {
    "duration": 12472,
    "start_time": "2025-08-09T15:15:19.834Z"
   },
   {
    "duration": 25,
    "start_time": "2025-08-09T15:15:32.308Z"
   },
   {
    "duration": 350,
    "start_time": "2025-08-09T15:15:32.334Z"
   },
   {
    "duration": 3,
    "start_time": "2025-08-09T15:15:35.863Z"
   },
   {
    "duration": 4,
    "start_time": "2025-08-09T15:15:36.080Z"
   },
   {
    "duration": 6,
    "start_time": "2025-08-09T15:15:36.319Z"
   },
   {
    "duration": 59,
    "start_time": "2025-08-09T15:15:36.575Z"
   },
   {
    "duration": 12,
    "start_time": "2025-08-09T15:15:36.793Z"
   },
   {
    "duration": 9,
    "start_time": "2025-08-09T15:15:37.038Z"
   },
   {
    "duration": 9,
    "start_time": "2025-08-09T15:15:37.283Z"
   },
   {
    "duration": 445,
    "start_time": "2025-08-09T15:15:37.755Z"
   },
   {
    "duration": 36,
    "start_time": "2025-08-09T15:15:38.202Z"
   },
   {
    "duration": 9,
    "start_time": "2025-08-09T15:15:38.240Z"
   },
   {
    "duration": 10,
    "start_time": "2025-08-09T15:15:38.287Z"
   },
   {
    "duration": 228,
    "start_time": "2025-08-09T15:15:38.660Z"
   },
   {
    "duration": 18,
    "start_time": "2025-08-09T15:15:38.890Z"
   },
   {
    "duration": 7,
    "start_time": "2025-08-09T15:15:38.977Z"
   },
   {
    "duration": 8,
    "start_time": "2025-08-09T15:15:39.164Z"
   },
   {
    "duration": 218,
    "start_time": "2025-08-09T15:15:39.536Z"
   },
   {
    "duration": 31,
    "start_time": "2025-08-09T15:15:39.756Z"
   },
   {
    "duration": 221,
    "start_time": "2025-08-09T15:15:39.882Z"
   },
   {
    "duration": 11,
    "start_time": "2025-08-09T15:15:40.105Z"
   },
   {
    "duration": 154,
    "start_time": "2025-08-09T15:15:41.243Z"
   },
   {
    "duration": 9,
    "start_time": "2025-08-09T15:15:42.563Z"
   },
   {
    "duration": 15,
    "start_time": "2025-08-09T15:15:42.897Z"
   },
   {
    "duration": 52,
    "start_time": "2025-08-09T15:15:43.164Z"
   },
   {
    "duration": 333,
    "start_time": "2025-08-09T15:15:43.397Z"
   },
   {
    "duration": 6,
    "start_time": "2025-08-09T15:15:43.732Z"
   },
   {
    "duration": 12,
    "start_time": "2025-08-09T15:15:43.789Z"
   },
   {
    "duration": 8,
    "start_time": "2025-08-09T15:15:43.977Z"
   },
   {
    "duration": 7,
    "start_time": "2025-08-09T15:15:44.169Z"
   },
   {
    "duration": 17,
    "start_time": "2025-08-09T15:15:44.361Z"
   },
   {
    "duration": 17,
    "start_time": "2025-08-09T15:15:44.557Z"
   },
   {
    "duration": 8,
    "start_time": "2025-08-09T15:15:44.732Z"
   },
   {
    "duration": 29,
    "start_time": "2025-08-09T15:15:44.908Z"
   },
   {
    "duration": 9,
    "start_time": "2025-08-09T15:15:45.105Z"
   },
   {
    "duration": 2948,
    "start_time": "2025-08-09T15:15:45.371Z"
   },
   {
    "duration": 6,
    "start_time": "2025-08-09T15:15:48.322Z"
   },
   {
    "duration": 2256,
    "start_time": "2025-08-09T15:15:48.330Z"
   },
   {
    "duration": 1556,
    "start_time": "2025-08-09T15:15:55.425Z"
   },
   {
    "duration": 33,
    "start_time": "2025-08-09T15:15:59.351Z"
   },
   {
    "duration": 4,
    "start_time": "2025-08-09T15:15:59.895Z"
   },
   {
    "duration": 397,
    "start_time": "2025-08-09T15:16:00.288Z"
   },
   {
    "duration": 43,
    "start_time": "2025-08-09T15:16:03.296Z"
   },
   {
    "duration": 16,
    "start_time": "2025-08-09T15:16:03.627Z"
   },
   {
    "duration": 3,
    "start_time": "2025-08-09T15:16:03.989Z"
   },
   {
    "duration": 3,
    "start_time": "2025-08-09T15:16:04.228Z"
   },
   {
    "duration": 94,
    "start_time": "2025-08-09T15:16:04.414Z"
   },
   {
    "duration": 57,
    "start_time": "2025-08-09T15:16:04.780Z"
   },
   {
    "duration": 13,
    "start_time": "2025-08-09T15:16:05.157Z"
   },
   {
    "duration": 82,
    "start_time": "2025-08-09T15:16:05.366Z"
   },
   {
    "duration": 15,
    "start_time": "2025-08-09T15:16:05.742Z"
   },
   {
    "duration": 103,
    "start_time": "2025-08-09T15:16:05.950Z"
   },
   {
    "duration": 100,
    "start_time": "2025-08-09T15:16:06.189Z"
   },
   {
    "duration": 194,
    "start_time": "2025-08-09T15:16:06.391Z"
   },
   {
    "duration": 126,
    "start_time": "2025-08-09T15:16:06.662Z"
   },
   {
    "duration": 4,
    "start_time": "2025-08-09T15:16:07.206Z"
   },
   {
    "duration": 4,
    "start_time": "2025-08-09T15:16:07.668Z"
   },
   {
    "duration": 4,
    "start_time": "2025-08-09T15:16:07.933Z"
   },
   {
    "duration": 5,
    "start_time": "2025-08-09T15:16:08.349Z"
   },
   {
    "duration": 43,
    "start_time": "2025-08-09T15:16:22.265Z"
   },
   {
    "duration": 64,
    "start_time": "2025-08-09T15:16:22.765Z"
   },
   {
    "duration": 51,
    "start_time": "2025-08-09T15:16:26.403Z"
   },
   {
    "duration": 97,
    "start_time": "2025-08-09T15:16:43.196Z"
   },
   {
    "duration": 67,
    "start_time": "2025-08-09T15:16:47.887Z"
   },
   {
    "duration": 36,
    "start_time": "2025-08-09T15:16:48.158Z"
   },
   {
    "duration": 45,
    "start_time": "2025-08-09T15:16:48.429Z"
   },
   {
    "duration": 195,
    "start_time": "2025-08-09T15:16:48.876Z"
   },
   {
    "duration": 50,
    "start_time": "2025-08-09T15:16:52.976Z"
   },
   {
    "duration": 58,
    "start_time": "2025-08-09T15:16:53.767Z"
   },
   {
    "duration": 24,
    "start_time": "2025-08-09T15:16:54.252Z"
   },
   {
    "duration": 16,
    "start_time": "2025-08-09T15:16:58.162Z"
   },
   {
    "duration": 23,
    "start_time": "2025-08-09T15:16:58.623Z"
   },
   {
    "duration": 22,
    "start_time": "2025-08-09T15:17:01.139Z"
   },
   {
    "duration": 38,
    "start_time": "2025-08-09T15:17:01.548Z"
   },
   {
    "duration": 185,
    "start_time": "2025-08-09T15:17:04.891Z"
   },
   {
    "duration": 71,
    "start_time": "2025-08-09T15:17:05.191Z"
   },
   {
    "duration": 52,
    "start_time": "2025-08-09T15:17:05.772Z"
   },
   {
    "duration": 5,
    "start_time": "2025-08-09T15:17:12.162Z"
   },
   {
    "duration": 65,
    "start_time": "2025-08-09T15:17:12.365Z"
   },
   {
    "duration": 40,
    "start_time": "2025-08-09T15:18:16.860Z"
   },
   {
    "duration": 83,
    "start_time": "2025-08-09T15:19:07.740Z"
   },
   {
    "duration": 4,
    "start_time": "2025-08-09T15:19:17.320Z"
   },
   {
    "duration": 10,
    "start_time": "2025-08-09T15:19:17.783Z"
   },
   {
    "duration": 785,
    "start_time": "2025-08-09T15:21:23.536Z"
   },
   {
    "duration": 798,
    "start_time": "2025-08-09T15:21:44.323Z"
   },
   {
    "duration": 773,
    "start_time": "2025-08-09T15:22:57.852Z"
   },
   {
    "duration": 684,
    "start_time": "2025-08-09T15:22:58.781Z"
   },
   {
    "duration": 764,
    "start_time": "2025-08-09T15:23:18.221Z"
   },
   {
    "duration": 725,
    "start_time": "2025-08-09T15:23:40.352Z"
   },
   {
    "duration": 10,
    "start_time": "2025-08-09T15:23:58.842Z"
   },
   {
    "duration": 5,
    "start_time": "2025-08-09T15:24:11.312Z"
   },
   {
    "duration": 992,
    "start_time": "2025-08-09T15:27:17.555Z"
   },
   {
    "duration": 805,
    "start_time": "2025-08-09T15:28:32.812Z"
   },
   {
    "duration": 3,
    "start_time": "2025-08-09T15:30:45.683Z"
   },
   {
    "duration": 2,
    "start_time": "2025-08-09T15:30:52.257Z"
   },
   {
    "duration": 68,
    "start_time": "2025-08-09T15:37:49.058Z"
   },
   {
    "duration": 140,
    "start_time": "2025-08-09T15:38:02.965Z"
   },
   {
    "duration": 45,
    "start_time": "2025-08-09T15:39:00.322Z"
   },
   {
    "duration": 44,
    "start_time": "2025-08-09T15:39:35.504Z"
   },
   {
    "duration": 31,
    "start_time": "2025-08-09T15:40:03.939Z"
   },
   {
    "duration": 39,
    "start_time": "2025-08-09T15:40:24.098Z"
   },
   {
    "duration": 19,
    "start_time": "2025-08-09T15:41:46.732Z"
   },
   {
    "duration": 120,
    "start_time": "2025-08-09T15:42:08.471Z"
   },
   {
    "duration": 90,
    "start_time": "2025-08-09T15:42:17.347Z"
   },
   {
    "duration": 12,
    "start_time": "2025-08-09T15:42:19.701Z"
   },
   {
    "duration": 6,
    "start_time": "2025-08-09T15:44:04.575Z"
   },
   {
    "duration": 4,
    "start_time": "2025-08-09T15:44:17.583Z"
   },
   {
    "duration": 12,
    "start_time": "2025-08-09T15:47:07.496Z"
   },
   {
    "duration": 13,
    "start_time": "2025-08-09T15:47:55.910Z"
   },
   {
    "duration": 38,
    "start_time": "2025-08-09T15:47:56.326Z"
   },
   {
    "duration": 21,
    "start_time": "2025-08-09T15:48:00.659Z"
   },
   {
    "duration": 59,
    "start_time": "2025-08-09T15:49:54.284Z"
   },
   {
    "duration": 13,
    "start_time": "2025-08-09T15:50:06.515Z"
   },
   {
    "duration": 6,
    "start_time": "2025-08-09T15:50:19.242Z"
   },
   {
    "duration": 11,
    "start_time": "2025-08-09T15:50:19.704Z"
   },
   {
    "duration": 19,
    "start_time": "2025-08-09T15:50:27.465Z"
   },
   {
    "duration": 10,
    "start_time": "2025-08-09T15:50:33.834Z"
   },
   {
    "duration": 24,
    "start_time": "2025-08-09T15:52:03.017Z"
   },
   {
    "duration": 39,
    "start_time": "2025-08-09T15:52:04.200Z"
   },
   {
    "duration": 21,
    "start_time": "2025-08-09T15:52:05.316Z"
   },
   {
    "duration": 5,
    "start_time": "2025-08-09T15:52:08.693Z"
   },
   {
    "duration": 8,
    "start_time": "2025-08-09T15:52:25.490Z"
   },
   {
    "duration": 6603,
    "start_time": "2025-08-09T15:52:25.859Z"
   },
   {
    "duration": 2577,
    "start_time": "2025-08-09T15:52:48.654Z"
   },
   {
    "duration": 6431,
    "start_time": "2025-08-09T15:52:51.233Z"
   },
   {
    "duration": 1375,
    "start_time": "2025-08-09T15:52:57.666Z"
   },
   {
    "duration": 3,
    "start_time": "2025-08-09T15:52:59.043Z"
   },
   {
    "duration": 1142,
    "start_time": "2025-08-09T15:52:59.048Z"
   },
   {
    "duration": 103,
    "start_time": "2025-08-09T15:53:00.192Z"
   },
   {
    "duration": 41,
    "start_time": "2025-08-09T15:53:04.497Z"
   },
   {
    "duration": 32,
    "start_time": "2025-08-09T15:53:04.667Z"
   },
   {
    "duration": 6752,
    "start_time": "2025-08-09T15:53:04.970Z"
   },
   {
    "duration": 10,
    "start_time": "2025-08-09T15:53:11.724Z"
   },
   {
    "duration": 350,
    "start_time": "2025-08-09T15:53:11.735Z"
   },
   {
    "duration": 4,
    "start_time": "2025-08-09T15:53:14.617Z"
   },
   {
    "duration": 4,
    "start_time": "2025-08-09T15:53:14.883Z"
   },
   {
    "duration": 8,
    "start_time": "2025-08-09T15:53:15.122Z"
   },
   {
    "duration": 89,
    "start_time": "2025-08-09T15:53:15.367Z"
   },
   {
    "duration": 13,
    "start_time": "2025-08-09T15:53:15.643Z"
   },
   {
    "duration": 8,
    "start_time": "2025-08-09T15:53:15.932Z"
   },
   {
    "duration": 9,
    "start_time": "2025-08-09T15:53:16.229Z"
   },
   {
    "duration": 452,
    "start_time": "2025-08-09T15:53:16.834Z"
   },
   {
    "duration": 37,
    "start_time": "2025-08-09T15:53:17.288Z"
   },
   {
    "duration": 9,
    "start_time": "2025-08-09T15:53:17.327Z"
   },
   {
    "duration": 10,
    "start_time": "2025-08-09T15:53:17.511Z"
   },
   {
    "duration": 270,
    "start_time": "2025-08-09T15:53:18.451Z"
   },
   {
    "duration": 19,
    "start_time": "2025-08-09T15:53:18.861Z"
   },
   {
    "duration": 8,
    "start_time": "2025-08-09T15:53:19.319Z"
   },
   {
    "duration": 9,
    "start_time": "2025-08-09T15:53:19.883Z"
   },
   {
    "duration": 257,
    "start_time": "2025-08-09T15:53:20.546Z"
   },
   {
    "duration": 23,
    "start_time": "2025-08-09T15:53:20.838Z"
   },
   {
    "duration": 9,
    "start_time": "2025-08-09T15:53:21.184Z"
   },
   {
    "duration": 9,
    "start_time": "2025-08-09T15:53:21.452Z"
   },
   {
    "duration": 149,
    "start_time": "2025-08-09T15:53:22.498Z"
   },
   {
    "duration": 10,
    "start_time": "2025-08-09T15:53:23.323Z"
   },
   {
    "duration": 17,
    "start_time": "2025-08-09T15:53:23.615Z"
   },
   {
    "duration": 64,
    "start_time": "2025-08-09T15:53:23.822Z"
   },
   {
    "duration": 347,
    "start_time": "2025-08-09T15:53:24.019Z"
   },
   {
    "duration": 8,
    "start_time": "2025-08-09T15:53:24.372Z"
   },
   {
    "duration": 12,
    "start_time": "2025-08-09T15:53:24.551Z"
   },
   {
    "duration": 6,
    "start_time": "2025-08-09T15:53:24.773Z"
   },
   {
    "duration": 8,
    "start_time": "2025-08-09T15:53:24.976Z"
   },
   {
    "duration": 19,
    "start_time": "2025-08-09T15:53:25.194Z"
   },
   {
    "duration": 17,
    "start_time": "2025-08-09T15:53:25.396Z"
   },
   {
    "duration": 9,
    "start_time": "2025-08-09T15:53:25.588Z"
   },
   {
    "duration": 33,
    "start_time": "2025-08-09T15:53:25.817Z"
   },
   {
    "duration": 9,
    "start_time": "2025-08-09T15:53:26.036Z"
   },
   {
    "duration": 2527,
    "start_time": "2025-08-09T15:53:26.238Z"
   },
   {
    "duration": 5,
    "start_time": "2025-08-09T15:53:28.767Z"
   },
   {
    "duration": 2274,
    "start_time": "2025-08-09T15:53:28.774Z"
   },
   {
    "duration": 1564,
    "start_time": "2025-08-09T15:53:33.926Z"
   },
   {
    "duration": 34,
    "start_time": "2025-08-09T15:53:40.361Z"
   },
   {
    "duration": 4,
    "start_time": "2025-08-09T15:53:41.042Z"
   },
   {
    "duration": 399,
    "start_time": "2025-08-09T15:53:41.394Z"
   },
   {
    "duration": 41,
    "start_time": "2025-08-09T15:53:44.036Z"
   },
   {
    "duration": 20,
    "start_time": "2025-08-09T15:53:44.264Z"
   },
   {
    "duration": 3,
    "start_time": "2025-08-09T15:53:44.493Z"
   },
   {
    "duration": 4,
    "start_time": "2025-08-09T15:53:44.722Z"
   },
   {
    "duration": 91,
    "start_time": "2025-08-09T15:53:44.972Z"
   },
   {
    "duration": 55,
    "start_time": "2025-08-09T15:53:45.435Z"
   },
   {
    "duration": 12,
    "start_time": "2025-08-09T15:53:45.913Z"
   },
   {
    "duration": 83,
    "start_time": "2025-08-09T15:53:46.158Z"
   },
   {
    "duration": 15,
    "start_time": "2025-08-09T15:53:46.838Z"
   },
   {
    "duration": 102,
    "start_time": "2025-08-09T15:53:47.178Z"
   },
   {
    "duration": 97,
    "start_time": "2025-08-09T15:53:47.403Z"
   },
   {
    "duration": 195,
    "start_time": "2025-08-09T15:53:47.600Z"
   },
   {
    "duration": 32,
    "start_time": "2025-08-09T15:53:47.796Z"
   },
   {
    "duration": 5,
    "start_time": "2025-08-09T15:53:47.991Z"
   },
   {
    "duration": 4,
    "start_time": "2025-08-09T15:53:48.193Z"
   },
   {
    "duration": 5,
    "start_time": "2025-08-09T15:53:48.417Z"
   },
   {
    "duration": 6,
    "start_time": "2025-08-09T15:53:48.629Z"
   },
   {
    "duration": 43,
    "start_time": "2025-08-09T15:53:49.002Z"
   },
   {
    "duration": 60,
    "start_time": "2025-08-09T15:53:51.109Z"
   },
   {
    "duration": 48,
    "start_time": "2025-08-09T15:53:51.629Z"
   },
   {
    "duration": 95,
    "start_time": "2025-08-09T15:53:52.103Z"
   },
   {
    "duration": 68,
    "start_time": "2025-08-09T15:53:53.277Z"
   },
   {
    "duration": 36,
    "start_time": "2025-08-09T15:53:53.511Z"
   },
   {
    "duration": 46,
    "start_time": "2025-08-09T15:53:53.721Z"
   },
   {
    "duration": 149,
    "start_time": "2025-08-09T15:53:55.639Z"
   },
   {
    "duration": 52,
    "start_time": "2025-08-09T15:53:57.191Z"
   },
   {
    "duration": 55,
    "start_time": "2025-08-09T15:53:57.659Z"
   },
   {
    "duration": 16,
    "start_time": "2025-08-09T15:53:57.947Z"
   },
   {
    "duration": 14,
    "start_time": "2025-08-09T15:53:58.224Z"
   },
   {
    "duration": 20,
    "start_time": "2025-08-09T15:53:58.468Z"
   },
   {
    "duration": 13,
    "start_time": "2025-08-09T15:54:00.776Z"
   },
   {
    "duration": 38,
    "start_time": "2025-08-09T15:54:01.026Z"
   },
   {
    "duration": 194,
    "start_time": "2025-08-09T15:54:01.839Z"
   },
   {
    "duration": 72,
    "start_time": "2025-08-09T15:54:02.089Z"
   },
   {
    "duration": 53,
    "start_time": "2025-08-09T15:54:02.345Z"
   },
   {
    "duration": 4,
    "start_time": "2025-08-09T15:54:04.100Z"
   },
   {
    "duration": 78,
    "start_time": "2025-08-09T15:54:04.349Z"
   },
   {
    "duration": 37,
    "start_time": "2025-08-09T15:54:09.125Z"
   },
   {
    "duration": 3,
    "start_time": "2025-08-09T15:54:13.884Z"
   },
   {
    "duration": 9,
    "start_time": "2025-08-09T15:54:14.438Z"
   },
   {
    "duration": 941,
    "start_time": "2025-08-09T15:54:16.782Z"
   },
   {
    "duration": 678,
    "start_time": "2025-08-09T15:54:21.268Z"
   },
   {
    "duration": 786,
    "start_time": "2025-08-09T15:54:23.457Z"
   },
   {
    "duration": 8,
    "start_time": "2025-08-09T15:54:27.078Z"
   },
   {
    "duration": 5,
    "start_time": "2025-08-09T15:54:28.068Z"
   },
   {
    "duration": 24,
    "start_time": "2025-08-09T15:54:33.338Z"
   },
   {
    "duration": 37,
    "start_time": "2025-08-09T15:54:34.620Z"
   },
   {
    "duration": 23,
    "start_time": "2025-08-09T15:54:36.538Z"
   },
   {
    "duration": 5,
    "start_time": "2025-08-09T15:54:37.517Z"
   },
   {
    "duration": 12,
    "start_time": "2025-08-09T15:54:42.743Z"
   },
   {
    "duration": 38,
    "start_time": "2025-08-09T15:54:43.296Z"
   },
   {
    "duration": 76,
    "start_time": "2025-08-09T15:54:43.723Z"
   },
   {
    "duration": 11,
    "start_time": "2025-08-09T15:54:44.482Z"
   },
   {
    "duration": 7,
    "start_time": "2025-08-09T15:54:44.909Z"
   },
   {
    "duration": 12,
    "start_time": "2025-08-09T15:54:45.468Z"
   },
   {
    "duration": 15,
    "start_time": "2025-08-09T15:54:45.904Z"
   },
   {
    "duration": 9,
    "start_time": "2025-08-09T15:54:46.212Z"
   },
   {
    "duration": 19,
    "start_time": "2025-08-09T15:55:26.314Z"
   },
   {
    "duration": 11,
    "start_time": "2025-08-09T15:55:35.647Z"
   },
   {
    "duration": 481,
    "start_time": "2025-08-09T15:56:00.379Z"
   },
   {
    "duration": 91,
    "start_time": "2025-08-09T15:59:49.582Z"
   }
  ],
  "colab": {
   "provenance": []
  },
  "kernelspec": {
   "display_name": "Python 3 (ipykernel)",
   "language": "python",
   "name": "python3"
  },
  "language_info": {
   "codemirror_mode": {
    "name": "ipython",
    "version": 3
   },
   "file_extension": ".py",
   "mimetype": "text/x-python",
   "name": "python",
   "nbconvert_exporter": "python",
   "pygments_lexer": "ipython3",
   "version": "3.12.7"
  },
  "toc": {
   "base_numbering": 1,
   "nav_menu": {},
   "number_sections": true,
   "sideBar": true,
   "skip_h1_title": true,
   "title_cell": "Table of Contents",
   "title_sidebar": "Contents",
   "toc_cell": false,
   "toc_position": {},
   "toc_section_display": true,
   "toc_window_display": true
  }
 },
 "nbformat": 4,
 "nbformat_minor": 4
}
